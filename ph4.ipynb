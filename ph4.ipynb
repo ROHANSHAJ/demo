{
 "cells": [
  {
   "cell_type": "code",
   "execution_count": 74,
   "id": "d0ac1022",
   "metadata": {
    "colab": {
     "base_uri": "https://localhost:8080/"
    },
    "id": "d0ac1022",
    "outputId": "27e9207c-4aef-4f8f-d558-df4ff985f646"
   },
   "outputs": [
    {
     "name": "stdout",
     "output_type": "stream",
     "text": [
      "Requirement already satisfied: emoji in /usr/local/lib/python3.10/dist-packages (2.8.0)\n"
     ]
    }
   ],
   "source": [
    "pip install emoji\n"
   ]
  },
  {
   "cell_type": "code",
   "execution_count": 75,
   "id": "NSy8L1GggYHO",
   "metadata": {
    "colab": {
     "base_uri": "https://localhost:8080/"
    },
    "id": "NSy8L1GggYHO",
    "outputId": "7d429a0f-9313-4fa7-fbd3-8f0773831074"
   },
   "outputs": [
    {
     "name": "stdout",
     "output_type": "stream",
     "text": [
      "Requirement already satisfied: transformers in /usr/local/lib/python3.10/dist-packages (4.34.1)\n",
      "Requirement already satisfied: filelock in /usr/local/lib/python3.10/dist-packages (from transformers) (3.12.4)\n",
      "Requirement already satisfied: huggingface-hub<1.0,>=0.16.4 in /usr/local/lib/python3.10/dist-packages (from transformers) (0.17.3)\n",
      "Requirement already satisfied: numpy>=1.17 in /usr/local/lib/python3.10/dist-packages (from transformers) (1.23.5)\n",
      "Requirement already satisfied: packaging>=20.0 in /usr/local/lib/python3.10/dist-packages (from transformers) (23.2)\n",
      "Requirement already satisfied: pyyaml>=5.1 in /usr/local/lib/python3.10/dist-packages (from transformers) (6.0.1)\n",
      "Requirement already satisfied: regex!=2019.12.17 in /usr/local/lib/python3.10/dist-packages (from transformers) (2023.6.3)\n",
      "Requirement already satisfied: requests in /usr/local/lib/python3.10/dist-packages (from transformers) (2.31.0)\n",
      "Requirement already satisfied: tokenizers<0.15,>=0.14 in /usr/local/lib/python3.10/dist-packages (from transformers) (0.14.1)\n",
      "Requirement already satisfied: safetensors>=0.3.1 in /usr/local/lib/python3.10/dist-packages (from transformers) (0.4.0)\n",
      "Requirement already satisfied: tqdm>=4.27 in /usr/local/lib/python3.10/dist-packages (from transformers) (4.66.1)\n",
      "Requirement already satisfied: fsspec in /usr/local/lib/python3.10/dist-packages (from huggingface-hub<1.0,>=0.16.4->transformers) (2023.6.0)\n",
      "Requirement already satisfied: typing-extensions>=3.7.4.3 in /usr/local/lib/python3.10/dist-packages (from huggingface-hub<1.0,>=0.16.4->transformers) (4.5.0)\n",
      "Requirement already satisfied: charset-normalizer<4,>=2 in /usr/local/lib/python3.10/dist-packages (from requests->transformers) (3.3.0)\n",
      "Requirement already satisfied: idna<4,>=2.5 in /usr/local/lib/python3.10/dist-packages (from requests->transformers) (3.4)\n",
      "Requirement already satisfied: urllib3<3,>=1.21.1 in /usr/local/lib/python3.10/dist-packages (from requests->transformers) (2.0.7)\n",
      "Requirement already satisfied: certifi>=2017.4.17 in /usr/local/lib/python3.10/dist-packages (from requests->transformers) (2023.7.22)\n"
     ]
    }
   ],
   "source": [
    "!pip install transformers"
   ]
  },
  {
   "cell_type": "code",
   "execution_count": 76,
   "id": "1ef0d0fd",
   "metadata": {
    "colab": {
     "base_uri": "https://localhost:8080/"
    },
    "id": "1ef0d0fd",
    "outputId": "28973041-86e4-4adf-85e1-3d4489d7d28d"
   },
   "outputs": [
    {
     "name": "stdout",
     "output_type": "stream",
     "text": [
      "Requirement already satisfied: torch in /usr/local/lib/python3.10/dist-packages (2.1.0+cu118)\n",
      "Requirement already satisfied: filelock in /usr/local/lib/python3.10/dist-packages (from torch) (3.12.4)\n",
      "Requirement already satisfied: typing-extensions in /usr/local/lib/python3.10/dist-packages (from torch) (4.5.0)\n",
      "Requirement already satisfied: sympy in /usr/local/lib/python3.10/dist-packages (from torch) (1.12)\n",
      "Requirement already satisfied: networkx in /usr/local/lib/python3.10/dist-packages (from torch) (3.2)\n",
      "Requirement already satisfied: jinja2 in /usr/local/lib/python3.10/dist-packages (from torch) (3.1.2)\n",
      "Requirement already satisfied: fsspec in /usr/local/lib/python3.10/dist-packages (from torch) (2023.6.0)\n",
      "Requirement already satisfied: triton==2.1.0 in /usr/local/lib/python3.10/dist-packages (from torch) (2.1.0)\n",
      "Requirement already satisfied: MarkupSafe>=2.0 in /usr/local/lib/python3.10/dist-packages (from jinja2->torch) (2.1.3)\n",
      "Requirement already satisfied: mpmath>=0.19 in /usr/local/lib/python3.10/dist-packages (from sympy->torch) (1.3.0)\n"
     ]
    }
   ],
   "source": [
    "pip install torch\n"
   ]
  },
  {
   "cell_type": "code",
   "execution_count": 77,
   "id": "6de47e93",
   "metadata": {
    "colab": {
     "base_uri": "https://localhost:8080/"
    },
    "id": "6de47e93",
    "outputId": "7ba48de5-4a05-4266-d605-edb6763ca770",
    "scrolled": true
   },
   "outputs": [
    {
     "name": "stdout",
     "output_type": "stream",
     "text": [
      "Requirement already satisfied: transformers in /usr/local/lib/python3.10/dist-packages (4.34.1)\n",
      "Requirement already satisfied: filelock in /usr/local/lib/python3.10/dist-packages (from transformers) (3.12.4)\n",
      "Requirement already satisfied: huggingface-hub<1.0,>=0.16.4 in /usr/local/lib/python3.10/dist-packages (from transformers) (0.17.3)\n",
      "Requirement already satisfied: numpy>=1.17 in /usr/local/lib/python3.10/dist-packages (from transformers) (1.23.5)\n",
      "Requirement already satisfied: packaging>=20.0 in /usr/local/lib/python3.10/dist-packages (from transformers) (23.2)\n",
      "Requirement already satisfied: pyyaml>=5.1 in /usr/local/lib/python3.10/dist-packages (from transformers) (6.0.1)\n",
      "Requirement already satisfied: regex!=2019.12.17 in /usr/local/lib/python3.10/dist-packages (from transformers) (2023.6.3)\n",
      "Requirement already satisfied: requests in /usr/local/lib/python3.10/dist-packages (from transformers) (2.31.0)\n",
      "Requirement already satisfied: tokenizers<0.15,>=0.14 in /usr/local/lib/python3.10/dist-packages (from transformers) (0.14.1)\n",
      "Requirement already satisfied: safetensors>=0.3.1 in /usr/local/lib/python3.10/dist-packages (from transformers) (0.4.0)\n",
      "Requirement already satisfied: tqdm>=4.27 in /usr/local/lib/python3.10/dist-packages (from transformers) (4.66.1)\n",
      "Requirement already satisfied: fsspec in /usr/local/lib/python3.10/dist-packages (from huggingface-hub<1.0,>=0.16.4->transformers) (2023.6.0)\n",
      "Requirement already satisfied: typing-extensions>=3.7.4.3 in /usr/local/lib/python3.10/dist-packages (from huggingface-hub<1.0,>=0.16.4->transformers) (4.5.0)\n",
      "Requirement already satisfied: charset-normalizer<4,>=2 in /usr/local/lib/python3.10/dist-packages (from requests->transformers) (3.3.0)\n",
      "Requirement already satisfied: idna<4,>=2.5 in /usr/local/lib/python3.10/dist-packages (from requests->transformers) (3.4)\n",
      "Requirement already satisfied: urllib3<3,>=1.21.1 in /usr/local/lib/python3.10/dist-packages (from requests->transformers) (2.0.7)\n",
      "Requirement already satisfied: certifi>=2017.4.17 in /usr/local/lib/python3.10/dist-packages (from requests->transformers) (2023.7.22)\n"
     ]
    }
   ],
   "source": [
    "!pip install transformers"
   ]
  },
  {
   "cell_type": "code",
   "execution_count": 78,
   "id": "b14d7d82",
   "metadata": {
    "colab": {
     "base_uri": "https://localhost:8080/"
    },
    "id": "b14d7d82",
    "outputId": "7f577e6f-c715-452c-b0cf-6c21d83958c1"
   },
   "outputs": [
    {
     "name": "stdout",
     "output_type": "stream",
     "text": [
      "Requirement already satisfied: nltk in /usr/local/lib/python3.10/dist-packages (3.8.1)\n",
      "Requirement already satisfied: click in /usr/local/lib/python3.10/dist-packages (from nltk) (8.1.7)\n",
      "Requirement already satisfied: joblib in /usr/local/lib/python3.10/dist-packages (from nltk) (1.3.2)\n",
      "Requirement already satisfied: regex>=2021.8.3 in /usr/local/lib/python3.10/dist-packages (from nltk) (2023.6.3)\n",
      "Requirement already satisfied: tqdm in /usr/local/lib/python3.10/dist-packages (from nltk) (4.66.1)\n"
     ]
    }
   ],
   "source": [
    "pip install nltk"
   ]
  },
  {
   "cell_type": "code",
   "execution_count": 79,
   "id": "7eb75b1d",
   "metadata": {
    "colab": {
     "base_uri": "https://localhost:8080/"
    },
    "id": "7eb75b1d",
    "outputId": "f2604fab-0bfb-401b-9012-de28cb8d4ff5"
   },
   "outputs": [
    {
     "name": "stdout",
     "output_type": "stream",
     "text": [
      "Requirement already satisfied: pydot in /usr/local/lib/python3.10/dist-packages (1.4.2)\n",
      "Requirement already satisfied: pyparsing>=2.1.4 in /usr/local/lib/python3.10/dist-packages (from pydot) (3.1.1)\n"
     ]
    }
   ],
   "source": [
    "pip install pydot"
   ]
  },
  {
   "cell_type": "code",
   "execution_count": 80,
   "id": "2e5a5c22",
   "metadata": {
    "colab": {
     "base_uri": "https://localhost:8080/"
    },
    "id": "2e5a5c22",
    "outputId": "e9ae45dc-841a-4cea-c945-605015df83b6"
   },
   "outputs": [
    {
     "name": "stdout",
     "output_type": "stream",
     "text": [
      "Requirement already satisfied: graphviz in /usr/local/lib/python3.10/dist-packages (0.20.1)\n"
     ]
    }
   ],
   "source": [
    "pip install graphviz"
   ]
  },
  {
   "cell_type": "markdown",
   "id": "c918414e",
   "metadata": {
    "colab": {
     "base_uri": "https://localhost:8080/"
    },
    "id": "d23cc801",
    "outputId": "bfac5f35-bea8-4857-9ed3-1a77341bf6dc"
   },
   "source": [
    "pip install tensorflow"
   ]
  },
  {
   "cell_type": "code",
   "execution_count": 82,
   "id": "d0482d18",
   "metadata": {
    "colab": {
     "base_uri": "https://localhost:8080/"
    },
    "id": "d0482d18",
    "outputId": "1240d5e7-9a18-4579-fd3f-a154e17b860b"
   },
   "outputs": [
    {
     "name": "stdout",
     "output_type": "stream",
     "text": [
      "Requirement already satisfied: tensorflow==2.14.0 in /usr/local/lib/python3.10/dist-packages (2.14.0)\n",
      "Requirement already satisfied: absl-py>=1.0.0 in /usr/local/lib/python3.10/dist-packages (from tensorflow==2.14.0) (1.4.0)\n",
      "Requirement already satisfied: astunparse>=1.6.0 in /usr/local/lib/python3.10/dist-packages (from tensorflow==2.14.0) (1.6.3)\n",
      "Requirement already satisfied: flatbuffers>=23.5.26 in /usr/local/lib/python3.10/dist-packages (from tensorflow==2.14.0) (23.5.26)\n",
      "Requirement already satisfied: gast!=0.5.0,!=0.5.1,!=0.5.2,>=0.2.1 in /usr/local/lib/python3.10/dist-packages (from tensorflow==2.14.0) (0.5.4)\n",
      "Requirement already satisfied: google-pasta>=0.1.1 in /usr/local/lib/python3.10/dist-packages (from tensorflow==2.14.0) (0.2.0)\n",
      "Requirement already satisfied: h5py>=2.9.0 in /usr/local/lib/python3.10/dist-packages (from tensorflow==2.14.0) (3.9.0)\n",
      "Requirement already satisfied: libclang>=13.0.0 in /usr/local/lib/python3.10/dist-packages (from tensorflow==2.14.0) (16.0.6)\n",
      "Requirement already satisfied: ml-dtypes==0.2.0 in /usr/local/lib/python3.10/dist-packages (from tensorflow==2.14.0) (0.2.0)\n",
      "Requirement already satisfied: numpy>=1.23.5 in /usr/local/lib/python3.10/dist-packages (from tensorflow==2.14.0) (1.23.5)\n",
      "Requirement already satisfied: opt-einsum>=2.3.2 in /usr/local/lib/python3.10/dist-packages (from tensorflow==2.14.0) (3.3.0)\n",
      "Requirement already satisfied: packaging in /usr/local/lib/python3.10/dist-packages (from tensorflow==2.14.0) (23.2)\n",
      "Requirement already satisfied: protobuf!=4.21.0,!=4.21.1,!=4.21.2,!=4.21.3,!=4.21.4,!=4.21.5,<5.0.0dev,>=3.20.3 in /usr/local/lib/python3.10/dist-packages (from tensorflow==2.14.0) (3.20.3)\n",
      "Requirement already satisfied: setuptools in /usr/local/lib/python3.10/dist-packages (from tensorflow==2.14.0) (67.7.2)\n",
      "Requirement already satisfied: six>=1.12.0 in /usr/local/lib/python3.10/dist-packages (from tensorflow==2.14.0) (1.16.0)\n",
      "Requirement already satisfied: termcolor>=1.1.0 in /usr/local/lib/python3.10/dist-packages (from tensorflow==2.14.0) (2.3.0)\n",
      "Requirement already satisfied: typing-extensions>=3.6.6 in /usr/local/lib/python3.10/dist-packages (from tensorflow==2.14.0) (4.5.0)\n",
      "Requirement already satisfied: wrapt<1.15,>=1.11.0 in /usr/local/lib/python3.10/dist-packages (from tensorflow==2.14.0) (1.14.1)\n",
      "Requirement already satisfied: tensorflow-io-gcs-filesystem>=0.23.1 in /usr/local/lib/python3.10/dist-packages (from tensorflow==2.14.0) (0.34.0)\n",
      "Requirement already satisfied: grpcio<2.0,>=1.24.3 in /usr/local/lib/python3.10/dist-packages (from tensorflow==2.14.0) (1.59.0)\n",
      "Requirement already satisfied: tensorboard<2.15,>=2.14 in /usr/local/lib/python3.10/dist-packages (from tensorflow==2.14.0) (2.14.1)\n",
      "Requirement already satisfied: tensorflow-estimator<2.15,>=2.14.0 in /usr/local/lib/python3.10/dist-packages (from tensorflow==2.14.0) (2.14.0)\n",
      "Requirement already satisfied: keras<2.15,>=2.14.0 in /usr/local/lib/python3.10/dist-packages (from tensorflow==2.14.0) (2.14.0)\n",
      "Requirement already satisfied: wheel<1.0,>=0.23.0 in /usr/local/lib/python3.10/dist-packages (from astunparse>=1.6.0->tensorflow==2.14.0) (0.41.2)\n",
      "Requirement already satisfied: google-auth<3,>=1.6.3 in /usr/local/lib/python3.10/dist-packages (from tensorboard<2.15,>=2.14->tensorflow==2.14.0) (2.17.3)\n",
      "Requirement already satisfied: google-auth-oauthlib<1.1,>=0.5 in /usr/local/lib/python3.10/dist-packages (from tensorboard<2.15,>=2.14->tensorflow==2.14.0) (1.0.0)\n",
      "Requirement already satisfied: markdown>=2.6.8 in /usr/local/lib/python3.10/dist-packages (from tensorboard<2.15,>=2.14->tensorflow==2.14.0) (3.5)\n",
      "Requirement already satisfied: requests<3,>=2.21.0 in /usr/local/lib/python3.10/dist-packages (from tensorboard<2.15,>=2.14->tensorflow==2.14.0) (2.31.0)\n",
      "Requirement already satisfied: tensorboard-data-server<0.8.0,>=0.7.0 in /usr/local/lib/python3.10/dist-packages (from tensorboard<2.15,>=2.14->tensorflow==2.14.0) (0.7.1)\n",
      "Requirement already satisfied: werkzeug>=1.0.1 in /usr/local/lib/python3.10/dist-packages (from tensorboard<2.15,>=2.14->tensorflow==2.14.0) (3.0.0)\n",
      "Requirement already satisfied: cachetools<6.0,>=2.0.0 in /usr/local/lib/python3.10/dist-packages (from google-auth<3,>=1.6.3->tensorboard<2.15,>=2.14->tensorflow==2.14.0) (5.3.1)\n",
      "Requirement already satisfied: pyasn1-modules>=0.2.1 in /usr/local/lib/python3.10/dist-packages (from google-auth<3,>=1.6.3->tensorboard<2.15,>=2.14->tensorflow==2.14.0) (0.3.0)\n",
      "Requirement already satisfied: rsa<5,>=3.1.4 in /usr/local/lib/python3.10/dist-packages (from google-auth<3,>=1.6.3->tensorboard<2.15,>=2.14->tensorflow==2.14.0) (4.9)\n",
      "Requirement already satisfied: requests-oauthlib>=0.7.0 in /usr/local/lib/python3.10/dist-packages (from google-auth-oauthlib<1.1,>=0.5->tensorboard<2.15,>=2.14->tensorflow==2.14.0) (1.3.1)\n",
      "Requirement already satisfied: charset-normalizer<4,>=2 in /usr/local/lib/python3.10/dist-packages (from requests<3,>=2.21.0->tensorboard<2.15,>=2.14->tensorflow==2.14.0) (3.3.0)\n",
      "Requirement already satisfied: idna<4,>=2.5 in /usr/local/lib/python3.10/dist-packages (from requests<3,>=2.21.0->tensorboard<2.15,>=2.14->tensorflow==2.14.0) (3.4)\n",
      "Requirement already satisfied: urllib3<3,>=1.21.1 in /usr/local/lib/python3.10/dist-packages (from requests<3,>=2.21.0->tensorboard<2.15,>=2.14->tensorflow==2.14.0) (2.0.7)\n",
      "Requirement already satisfied: certifi>=2017.4.17 in /usr/local/lib/python3.10/dist-packages (from requests<3,>=2.21.0->tensorboard<2.15,>=2.14->tensorflow==2.14.0) (2023.7.22)\n",
      "Requirement already satisfied: MarkupSafe>=2.1.1 in /usr/local/lib/python3.10/dist-packages (from werkzeug>=1.0.1->tensorboard<2.15,>=2.14->tensorflow==2.14.0) (2.1.3)\n",
      "Requirement already satisfied: pyasn1<0.6.0,>=0.4.6 in /usr/local/lib/python3.10/dist-packages (from pyasn1-modules>=0.2.1->google-auth<3,>=1.6.3->tensorboard<2.15,>=2.14->tensorflow==2.14.0) (0.5.0)\n",
      "Requirement already satisfied: oauthlib>=3.0.0 in /usr/local/lib/python3.10/dist-packages (from requests-oauthlib>=0.7.0->google-auth-oauthlib<1.1,>=0.5->tensorboard<2.15,>=2.14->tensorflow==2.14.0) (3.2.2)\n"
     ]
    }
   ],
   "source": [
    "pip install tensorflow==2.14.0"
   ]
  },
  {
   "cell_type": "code",
   "execution_count": 83,
   "id": "09a48f46",
   "metadata": {
    "id": "09a48f46"
   },
   "outputs": [],
   "source": [
    "import numpy as np\n",
    "import pandas as pd\n",
    "\n",
    "import re\n",
    "import emoji\n",
    "import re\n",
    "\n",
    "from nltk.stem import PorterStemmer\n",
    "from tensorflow.keras.preprocessing.text import Tokenizer\n",
    "from sklearn.model_selection import train_test_split\n",
    "pd.set_option('display.max_colwidth',200)\n",
    "from tensorflow.keras.preprocessing.sequence import pad_sequences\n",
    "from tensorflow.keras.preprocessing.text import Tokenizer\n",
    "import matplotlib.pyplot as plt\n",
    "import tensorflow as tf\n",
    "import torch\n",
    "# importing nn module\n",
    "import torch.nn as nn\n",
    "#library for progress bar\n",
    "from tqdm import notebook\n",
    "from torch.utils.data import TensorDataset, DataLoader, RandomSampler, SequentialSampler\n",
    "\n",
    "\n",
    "#library for computing class weights\n",
    "from sklearn.utils.class_weight import compute_class_weight\n",
    "\n",
    "from sklearn.metrics import classification_report\n",
    "\n",
    "\n",
    "import time\n",
    "import datetime\n"
   ]
  },
  {
   "cell_type": "code",
   "execution_count": 84,
   "id": "6d735a7e",
   "metadata": {
    "id": "6d735a7e",
    "scrolled": true
   },
   "outputs": [],
   "source": [
    "# Checking if GPU is available.\n",
    "if torch.cuda.is_available():\n",
    "  device=torch.device('cuda')"
   ]
  },
  {
   "cell_type": "code",
   "execution_count": 85,
   "id": "18a1541e",
   "metadata": {
    "colab": {
     "base_uri": "https://localhost:8080/",
     "height": 54
    },
    "id": "18a1541e",
    "outputId": "d945e8d5-4aee-4461-9556-5105b8fd0fb0",
    "scrolled": true
   },
   "outputs": [
    {
     "name": "stdout",
     "output_type": "stream",
     "text": [
      "cuda\n"
     ]
    },
    {
     "data": {
      "application/vnd.google.colaboratory.intrinsic+json": {
       "type": "string"
      },
      "text/plain": [
       "'Tesla T4'"
      ]
     },
     "execution_count": 85,
     "metadata": {},
     "output_type": "execute_result"
    }
   ],
   "source": [
    "print(device)\n",
    "torch.cuda.get_device_name(0)\n",
    "# Current GPU is Tesla T4"
   ]
  },
  {
   "cell_type": "code",
   "execution_count": 86,
   "id": "9dc1fa0a",
   "metadata": {
    "id": "9dc1fa0a"
   },
   "outputs": [],
   "source": [
    "data = pd.read_csv('Tweets.csv')"
   ]
  },
  {
   "cell_type": "code",
   "execution_count": 87,
   "id": "f8278122",
   "metadata": {
    "colab": {
     "base_uri": "https://localhost:8080/",
     "height": 642
    },
    "id": "f8278122",
    "outputId": "8c5dd0c9-2a5c-4361-dfa9-b391b10c5e0e"
   },
   "outputs": [
    {
     "data": {
      "text/html": [
       "\n",
       "  <div id=\"df-75b25499-1fe5-4488-a3f9-c437dd59b81f\" class=\"colab-df-container\">\n",
       "    <div>\n",
       "<style scoped>\n",
       "    .dataframe tbody tr th:only-of-type {\n",
       "        vertical-align: middle;\n",
       "    }\n",
       "\n",
       "    .dataframe tbody tr th {\n",
       "        vertical-align: top;\n",
       "    }\n",
       "\n",
       "    .dataframe thead th {\n",
       "        text-align: right;\n",
       "    }\n",
       "</style>\n",
       "<table border=\"1\" class=\"dataframe\">\n",
       "  <thead>\n",
       "    <tr style=\"text-align: right;\">\n",
       "      <th></th>\n",
       "      <th>tweet_id</th>\n",
       "      <th>airline_sentiment</th>\n",
       "      <th>airline_sentiment_confidence</th>\n",
       "      <th>negativereason</th>\n",
       "      <th>negativereason_confidence</th>\n",
       "      <th>airline</th>\n",
       "      <th>airline_sentiment_gold</th>\n",
       "      <th>name</th>\n",
       "      <th>negativereason_gold</th>\n",
       "      <th>retweet_count</th>\n",
       "      <th>text</th>\n",
       "      <th>tweet_coord</th>\n",
       "      <th>tweet_created</th>\n",
       "      <th>tweet_location</th>\n",
       "      <th>user_timezone</th>\n",
       "    </tr>\n",
       "  </thead>\n",
       "  <tbody>\n",
       "    <tr>\n",
       "      <th>0</th>\n",
       "      <td>570306133677760513</td>\n",
       "      <td>neutral</td>\n",
       "      <td>1.0000</td>\n",
       "      <td>NaN</td>\n",
       "      <td>NaN</td>\n",
       "      <td>Virgin America</td>\n",
       "      <td>NaN</td>\n",
       "      <td>cairdin</td>\n",
       "      <td>NaN</td>\n",
       "      <td>0</td>\n",
       "      <td>@VirginAmerica What @dhepburn said.</td>\n",
       "      <td>NaN</td>\n",
       "      <td>2015-02-24 11:35:52 -0800</td>\n",
       "      <td>NaN</td>\n",
       "      <td>Eastern Time (US &amp; Canada)</td>\n",
       "    </tr>\n",
       "    <tr>\n",
       "      <th>1</th>\n",
       "      <td>570301130888122368</td>\n",
       "      <td>positive</td>\n",
       "      <td>0.3486</td>\n",
       "      <td>NaN</td>\n",
       "      <td>0.0000</td>\n",
       "      <td>Virgin America</td>\n",
       "      <td>NaN</td>\n",
       "      <td>jnardino</td>\n",
       "      <td>NaN</td>\n",
       "      <td>0</td>\n",
       "      <td>@VirginAmerica plus you've added commercials to the experience... tacky.</td>\n",
       "      <td>NaN</td>\n",
       "      <td>2015-02-24 11:15:59 -0800</td>\n",
       "      <td>NaN</td>\n",
       "      <td>Pacific Time (US &amp; Canada)</td>\n",
       "    </tr>\n",
       "    <tr>\n",
       "      <th>2</th>\n",
       "      <td>570301083672813571</td>\n",
       "      <td>neutral</td>\n",
       "      <td>0.6837</td>\n",
       "      <td>NaN</td>\n",
       "      <td>NaN</td>\n",
       "      <td>Virgin America</td>\n",
       "      <td>NaN</td>\n",
       "      <td>yvonnalynn</td>\n",
       "      <td>NaN</td>\n",
       "      <td>0</td>\n",
       "      <td>@VirginAmerica I didn't today... Must mean I need to take another trip!</td>\n",
       "      <td>NaN</td>\n",
       "      <td>2015-02-24 11:15:48 -0800</td>\n",
       "      <td>Lets Play</td>\n",
       "      <td>Central Time (US &amp; Canada)</td>\n",
       "    </tr>\n",
       "    <tr>\n",
       "      <th>3</th>\n",
       "      <td>570301031407624196</td>\n",
       "      <td>negative</td>\n",
       "      <td>1.0000</td>\n",
       "      <td>Bad Flight</td>\n",
       "      <td>0.7033</td>\n",
       "      <td>Virgin America</td>\n",
       "      <td>NaN</td>\n",
       "      <td>jnardino</td>\n",
       "      <td>NaN</td>\n",
       "      <td>0</td>\n",
       "      <td>@VirginAmerica it's really aggressive to blast obnoxious \"entertainment\" in your guests' faces &amp;amp; they have little recourse</td>\n",
       "      <td>NaN</td>\n",
       "      <td>2015-02-24 11:15:36 -0800</td>\n",
       "      <td>NaN</td>\n",
       "      <td>Pacific Time (US &amp; Canada)</td>\n",
       "    </tr>\n",
       "    <tr>\n",
       "      <th>4</th>\n",
       "      <td>570300817074462722</td>\n",
       "      <td>negative</td>\n",
       "      <td>1.0000</td>\n",
       "      <td>Can't Tell</td>\n",
       "      <td>1.0000</td>\n",
       "      <td>Virgin America</td>\n",
       "      <td>NaN</td>\n",
       "      <td>jnardino</td>\n",
       "      <td>NaN</td>\n",
       "      <td>0</td>\n",
       "      <td>@VirginAmerica and it's a really big bad thing about it</td>\n",
       "      <td>NaN</td>\n",
       "      <td>2015-02-24 11:14:45 -0800</td>\n",
       "      <td>NaN</td>\n",
       "      <td>Pacific Time (US &amp; Canada)</td>\n",
       "    </tr>\n",
       "  </tbody>\n",
       "</table>\n",
       "</div>\n",
       "    <div class=\"colab-df-buttons\">\n",
       "\n",
       "  <div class=\"colab-df-container\">\n",
       "    <button class=\"colab-df-convert\" onclick=\"convertToInteractive('df-75b25499-1fe5-4488-a3f9-c437dd59b81f')\"\n",
       "            title=\"Convert this dataframe to an interactive table.\"\n",
       "            style=\"display:none;\">\n",
       "\n",
       "  <svg xmlns=\"http://www.w3.org/2000/svg\" height=\"24px\" viewBox=\"0 -960 960 960\">\n",
       "    <path d=\"M120-120v-720h720v720H120Zm60-500h600v-160H180v160Zm220 220h160v-160H400v160Zm0 220h160v-160H400v160ZM180-400h160v-160H180v160Zm440 0h160v-160H620v160ZM180-180h160v-160H180v160Zm440 0h160v-160H620v160Z\"/>\n",
       "  </svg>\n",
       "    </button>\n",
       "\n",
       "  <style>\n",
       "    .colab-df-container {\n",
       "      display:flex;\n",
       "      gap: 12px;\n",
       "    }\n",
       "\n",
       "    .colab-df-convert {\n",
       "      background-color: #E8F0FE;\n",
       "      border: none;\n",
       "      border-radius: 50%;\n",
       "      cursor: pointer;\n",
       "      display: none;\n",
       "      fill: #1967D2;\n",
       "      height: 32px;\n",
       "      padding: 0 0 0 0;\n",
       "      width: 32px;\n",
       "    }\n",
       "\n",
       "    .colab-df-convert:hover {\n",
       "      background-color: #E2EBFA;\n",
       "      box-shadow: 0px 1px 2px rgba(60, 64, 67, 0.3), 0px 1px 3px 1px rgba(60, 64, 67, 0.15);\n",
       "      fill: #174EA6;\n",
       "    }\n",
       "\n",
       "    .colab-df-buttons div {\n",
       "      margin-bottom: 4px;\n",
       "    }\n",
       "\n",
       "    [theme=dark] .colab-df-convert {\n",
       "      background-color: #3B4455;\n",
       "      fill: #D2E3FC;\n",
       "    }\n",
       "\n",
       "    [theme=dark] .colab-df-convert:hover {\n",
       "      background-color: #434B5C;\n",
       "      box-shadow: 0px 1px 3px 1px rgba(0, 0, 0, 0.15);\n",
       "      filter: drop-shadow(0px 1px 2px rgba(0, 0, 0, 0.3));\n",
       "      fill: #FFFFFF;\n",
       "    }\n",
       "  </style>\n",
       "\n",
       "    <script>\n",
       "      const buttonEl =\n",
       "        document.querySelector('#df-75b25499-1fe5-4488-a3f9-c437dd59b81f button.colab-df-convert');\n",
       "      buttonEl.style.display =\n",
       "        google.colab.kernel.accessAllowed ? 'block' : 'none';\n",
       "\n",
       "      async function convertToInteractive(key) {\n",
       "        const element = document.querySelector('#df-75b25499-1fe5-4488-a3f9-c437dd59b81f');\n",
       "        const dataTable =\n",
       "          await google.colab.kernel.invokeFunction('convertToInteractive',\n",
       "                                                    [key], {});\n",
       "        if (!dataTable) return;\n",
       "\n",
       "        const docLinkHtml = 'Like what you see? Visit the ' +\n",
       "          '<a target=\"_blank\" href=https://colab.research.google.com/notebooks/data_table.ipynb>data table notebook</a>'\n",
       "          + ' to learn more about interactive tables.';\n",
       "        element.innerHTML = '';\n",
       "        dataTable['output_type'] = 'display_data';\n",
       "        await google.colab.output.renderOutput(dataTable, element);\n",
       "        const docLink = document.createElement('div');\n",
       "        docLink.innerHTML = docLinkHtml;\n",
       "        element.appendChild(docLink);\n",
       "      }\n",
       "    </script>\n",
       "  </div>\n",
       "\n",
       "\n",
       "<div id=\"df-62cbffd7-1b03-4aac-97d2-143e74cd067c\">\n",
       "  <button class=\"colab-df-quickchart\" onclick=\"quickchart('df-62cbffd7-1b03-4aac-97d2-143e74cd067c')\"\n",
       "            title=\"Suggest charts.\"\n",
       "            style=\"display:none;\">\n",
       "\n",
       "<svg xmlns=\"http://www.w3.org/2000/svg\" height=\"24px\"viewBox=\"0 0 24 24\"\n",
       "     width=\"24px\">\n",
       "    <g>\n",
       "        <path d=\"M19 3H5c-1.1 0-2 .9-2 2v14c0 1.1.9 2 2 2h14c1.1 0 2-.9 2-2V5c0-1.1-.9-2-2-2zM9 17H7v-7h2v7zm4 0h-2V7h2v10zm4 0h-2v-4h2v4z\"/>\n",
       "    </g>\n",
       "</svg>\n",
       "  </button>\n",
       "\n",
       "<style>\n",
       "  .colab-df-quickchart {\n",
       "      --bg-color: #E8F0FE;\n",
       "      --fill-color: #1967D2;\n",
       "      --hover-bg-color: #E2EBFA;\n",
       "      --hover-fill-color: #174EA6;\n",
       "      --disabled-fill-color: #AAA;\n",
       "      --disabled-bg-color: #DDD;\n",
       "  }\n",
       "\n",
       "  [theme=dark] .colab-df-quickchart {\n",
       "      --bg-color: #3B4455;\n",
       "      --fill-color: #D2E3FC;\n",
       "      --hover-bg-color: #434B5C;\n",
       "      --hover-fill-color: #FFFFFF;\n",
       "      --disabled-bg-color: #3B4455;\n",
       "      --disabled-fill-color: #666;\n",
       "  }\n",
       "\n",
       "  .colab-df-quickchart {\n",
       "    background-color: var(--bg-color);\n",
       "    border: none;\n",
       "    border-radius: 50%;\n",
       "    cursor: pointer;\n",
       "    display: none;\n",
       "    fill: var(--fill-color);\n",
       "    height: 32px;\n",
       "    padding: 0;\n",
       "    width: 32px;\n",
       "  }\n",
       "\n",
       "  .colab-df-quickchart:hover {\n",
       "    background-color: var(--hover-bg-color);\n",
       "    box-shadow: 0 1px 2px rgba(60, 64, 67, 0.3), 0 1px 3px 1px rgba(60, 64, 67, 0.15);\n",
       "    fill: var(--button-hover-fill-color);\n",
       "  }\n",
       "\n",
       "  .colab-df-quickchart-complete:disabled,\n",
       "  .colab-df-quickchart-complete:disabled:hover {\n",
       "    background-color: var(--disabled-bg-color);\n",
       "    fill: var(--disabled-fill-color);\n",
       "    box-shadow: none;\n",
       "  }\n",
       "\n",
       "  .colab-df-spinner {\n",
       "    border: 2px solid var(--fill-color);\n",
       "    border-color: transparent;\n",
       "    border-bottom-color: var(--fill-color);\n",
       "    animation:\n",
       "      spin 1s steps(1) infinite;\n",
       "  }\n",
       "\n",
       "  @keyframes spin {\n",
       "    0% {\n",
       "      border-color: transparent;\n",
       "      border-bottom-color: var(--fill-color);\n",
       "      border-left-color: var(--fill-color);\n",
       "    }\n",
       "    20% {\n",
       "      border-color: transparent;\n",
       "      border-left-color: var(--fill-color);\n",
       "      border-top-color: var(--fill-color);\n",
       "    }\n",
       "    30% {\n",
       "      border-color: transparent;\n",
       "      border-left-color: var(--fill-color);\n",
       "      border-top-color: var(--fill-color);\n",
       "      border-right-color: var(--fill-color);\n",
       "    }\n",
       "    40% {\n",
       "      border-color: transparent;\n",
       "      border-right-color: var(--fill-color);\n",
       "      border-top-color: var(--fill-color);\n",
       "    }\n",
       "    60% {\n",
       "      border-color: transparent;\n",
       "      border-right-color: var(--fill-color);\n",
       "    }\n",
       "    80% {\n",
       "      border-color: transparent;\n",
       "      border-right-color: var(--fill-color);\n",
       "      border-bottom-color: var(--fill-color);\n",
       "    }\n",
       "    90% {\n",
       "      border-color: transparent;\n",
       "      border-bottom-color: var(--fill-color);\n",
       "    }\n",
       "  }\n",
       "</style>\n",
       "\n",
       "  <script>\n",
       "    async function quickchart(key) {\n",
       "      const quickchartButtonEl =\n",
       "        document.querySelector('#' + key + ' button');\n",
       "      quickchartButtonEl.disabled = true;  // To prevent multiple clicks.\n",
       "      quickchartButtonEl.classList.add('colab-df-spinner');\n",
       "      try {\n",
       "        const charts = await google.colab.kernel.invokeFunction(\n",
       "            'suggestCharts', [key], {});\n",
       "      } catch (error) {\n",
       "        console.error('Error during call to suggestCharts:', error);\n",
       "      }\n",
       "      quickchartButtonEl.classList.remove('colab-df-spinner');\n",
       "      quickchartButtonEl.classList.add('colab-df-quickchart-complete');\n",
       "    }\n",
       "    (() => {\n",
       "      let quickchartButtonEl =\n",
       "        document.querySelector('#df-62cbffd7-1b03-4aac-97d2-143e74cd067c button');\n",
       "      quickchartButtonEl.style.display =\n",
       "        google.colab.kernel.accessAllowed ? 'block' : 'none';\n",
       "    })();\n",
       "  </script>\n",
       "</div>\n",
       "    </div>\n",
       "  </div>\n"
      ],
      "text/plain": [
       "             tweet_id airline_sentiment  airline_sentiment_confidence  \\\n",
       "0  570306133677760513           neutral                        1.0000   \n",
       "1  570301130888122368          positive                        0.3486   \n",
       "2  570301083672813571           neutral                        0.6837   \n",
       "3  570301031407624196          negative                        1.0000   \n",
       "4  570300817074462722          negative                        1.0000   \n",
       "\n",
       "  negativereason  negativereason_confidence         airline  \\\n",
       "0            NaN                        NaN  Virgin America   \n",
       "1            NaN                     0.0000  Virgin America   \n",
       "2            NaN                        NaN  Virgin America   \n",
       "3     Bad Flight                     0.7033  Virgin America   \n",
       "4     Can't Tell                     1.0000  Virgin America   \n",
       "\n",
       "  airline_sentiment_gold        name negativereason_gold  retweet_count  \\\n",
       "0                    NaN     cairdin                 NaN              0   \n",
       "1                    NaN    jnardino                 NaN              0   \n",
       "2                    NaN  yvonnalynn                 NaN              0   \n",
       "3                    NaN    jnardino                 NaN              0   \n",
       "4                    NaN    jnardino                 NaN              0   \n",
       "\n",
       "                                                                                                                             text  \\\n",
       "0                                                                                             @VirginAmerica What @dhepburn said.   \n",
       "1                                                        @VirginAmerica plus you've added commercials to the experience... tacky.   \n",
       "2                                                         @VirginAmerica I didn't today... Must mean I need to take another trip!   \n",
       "3  @VirginAmerica it's really aggressive to blast obnoxious \"entertainment\" in your guests' faces &amp; they have little recourse   \n",
       "4                                                                         @VirginAmerica and it's a really big bad thing about it   \n",
       "\n",
       "  tweet_coord              tweet_created tweet_location  \\\n",
       "0         NaN  2015-02-24 11:35:52 -0800            NaN   \n",
       "1         NaN  2015-02-24 11:15:59 -0800            NaN   \n",
       "2         NaN  2015-02-24 11:15:48 -0800      Lets Play   \n",
       "3         NaN  2015-02-24 11:15:36 -0800            NaN   \n",
       "4         NaN  2015-02-24 11:14:45 -0800            NaN   \n",
       "\n",
       "                user_timezone  \n",
       "0  Eastern Time (US & Canada)  \n",
       "1  Pacific Time (US & Canada)  \n",
       "2  Central Time (US & Canada)  \n",
       "3  Pacific Time (US & Canada)  \n",
       "4  Pacific Time (US & Canada)  "
      ]
     },
     "execution_count": 87,
     "metadata": {},
     "output_type": "execute_result"
    }
   ],
   "source": [
    "data.head()\n"
   ]
  },
  {
   "cell_type": "code",
   "execution_count": 88,
   "id": "2cf931a6",
   "metadata": {
    "colab": {
     "base_uri": "https://localhost:8080/",
     "height": 1000
    },
    "id": "2cf931a6",
    "outputId": "25d57151-cc8b-41f1-e70e-48f9de2d42fb"
   },
   "outputs": [
    {
     "data": {
      "text/html": [
       "\n",
       "  <div id=\"df-8bb9199a-d9eb-4763-b0a3-d537e76fb1d6\" class=\"colab-df-container\">\n",
       "    <div>\n",
       "<style scoped>\n",
       "    .dataframe tbody tr th:only-of-type {\n",
       "        vertical-align: middle;\n",
       "    }\n",
       "\n",
       "    .dataframe tbody tr th {\n",
       "        vertical-align: top;\n",
       "    }\n",
       "\n",
       "    .dataframe thead th {\n",
       "        text-align: right;\n",
       "    }\n",
       "</style>\n",
       "<table border=\"1\" class=\"dataframe\">\n",
       "  <thead>\n",
       "    <tr style=\"text-align: right;\">\n",
       "      <th></th>\n",
       "      <th>tweet_id</th>\n",
       "      <th>airline_sentiment</th>\n",
       "      <th>airline_sentiment_confidence</th>\n",
       "      <th>negativereason</th>\n",
       "      <th>negativereason_confidence</th>\n",
       "      <th>airline</th>\n",
       "      <th>airline_sentiment_gold</th>\n",
       "      <th>name</th>\n",
       "      <th>negativereason_gold</th>\n",
       "      <th>retweet_count</th>\n",
       "      <th>text</th>\n",
       "      <th>tweet_coord</th>\n",
       "      <th>tweet_created</th>\n",
       "      <th>tweet_location</th>\n",
       "      <th>user_timezone</th>\n",
       "    </tr>\n",
       "  </thead>\n",
       "  <tbody>\n",
       "    <tr>\n",
       "      <th>0</th>\n",
       "      <td>570306133677760513</td>\n",
       "      <td>neutral</td>\n",
       "      <td>1.0000</td>\n",
       "      <td>NaN</td>\n",
       "      <td>NaN</td>\n",
       "      <td>Virgin America</td>\n",
       "      <td>NaN</td>\n",
       "      <td>cairdin</td>\n",
       "      <td>NaN</td>\n",
       "      <td>0</td>\n",
       "      <td>@VirginAmerica What @dhepburn said.</td>\n",
       "      <td>NaN</td>\n",
       "      <td>2015-02-24 11:35:52 -0800</td>\n",
       "      <td>NaN</td>\n",
       "      <td>Eastern Time (US &amp; Canada)</td>\n",
       "    </tr>\n",
       "    <tr>\n",
       "      <th>1</th>\n",
       "      <td>570301130888122368</td>\n",
       "      <td>positive</td>\n",
       "      <td>0.3486</td>\n",
       "      <td>NaN</td>\n",
       "      <td>0.0000</td>\n",
       "      <td>Virgin America</td>\n",
       "      <td>NaN</td>\n",
       "      <td>jnardino</td>\n",
       "      <td>NaN</td>\n",
       "      <td>0</td>\n",
       "      <td>@VirginAmerica plus you've added commercials to the experience... tacky.</td>\n",
       "      <td>NaN</td>\n",
       "      <td>2015-02-24 11:15:59 -0800</td>\n",
       "      <td>NaN</td>\n",
       "      <td>Pacific Time (US &amp; Canada)</td>\n",
       "    </tr>\n",
       "    <tr>\n",
       "      <th>2</th>\n",
       "      <td>570301083672813571</td>\n",
       "      <td>neutral</td>\n",
       "      <td>0.6837</td>\n",
       "      <td>NaN</td>\n",
       "      <td>NaN</td>\n",
       "      <td>Virgin America</td>\n",
       "      <td>NaN</td>\n",
       "      <td>yvonnalynn</td>\n",
       "      <td>NaN</td>\n",
       "      <td>0</td>\n",
       "      <td>@VirginAmerica I didn't today... Must mean I need to take another trip!</td>\n",
       "      <td>NaN</td>\n",
       "      <td>2015-02-24 11:15:48 -0800</td>\n",
       "      <td>Lets Play</td>\n",
       "      <td>Central Time (US &amp; Canada)</td>\n",
       "    </tr>\n",
       "    <tr>\n",
       "      <th>3</th>\n",
       "      <td>570301031407624196</td>\n",
       "      <td>negative</td>\n",
       "      <td>1.0000</td>\n",
       "      <td>Bad Flight</td>\n",
       "      <td>0.7033</td>\n",
       "      <td>Virgin America</td>\n",
       "      <td>NaN</td>\n",
       "      <td>jnardino</td>\n",
       "      <td>NaN</td>\n",
       "      <td>0</td>\n",
       "      <td>@VirginAmerica it's really aggressive to blast obnoxious \"entertainment\" in your guests' faces &amp;amp; they have little recourse</td>\n",
       "      <td>NaN</td>\n",
       "      <td>2015-02-24 11:15:36 -0800</td>\n",
       "      <td>NaN</td>\n",
       "      <td>Pacific Time (US &amp; Canada)</td>\n",
       "    </tr>\n",
       "    <tr>\n",
       "      <th>4</th>\n",
       "      <td>570300817074462722</td>\n",
       "      <td>negative</td>\n",
       "      <td>1.0000</td>\n",
       "      <td>Can't Tell</td>\n",
       "      <td>1.0000</td>\n",
       "      <td>Virgin America</td>\n",
       "      <td>NaN</td>\n",
       "      <td>jnardino</td>\n",
       "      <td>NaN</td>\n",
       "      <td>0</td>\n",
       "      <td>@VirginAmerica and it's a really big bad thing about it</td>\n",
       "      <td>NaN</td>\n",
       "      <td>2015-02-24 11:14:45 -0800</td>\n",
       "      <td>NaN</td>\n",
       "      <td>Pacific Time (US &amp; Canada)</td>\n",
       "    </tr>\n",
       "    <tr>\n",
       "      <th>...</th>\n",
       "      <td>...</td>\n",
       "      <td>...</td>\n",
       "      <td>...</td>\n",
       "      <td>...</td>\n",
       "      <td>...</td>\n",
       "      <td>...</td>\n",
       "      <td>...</td>\n",
       "      <td>...</td>\n",
       "      <td>...</td>\n",
       "      <td>...</td>\n",
       "      <td>...</td>\n",
       "      <td>...</td>\n",
       "      <td>...</td>\n",
       "      <td>...</td>\n",
       "      <td>...</td>\n",
       "    </tr>\n",
       "    <tr>\n",
       "      <th>13504</th>\n",
       "      <td>569846356409339906</td>\n",
       "      <td>positive</td>\n",
       "      <td>1.0000</td>\n",
       "      <td>NaN</td>\n",
       "      <td>NaN</td>\n",
       "      <td>American</td>\n",
       "      <td>NaN</td>\n",
       "      <td>LisaMitchL</td>\n",
       "      <td>NaN</td>\n",
       "      <td>0</td>\n",
       "      <td>@AmericanAir thank you for doing the best you could to get me rebooked. Agent on phone &amp;amp; addtl resolution on DM was very much appreciated.</td>\n",
       "      <td>NaN</td>\n",
       "      <td>2015-02-23 05:08:53 -0800</td>\n",
       "      <td>Indianapolis</td>\n",
       "      <td>Eastern Time (US &amp; Canada)</td>\n",
       "    </tr>\n",
       "    <tr>\n",
       "      <th>13505</th>\n",
       "      <td>569846302663688192</td>\n",
       "      <td>negative</td>\n",
       "      <td>1.0000</td>\n",
       "      <td>Customer Service Issue</td>\n",
       "      <td>0.6834</td>\n",
       "      <td>American</td>\n",
       "      <td>NaN</td>\n",
       "      <td>HaileyUrban</td>\n",
       "      <td>NaN</td>\n",
       "      <td>0</td>\n",
       "      <td>@AmericanAir no email no phone call no nothing. You've screwed with my flight and my family/Friends flights. You Cancelled Flighted reservations for</td>\n",
       "      <td>NaN</td>\n",
       "      <td>2015-02-23 05:08:40 -0800</td>\n",
       "      <td>NaN</td>\n",
       "      <td>Alaska</td>\n",
       "    </tr>\n",
       "    <tr>\n",
       "      <th>13506</th>\n",
       "      <td>569846045892608001</td>\n",
       "      <td>negative</td>\n",
       "      <td>1.0000</td>\n",
       "      <td>Customer Service Issue</td>\n",
       "      <td>0.6414</td>\n",
       "      <td>American</td>\n",
       "      <td>NaN</td>\n",
       "      <td>stephenmartino</td>\n",
       "      <td>NaN</td>\n",
       "      <td>0</td>\n",
       "      <td>@AmericanAir If you care, could you have someone call me to explain what is going on.</td>\n",
       "      <td>NaN</td>\n",
       "      <td>2015-02-23 05:07:39 -0800</td>\n",
       "      <td>Baltimore, Maryland</td>\n",
       "      <td>Central Time (US &amp; Canada)</td>\n",
       "    </tr>\n",
       "    <tr>\n",
       "      <th>13507</th>\n",
       "      <td>569846023553720321</td>\n",
       "      <td>negative</td>\n",
       "      <td>1.0000</td>\n",
       "      <td>Customer Service Issue</td>\n",
       "      <td>0.6681</td>\n",
       "      <td>American</td>\n",
       "      <td>NaN</td>\n",
       "      <td>SFaldon_Sports</td>\n",
       "      <td>NaN</td>\n",
       "      <td>0</td>\n",
       "      <td>Hey @AmericanAir why automated call me and then hang up at 4:45 am!?! And why can't I reschedule Cancelled Flighted flights via web!?! Come on!!!</td>\n",
       "      <td>NaN</td>\n",
       "      <td>2015-02-23 05:07:33 -0800</td>\n",
       "      <td>Fort Smith, Ark.</td>\n",
       "      <td>Central Time (US &amp; Canada)</td>\n",
       "    </tr>\n",
       "    <tr>\n",
       "      <th>13508</th>\n",
       "      <td>569845438494457856</td>\n",
       "      <td>negative</td>\n",
       "      <td>1.0000</td>\n",
       "      <td>Cancelled Flight</td>\n",
       "      <td>1.0000</td>\n",
       "      <td>American</td>\n",
       "      <td>NaN</td>\n",
       "      <td>HaileyUrban</td>\n",
       "      <td>NaN</td>\n",
       "      <td>0</td>\n",
       "      <td>@AmericanAir from a service rep but that hasn't happened</td>\n",
       "      <td>NaN</td>\n",
       "      <td>NaN</td>\n",
       "      <td>NaN</td>\n",
       "      <td>NaN</td>\n",
       "    </tr>\n",
       "  </tbody>\n",
       "</table>\n",
       "<p>13509 rows × 15 columns</p>\n",
       "</div>\n",
       "    <div class=\"colab-df-buttons\">\n",
       "\n",
       "  <div class=\"colab-df-container\">\n",
       "    <button class=\"colab-df-convert\" onclick=\"convertToInteractive('df-8bb9199a-d9eb-4763-b0a3-d537e76fb1d6')\"\n",
       "            title=\"Convert this dataframe to an interactive table.\"\n",
       "            style=\"display:none;\">\n",
       "\n",
       "  <svg xmlns=\"http://www.w3.org/2000/svg\" height=\"24px\" viewBox=\"0 -960 960 960\">\n",
       "    <path d=\"M120-120v-720h720v720H120Zm60-500h600v-160H180v160Zm220 220h160v-160H400v160Zm0 220h160v-160H400v160ZM180-400h160v-160H180v160Zm440 0h160v-160H620v160ZM180-180h160v-160H180v160Zm440 0h160v-160H620v160Z\"/>\n",
       "  </svg>\n",
       "    </button>\n",
       "\n",
       "  <style>\n",
       "    .colab-df-container {\n",
       "      display:flex;\n",
       "      gap: 12px;\n",
       "    }\n",
       "\n",
       "    .colab-df-convert {\n",
       "      background-color: #E8F0FE;\n",
       "      border: none;\n",
       "      border-radius: 50%;\n",
       "      cursor: pointer;\n",
       "      display: none;\n",
       "      fill: #1967D2;\n",
       "      height: 32px;\n",
       "      padding: 0 0 0 0;\n",
       "      width: 32px;\n",
       "    }\n",
       "\n",
       "    .colab-df-convert:hover {\n",
       "      background-color: #E2EBFA;\n",
       "      box-shadow: 0px 1px 2px rgba(60, 64, 67, 0.3), 0px 1px 3px 1px rgba(60, 64, 67, 0.15);\n",
       "      fill: #174EA6;\n",
       "    }\n",
       "\n",
       "    .colab-df-buttons div {\n",
       "      margin-bottom: 4px;\n",
       "    }\n",
       "\n",
       "    [theme=dark] .colab-df-convert {\n",
       "      background-color: #3B4455;\n",
       "      fill: #D2E3FC;\n",
       "    }\n",
       "\n",
       "    [theme=dark] .colab-df-convert:hover {\n",
       "      background-color: #434B5C;\n",
       "      box-shadow: 0px 1px 3px 1px rgba(0, 0, 0, 0.15);\n",
       "      filter: drop-shadow(0px 1px 2px rgba(0, 0, 0, 0.3));\n",
       "      fill: #FFFFFF;\n",
       "    }\n",
       "  </style>\n",
       "\n",
       "    <script>\n",
       "      const buttonEl =\n",
       "        document.querySelector('#df-8bb9199a-d9eb-4763-b0a3-d537e76fb1d6 button.colab-df-convert');\n",
       "      buttonEl.style.display =\n",
       "        google.colab.kernel.accessAllowed ? 'block' : 'none';\n",
       "\n",
       "      async function convertToInteractive(key) {\n",
       "        const element = document.querySelector('#df-8bb9199a-d9eb-4763-b0a3-d537e76fb1d6');\n",
       "        const dataTable =\n",
       "          await google.colab.kernel.invokeFunction('convertToInteractive',\n",
       "                                                    [key], {});\n",
       "        if (!dataTable) return;\n",
       "\n",
       "        const docLinkHtml = 'Like what you see? Visit the ' +\n",
       "          '<a target=\"_blank\" href=https://colab.research.google.com/notebooks/data_table.ipynb>data table notebook</a>'\n",
       "          + ' to learn more about interactive tables.';\n",
       "        element.innerHTML = '';\n",
       "        dataTable['output_type'] = 'display_data';\n",
       "        await google.colab.output.renderOutput(dataTable, element);\n",
       "        const docLink = document.createElement('div');\n",
       "        docLink.innerHTML = docLinkHtml;\n",
       "        element.appendChild(docLink);\n",
       "      }\n",
       "    </script>\n",
       "  </div>\n",
       "\n",
       "\n",
       "<div id=\"df-7d966079-933d-4622-bb4c-187fd46fc402\">\n",
       "  <button class=\"colab-df-quickchart\" onclick=\"quickchart('df-7d966079-933d-4622-bb4c-187fd46fc402')\"\n",
       "            title=\"Suggest charts.\"\n",
       "            style=\"display:none;\">\n",
       "\n",
       "<svg xmlns=\"http://www.w3.org/2000/svg\" height=\"24px\"viewBox=\"0 0 24 24\"\n",
       "     width=\"24px\">\n",
       "    <g>\n",
       "        <path d=\"M19 3H5c-1.1 0-2 .9-2 2v14c0 1.1.9 2 2 2h14c1.1 0 2-.9 2-2V5c0-1.1-.9-2-2-2zM9 17H7v-7h2v7zm4 0h-2V7h2v10zm4 0h-2v-4h2v4z\"/>\n",
       "    </g>\n",
       "</svg>\n",
       "  </button>\n",
       "\n",
       "<style>\n",
       "  .colab-df-quickchart {\n",
       "      --bg-color: #E8F0FE;\n",
       "      --fill-color: #1967D2;\n",
       "      --hover-bg-color: #E2EBFA;\n",
       "      --hover-fill-color: #174EA6;\n",
       "      --disabled-fill-color: #AAA;\n",
       "      --disabled-bg-color: #DDD;\n",
       "  }\n",
       "\n",
       "  [theme=dark] .colab-df-quickchart {\n",
       "      --bg-color: #3B4455;\n",
       "      --fill-color: #D2E3FC;\n",
       "      --hover-bg-color: #434B5C;\n",
       "      --hover-fill-color: #FFFFFF;\n",
       "      --disabled-bg-color: #3B4455;\n",
       "      --disabled-fill-color: #666;\n",
       "  }\n",
       "\n",
       "  .colab-df-quickchart {\n",
       "    background-color: var(--bg-color);\n",
       "    border: none;\n",
       "    border-radius: 50%;\n",
       "    cursor: pointer;\n",
       "    display: none;\n",
       "    fill: var(--fill-color);\n",
       "    height: 32px;\n",
       "    padding: 0;\n",
       "    width: 32px;\n",
       "  }\n",
       "\n",
       "  .colab-df-quickchart:hover {\n",
       "    background-color: var(--hover-bg-color);\n",
       "    box-shadow: 0 1px 2px rgba(60, 64, 67, 0.3), 0 1px 3px 1px rgba(60, 64, 67, 0.15);\n",
       "    fill: var(--button-hover-fill-color);\n",
       "  }\n",
       "\n",
       "  .colab-df-quickchart-complete:disabled,\n",
       "  .colab-df-quickchart-complete:disabled:hover {\n",
       "    background-color: var(--disabled-bg-color);\n",
       "    fill: var(--disabled-fill-color);\n",
       "    box-shadow: none;\n",
       "  }\n",
       "\n",
       "  .colab-df-spinner {\n",
       "    border: 2px solid var(--fill-color);\n",
       "    border-color: transparent;\n",
       "    border-bottom-color: var(--fill-color);\n",
       "    animation:\n",
       "      spin 1s steps(1) infinite;\n",
       "  }\n",
       "\n",
       "  @keyframes spin {\n",
       "    0% {\n",
       "      border-color: transparent;\n",
       "      border-bottom-color: var(--fill-color);\n",
       "      border-left-color: var(--fill-color);\n",
       "    }\n",
       "    20% {\n",
       "      border-color: transparent;\n",
       "      border-left-color: var(--fill-color);\n",
       "      border-top-color: var(--fill-color);\n",
       "    }\n",
       "    30% {\n",
       "      border-color: transparent;\n",
       "      border-left-color: var(--fill-color);\n",
       "      border-top-color: var(--fill-color);\n",
       "      border-right-color: var(--fill-color);\n",
       "    }\n",
       "    40% {\n",
       "      border-color: transparent;\n",
       "      border-right-color: var(--fill-color);\n",
       "      border-top-color: var(--fill-color);\n",
       "    }\n",
       "    60% {\n",
       "      border-color: transparent;\n",
       "      border-right-color: var(--fill-color);\n",
       "    }\n",
       "    80% {\n",
       "      border-color: transparent;\n",
       "      border-right-color: var(--fill-color);\n",
       "      border-bottom-color: var(--fill-color);\n",
       "    }\n",
       "    90% {\n",
       "      border-color: transparent;\n",
       "      border-bottom-color: var(--fill-color);\n",
       "    }\n",
       "  }\n",
       "</style>\n",
       "\n",
       "  <script>\n",
       "    async function quickchart(key) {\n",
       "      const quickchartButtonEl =\n",
       "        document.querySelector('#' + key + ' button');\n",
       "      quickchartButtonEl.disabled = true;  // To prevent multiple clicks.\n",
       "      quickchartButtonEl.classList.add('colab-df-spinner');\n",
       "      try {\n",
       "        const charts = await google.colab.kernel.invokeFunction(\n",
       "            'suggestCharts', [key], {});\n",
       "      } catch (error) {\n",
       "        console.error('Error during call to suggestCharts:', error);\n",
       "      }\n",
       "      quickchartButtonEl.classList.remove('colab-df-spinner');\n",
       "      quickchartButtonEl.classList.add('colab-df-quickchart-complete');\n",
       "    }\n",
       "    (() => {\n",
       "      let quickchartButtonEl =\n",
       "        document.querySelector('#df-7d966079-933d-4622-bb4c-187fd46fc402 button');\n",
       "      quickchartButtonEl.style.display =\n",
       "        google.colab.kernel.accessAllowed ? 'block' : 'none';\n",
       "    })();\n",
       "  </script>\n",
       "</div>\n",
       "    </div>\n",
       "  </div>\n"
      ],
      "text/plain": [
       "                 tweet_id airline_sentiment  airline_sentiment_confidence  \\\n",
       "0      570306133677760513           neutral                        1.0000   \n",
       "1      570301130888122368          positive                        0.3486   \n",
       "2      570301083672813571           neutral                        0.6837   \n",
       "3      570301031407624196          negative                        1.0000   \n",
       "4      570300817074462722          negative                        1.0000   \n",
       "...                   ...               ...                           ...   \n",
       "13504  569846356409339906          positive                        1.0000   \n",
       "13505  569846302663688192          negative                        1.0000   \n",
       "13506  569846045892608001          negative                        1.0000   \n",
       "13507  569846023553720321          negative                        1.0000   \n",
       "13508  569845438494457856          negative                        1.0000   \n",
       "\n",
       "               negativereason  negativereason_confidence         airline  \\\n",
       "0                         NaN                        NaN  Virgin America   \n",
       "1                         NaN                     0.0000  Virgin America   \n",
       "2                         NaN                        NaN  Virgin America   \n",
       "3                  Bad Flight                     0.7033  Virgin America   \n",
       "4                  Can't Tell                     1.0000  Virgin America   \n",
       "...                       ...                        ...             ...   \n",
       "13504                     NaN                        NaN        American   \n",
       "13505  Customer Service Issue                     0.6834        American   \n",
       "13506  Customer Service Issue                     0.6414        American   \n",
       "13507  Customer Service Issue                     0.6681        American   \n",
       "13508        Cancelled Flight                     1.0000        American   \n",
       "\n",
       "      airline_sentiment_gold            name negativereason_gold  \\\n",
       "0                        NaN         cairdin                 NaN   \n",
       "1                        NaN        jnardino                 NaN   \n",
       "2                        NaN      yvonnalynn                 NaN   \n",
       "3                        NaN        jnardino                 NaN   \n",
       "4                        NaN        jnardino                 NaN   \n",
       "...                      ...             ...                 ...   \n",
       "13504                    NaN      LisaMitchL                 NaN   \n",
       "13505                    NaN     HaileyUrban                 NaN   \n",
       "13506                    NaN  stephenmartino                 NaN   \n",
       "13507                    NaN  SFaldon_Sports                 NaN   \n",
       "13508                    NaN     HaileyUrban                 NaN   \n",
       "\n",
       "       retweet_count  \\\n",
       "0                  0   \n",
       "1                  0   \n",
       "2                  0   \n",
       "3                  0   \n",
       "4                  0   \n",
       "...              ...   \n",
       "13504              0   \n",
       "13505              0   \n",
       "13506              0   \n",
       "13507              0   \n",
       "13508              0   \n",
       "\n",
       "                                                                                                                                                       text  \\\n",
       "0                                                                                                                       @VirginAmerica What @dhepburn said.   \n",
       "1                                                                                  @VirginAmerica plus you've added commercials to the experience... tacky.   \n",
       "2                                                                                   @VirginAmerica I didn't today... Must mean I need to take another trip!   \n",
       "3                            @VirginAmerica it's really aggressive to blast obnoxious \"entertainment\" in your guests' faces &amp; they have little recourse   \n",
       "4                                                                                                   @VirginAmerica and it's a really big bad thing about it   \n",
       "...                                                                                                                                                     ...   \n",
       "13504        @AmericanAir thank you for doing the best you could to get me rebooked. Agent on phone &amp; addtl resolution on DM was very much appreciated.   \n",
       "13505  @AmericanAir no email no phone call no nothing. You've screwed with my flight and my family/Friends flights. You Cancelled Flighted reservations for   \n",
       "13506                                                                 @AmericanAir If you care, could you have someone call me to explain what is going on.   \n",
       "13507     Hey @AmericanAir why automated call me and then hang up at 4:45 am!?! And why can't I reschedule Cancelled Flighted flights via web!?! Come on!!!   \n",
       "13508                                                                                             @AmericanAir from a service rep but that hasn't happened    \n",
       "\n",
       "      tweet_coord              tweet_created       tweet_location  \\\n",
       "0             NaN  2015-02-24 11:35:52 -0800                  NaN   \n",
       "1             NaN  2015-02-24 11:15:59 -0800                  NaN   \n",
       "2             NaN  2015-02-24 11:15:48 -0800            Lets Play   \n",
       "3             NaN  2015-02-24 11:15:36 -0800                  NaN   \n",
       "4             NaN  2015-02-24 11:14:45 -0800                  NaN   \n",
       "...           ...                        ...                  ...   \n",
       "13504         NaN  2015-02-23 05:08:53 -0800         Indianapolis   \n",
       "13505         NaN  2015-02-23 05:08:40 -0800                  NaN   \n",
       "13506         NaN  2015-02-23 05:07:39 -0800  Baltimore, Maryland   \n",
       "13507         NaN  2015-02-23 05:07:33 -0800     Fort Smith, Ark.   \n",
       "13508         NaN                        NaN                  NaN   \n",
       "\n",
       "                    user_timezone  \n",
       "0      Eastern Time (US & Canada)  \n",
       "1      Pacific Time (US & Canada)  \n",
       "2      Central Time (US & Canada)  \n",
       "3      Pacific Time (US & Canada)  \n",
       "4      Pacific Time (US & Canada)  \n",
       "...                           ...  \n",
       "13504  Eastern Time (US & Canada)  \n",
       "13505                      Alaska  \n",
       "13506  Central Time (US & Canada)  \n",
       "13507  Central Time (US & Canada)  \n",
       "13508                         NaN  \n",
       "\n",
       "[13509 rows x 15 columns]"
      ]
     },
     "execution_count": 88,
     "metadata": {},
     "output_type": "execute_result"
    }
   ],
   "source": [
    "data"
   ]
  },
  {
   "cell_type": "code",
   "execution_count": 88,
   "id": "78d5e55f",
   "metadata": {
    "id": "78d5e55f"
   },
   "outputs": [],
   "source": []
  },
  {
   "cell_type": "code",
   "execution_count": 89,
   "id": "54668c46",
   "metadata": {
    "id": "54668c46"
   },
   "outputs": [],
   "source": [
    "#PREPROCESSING"
   ]
  },
  {
   "cell_type": "code",
   "execution_count": 90,
   "id": "5c01dd2a",
   "metadata": {
    "id": "5c01dd2a"
   },
   "outputs": [],
   "source": [
    "confidence_threshold = 0.6\n",
    "\n",
    "data = data.drop(data.query(\"airline_sentiment_confidence < @confidence_threshold\").index, axis=0).reset_index(drop=True)"
   ]
  },
  {
   "cell_type": "code",
   "execution_count": 91,
   "id": "f454ba31",
   "metadata": {
    "colab": {
     "base_uri": "https://localhost:8080/",
     "height": 423
    },
    "id": "f454ba31",
    "outputId": "ae203724-f01c-433a-ae7d-3db577c794bb"
   },
   "outputs": [
    {
     "data": {
      "text/html": [
       "\n",
       "  <div id=\"df-8794ceb4-0fce-4002-8339-3a183f2332c7\" class=\"colab-df-container\">\n",
       "    <div>\n",
       "<style scoped>\n",
       "    .dataframe tbody tr th:only-of-type {\n",
       "        vertical-align: middle;\n",
       "    }\n",
       "\n",
       "    .dataframe tbody tr th {\n",
       "        vertical-align: top;\n",
       "    }\n",
       "\n",
       "    .dataframe thead th {\n",
       "        text-align: right;\n",
       "    }\n",
       "</style>\n",
       "<table border=\"1\" class=\"dataframe\">\n",
       "  <thead>\n",
       "    <tr style=\"text-align: right;\">\n",
       "      <th></th>\n",
       "      <th>text</th>\n",
       "      <th>airline_sentiment</th>\n",
       "    </tr>\n",
       "  </thead>\n",
       "  <tbody>\n",
       "    <tr>\n",
       "      <th>0</th>\n",
       "      <td>@VirginAmerica What @dhepburn said.</td>\n",
       "      <td>neutral</td>\n",
       "    </tr>\n",
       "    <tr>\n",
       "      <th>1</th>\n",
       "      <td>@VirginAmerica I didn't today... Must mean I need to take another trip!</td>\n",
       "      <td>neutral</td>\n",
       "    </tr>\n",
       "    <tr>\n",
       "      <th>2</th>\n",
       "      <td>@VirginAmerica it's really aggressive to blast obnoxious \"entertainment\" in your guests' faces &amp;amp; they have little recourse</td>\n",
       "      <td>negative</td>\n",
       "    </tr>\n",
       "    <tr>\n",
       "      <th>3</th>\n",
       "      <td>@VirginAmerica and it's a really big bad thing about it</td>\n",
       "      <td>negative</td>\n",
       "    </tr>\n",
       "    <tr>\n",
       "      <th>4</th>\n",
       "      <td>@VirginAmerica seriously would pay $30 a flight for seats that didn't have this playing.\\nit's really the only bad thing about flying VA</td>\n",
       "      <td>negative</td>\n",
       "    </tr>\n",
       "    <tr>\n",
       "      <th>...</th>\n",
       "      <td>...</td>\n",
       "      <td>...</td>\n",
       "    </tr>\n",
       "    <tr>\n",
       "      <th>13278</th>\n",
       "      <td>@AmericanAir thank you for doing the best you could to get me rebooked. Agent on phone &amp;amp; addtl resolution on DM was very much appreciated.</td>\n",
       "      <td>positive</td>\n",
       "    </tr>\n",
       "    <tr>\n",
       "      <th>13279</th>\n",
       "      <td>@AmericanAir no email no phone call no nothing. You've screwed with my flight and my family/Friends flights. You Cancelled Flighted reservations for</td>\n",
       "      <td>negative</td>\n",
       "    </tr>\n",
       "    <tr>\n",
       "      <th>13280</th>\n",
       "      <td>@AmericanAir If you care, could you have someone call me to explain what is going on.</td>\n",
       "      <td>negative</td>\n",
       "    </tr>\n",
       "    <tr>\n",
       "      <th>13281</th>\n",
       "      <td>Hey @AmericanAir why automated call me and then hang up at 4:45 am!?! And why can't I reschedule Cancelled Flighted flights via web!?! Come on!!!</td>\n",
       "      <td>negative</td>\n",
       "    </tr>\n",
       "    <tr>\n",
       "      <th>13282</th>\n",
       "      <td>@AmericanAir from a service rep but that hasn't happened</td>\n",
       "      <td>negative</td>\n",
       "    </tr>\n",
       "  </tbody>\n",
       "</table>\n",
       "<p>13283 rows × 2 columns</p>\n",
       "</div>\n",
       "    <div class=\"colab-df-buttons\">\n",
       "\n",
       "  <div class=\"colab-df-container\">\n",
       "    <button class=\"colab-df-convert\" onclick=\"convertToInteractive('df-8794ceb4-0fce-4002-8339-3a183f2332c7')\"\n",
       "            title=\"Convert this dataframe to an interactive table.\"\n",
       "            style=\"display:none;\">\n",
       "\n",
       "  <svg xmlns=\"http://www.w3.org/2000/svg\" height=\"24px\" viewBox=\"0 -960 960 960\">\n",
       "    <path d=\"M120-120v-720h720v720H120Zm60-500h600v-160H180v160Zm220 220h160v-160H400v160Zm0 220h160v-160H400v160ZM180-400h160v-160H180v160Zm440 0h160v-160H620v160ZM180-180h160v-160H180v160Zm440 0h160v-160H620v160Z\"/>\n",
       "  </svg>\n",
       "    </button>\n",
       "\n",
       "  <style>\n",
       "    .colab-df-container {\n",
       "      display:flex;\n",
       "      gap: 12px;\n",
       "    }\n",
       "\n",
       "    .colab-df-convert {\n",
       "      background-color: #E8F0FE;\n",
       "      border: none;\n",
       "      border-radius: 50%;\n",
       "      cursor: pointer;\n",
       "      display: none;\n",
       "      fill: #1967D2;\n",
       "      height: 32px;\n",
       "      padding: 0 0 0 0;\n",
       "      width: 32px;\n",
       "    }\n",
       "\n",
       "    .colab-df-convert:hover {\n",
       "      background-color: #E2EBFA;\n",
       "      box-shadow: 0px 1px 2px rgba(60, 64, 67, 0.3), 0px 1px 3px 1px rgba(60, 64, 67, 0.15);\n",
       "      fill: #174EA6;\n",
       "    }\n",
       "\n",
       "    .colab-df-buttons div {\n",
       "      margin-bottom: 4px;\n",
       "    }\n",
       "\n",
       "    [theme=dark] .colab-df-convert {\n",
       "      background-color: #3B4455;\n",
       "      fill: #D2E3FC;\n",
       "    }\n",
       "\n",
       "    [theme=dark] .colab-df-convert:hover {\n",
       "      background-color: #434B5C;\n",
       "      box-shadow: 0px 1px 3px 1px rgba(0, 0, 0, 0.15);\n",
       "      filter: drop-shadow(0px 1px 2px rgba(0, 0, 0, 0.3));\n",
       "      fill: #FFFFFF;\n",
       "    }\n",
       "  </style>\n",
       "\n",
       "    <script>\n",
       "      const buttonEl =\n",
       "        document.querySelector('#df-8794ceb4-0fce-4002-8339-3a183f2332c7 button.colab-df-convert');\n",
       "      buttonEl.style.display =\n",
       "        google.colab.kernel.accessAllowed ? 'block' : 'none';\n",
       "\n",
       "      async function convertToInteractive(key) {\n",
       "        const element = document.querySelector('#df-8794ceb4-0fce-4002-8339-3a183f2332c7');\n",
       "        const dataTable =\n",
       "          await google.colab.kernel.invokeFunction('convertToInteractive',\n",
       "                                                    [key], {});\n",
       "        if (!dataTable) return;\n",
       "\n",
       "        const docLinkHtml = 'Like what you see? Visit the ' +\n",
       "          '<a target=\"_blank\" href=https://colab.research.google.com/notebooks/data_table.ipynb>data table notebook</a>'\n",
       "          + ' to learn more about interactive tables.';\n",
       "        element.innerHTML = '';\n",
       "        dataTable['output_type'] = 'display_data';\n",
       "        await google.colab.output.renderOutput(dataTable, element);\n",
       "        const docLink = document.createElement('div');\n",
       "        docLink.innerHTML = docLinkHtml;\n",
       "        element.appendChild(docLink);\n",
       "      }\n",
       "    </script>\n",
       "  </div>\n",
       "\n",
       "\n",
       "<div id=\"df-87833f4b-0f66-4faa-934c-8d1ac473600e\">\n",
       "  <button class=\"colab-df-quickchart\" onclick=\"quickchart('df-87833f4b-0f66-4faa-934c-8d1ac473600e')\"\n",
       "            title=\"Suggest charts.\"\n",
       "            style=\"display:none;\">\n",
       "\n",
       "<svg xmlns=\"http://www.w3.org/2000/svg\" height=\"24px\"viewBox=\"0 0 24 24\"\n",
       "     width=\"24px\">\n",
       "    <g>\n",
       "        <path d=\"M19 3H5c-1.1 0-2 .9-2 2v14c0 1.1.9 2 2 2h14c1.1 0 2-.9 2-2V5c0-1.1-.9-2-2-2zM9 17H7v-7h2v7zm4 0h-2V7h2v10zm4 0h-2v-4h2v4z\"/>\n",
       "    </g>\n",
       "</svg>\n",
       "  </button>\n",
       "\n",
       "<style>\n",
       "  .colab-df-quickchart {\n",
       "      --bg-color: #E8F0FE;\n",
       "      --fill-color: #1967D2;\n",
       "      --hover-bg-color: #E2EBFA;\n",
       "      --hover-fill-color: #174EA6;\n",
       "      --disabled-fill-color: #AAA;\n",
       "      --disabled-bg-color: #DDD;\n",
       "  }\n",
       "\n",
       "  [theme=dark] .colab-df-quickchart {\n",
       "      --bg-color: #3B4455;\n",
       "      --fill-color: #D2E3FC;\n",
       "      --hover-bg-color: #434B5C;\n",
       "      --hover-fill-color: #FFFFFF;\n",
       "      --disabled-bg-color: #3B4455;\n",
       "      --disabled-fill-color: #666;\n",
       "  }\n",
       "\n",
       "  .colab-df-quickchart {\n",
       "    background-color: var(--bg-color);\n",
       "    border: none;\n",
       "    border-radius: 50%;\n",
       "    cursor: pointer;\n",
       "    display: none;\n",
       "    fill: var(--fill-color);\n",
       "    height: 32px;\n",
       "    padding: 0;\n",
       "    width: 32px;\n",
       "  }\n",
       "\n",
       "  .colab-df-quickchart:hover {\n",
       "    background-color: var(--hover-bg-color);\n",
       "    box-shadow: 0 1px 2px rgba(60, 64, 67, 0.3), 0 1px 3px 1px rgba(60, 64, 67, 0.15);\n",
       "    fill: var(--button-hover-fill-color);\n",
       "  }\n",
       "\n",
       "  .colab-df-quickchart-complete:disabled,\n",
       "  .colab-df-quickchart-complete:disabled:hover {\n",
       "    background-color: var(--disabled-bg-color);\n",
       "    fill: var(--disabled-fill-color);\n",
       "    box-shadow: none;\n",
       "  }\n",
       "\n",
       "  .colab-df-spinner {\n",
       "    border: 2px solid var(--fill-color);\n",
       "    border-color: transparent;\n",
       "    border-bottom-color: var(--fill-color);\n",
       "    animation:\n",
       "      spin 1s steps(1) infinite;\n",
       "  }\n",
       "\n",
       "  @keyframes spin {\n",
       "    0% {\n",
       "      border-color: transparent;\n",
       "      border-bottom-color: var(--fill-color);\n",
       "      border-left-color: var(--fill-color);\n",
       "    }\n",
       "    20% {\n",
       "      border-color: transparent;\n",
       "      border-left-color: var(--fill-color);\n",
       "      border-top-color: var(--fill-color);\n",
       "    }\n",
       "    30% {\n",
       "      border-color: transparent;\n",
       "      border-left-color: var(--fill-color);\n",
       "      border-top-color: var(--fill-color);\n",
       "      border-right-color: var(--fill-color);\n",
       "    }\n",
       "    40% {\n",
       "      border-color: transparent;\n",
       "      border-right-color: var(--fill-color);\n",
       "      border-top-color: var(--fill-color);\n",
       "    }\n",
       "    60% {\n",
       "      border-color: transparent;\n",
       "      border-right-color: var(--fill-color);\n",
       "    }\n",
       "    80% {\n",
       "      border-color: transparent;\n",
       "      border-right-color: var(--fill-color);\n",
       "      border-bottom-color: var(--fill-color);\n",
       "    }\n",
       "    90% {\n",
       "      border-color: transparent;\n",
       "      border-bottom-color: var(--fill-color);\n",
       "    }\n",
       "  }\n",
       "</style>\n",
       "\n",
       "  <script>\n",
       "    async function quickchart(key) {\n",
       "      const quickchartButtonEl =\n",
       "        document.querySelector('#' + key + ' button');\n",
       "      quickchartButtonEl.disabled = true;  // To prevent multiple clicks.\n",
       "      quickchartButtonEl.classList.add('colab-df-spinner');\n",
       "      try {\n",
       "        const charts = await google.colab.kernel.invokeFunction(\n",
       "            'suggestCharts', [key], {});\n",
       "      } catch (error) {\n",
       "        console.error('Error during call to suggestCharts:', error);\n",
       "      }\n",
       "      quickchartButtonEl.classList.remove('colab-df-spinner');\n",
       "      quickchartButtonEl.classList.add('colab-df-quickchart-complete');\n",
       "    }\n",
       "    (() => {\n",
       "      let quickchartButtonEl =\n",
       "        document.querySelector('#df-87833f4b-0f66-4faa-934c-8d1ac473600e button');\n",
       "      quickchartButtonEl.style.display =\n",
       "        google.colab.kernel.accessAllowed ? 'block' : 'none';\n",
       "    })();\n",
       "  </script>\n",
       "</div>\n",
       "    </div>\n",
       "  </div>\n"
      ],
      "text/plain": [
       "                                                                                                                                                       text  \\\n",
       "0                                                                                                                       @VirginAmerica What @dhepburn said.   \n",
       "1                                                                                   @VirginAmerica I didn't today... Must mean I need to take another trip!   \n",
       "2                            @VirginAmerica it's really aggressive to blast obnoxious \"entertainment\" in your guests' faces &amp; they have little recourse   \n",
       "3                                                                                                   @VirginAmerica and it's a really big bad thing about it   \n",
       "4                  @VirginAmerica seriously would pay $30 a flight for seats that didn't have this playing.\\nit's really the only bad thing about flying VA   \n",
       "...                                                                                                                                                     ...   \n",
       "13278        @AmericanAir thank you for doing the best you could to get me rebooked. Agent on phone &amp; addtl resolution on DM was very much appreciated.   \n",
       "13279  @AmericanAir no email no phone call no nothing. You've screwed with my flight and my family/Friends flights. You Cancelled Flighted reservations for   \n",
       "13280                                                                 @AmericanAir If you care, could you have someone call me to explain what is going on.   \n",
       "13281     Hey @AmericanAir why automated call me and then hang up at 4:45 am!?! And why can't I reschedule Cancelled Flighted flights via web!?! Come on!!!   \n",
       "13282                                                                                             @AmericanAir from a service rep but that hasn't happened    \n",
       "\n",
       "      airline_sentiment  \n",
       "0               neutral  \n",
       "1               neutral  \n",
       "2              negative  \n",
       "3              negative  \n",
       "4              negative  \n",
       "...                 ...  \n",
       "13278          positive  \n",
       "13279          negative  \n",
       "13280          negative  \n",
       "13281          negative  \n",
       "13282          negative  \n",
       "\n",
       "[13283 rows x 2 columns]"
      ]
     },
     "execution_count": 91,
     "metadata": {},
     "output_type": "execute_result"
    }
   ],
   "source": [
    "tweets_df = pd.concat([data['text'], data['airline_sentiment']], axis=1)\n",
    "tweets_df"
   ]
  },
  {
   "cell_type": "code",
   "execution_count": 92,
   "id": "fdd54b1a",
   "metadata": {
    "colab": {
     "base_uri": "https://localhost:8080/"
    },
    "id": "fdd54b1a",
    "outputId": "5e93e54e-e4b1-4537-87e4-40d06b48565e"
   },
   "outputs": [
    {
     "data": {
      "text/plain": [
       "0"
      ]
     },
     "execution_count": 92,
     "metadata": {},
     "output_type": "execute_result"
    }
   ],
   "source": [
    "tweets_df.isna().sum().sum()"
   ]
  },
  {
   "cell_type": "code",
   "execution_count": 93,
   "id": "cb12b466",
   "metadata": {
    "colab": {
     "base_uri": "https://localhost:8080/"
    },
    "id": "cb12b466",
    "outputId": "f691aefb-5701-4957-8fc6-1b3dd465fb05"
   },
   "outputs": [
    {
     "data": {
      "text/plain": [
       "negative    8238\n",
       "neutral     2851\n",
       "positive    2194\n",
       "Name: airline_sentiment, dtype: int64"
      ]
     },
     "execution_count": 93,
     "metadata": {},
     "output_type": "execute_result"
    }
   ],
   "source": [
    "tweets_df['airline_sentiment'].value_counts()"
   ]
  },
  {
   "cell_type": "code",
   "execution_count": 94,
   "id": "04a511f0",
   "metadata": {
    "id": "04a511f0"
   },
   "outputs": [],
   "source": [
    "sentiment_ordering = ['negative', 'neutral', 'positive']\n",
    "\n",
    "tweets_df['airline_sentiment'] = tweets_df['airline_sentiment'].apply(lambda x: sentiment_ordering.index(x))"
   ]
  },
  {
   "cell_type": "code",
   "execution_count": 95,
   "id": "18978486",
   "metadata": {
    "colab": {
     "base_uri": "https://localhost:8080/",
     "height": 423
    },
    "id": "18978486",
    "outputId": "944971b1-5429-43d8-eb33-8e4b6b990a74"
   },
   "outputs": [
    {
     "data": {
      "text/html": [
       "\n",
       "  <div id=\"df-ddaf230d-b560-4f41-8905-cfe539d03bdd\" class=\"colab-df-container\">\n",
       "    <div>\n",
       "<style scoped>\n",
       "    .dataframe tbody tr th:only-of-type {\n",
       "        vertical-align: middle;\n",
       "    }\n",
       "\n",
       "    .dataframe tbody tr th {\n",
       "        vertical-align: top;\n",
       "    }\n",
       "\n",
       "    .dataframe thead th {\n",
       "        text-align: right;\n",
       "    }\n",
       "</style>\n",
       "<table border=\"1\" class=\"dataframe\">\n",
       "  <thead>\n",
       "    <tr style=\"text-align: right;\">\n",
       "      <th></th>\n",
       "      <th>text</th>\n",
       "      <th>airline_sentiment</th>\n",
       "    </tr>\n",
       "  </thead>\n",
       "  <tbody>\n",
       "    <tr>\n",
       "      <th>0</th>\n",
       "      <td>@VirginAmerica What @dhepburn said.</td>\n",
       "      <td>1</td>\n",
       "    </tr>\n",
       "    <tr>\n",
       "      <th>1</th>\n",
       "      <td>@VirginAmerica I didn't today... Must mean I need to take another trip!</td>\n",
       "      <td>1</td>\n",
       "    </tr>\n",
       "    <tr>\n",
       "      <th>2</th>\n",
       "      <td>@VirginAmerica it's really aggressive to blast obnoxious \"entertainment\" in your guests' faces &amp;amp; they have little recourse</td>\n",
       "      <td>0</td>\n",
       "    </tr>\n",
       "    <tr>\n",
       "      <th>3</th>\n",
       "      <td>@VirginAmerica and it's a really big bad thing about it</td>\n",
       "      <td>0</td>\n",
       "    </tr>\n",
       "    <tr>\n",
       "      <th>4</th>\n",
       "      <td>@VirginAmerica seriously would pay $30 a flight for seats that didn't have this playing.\\nit's really the only bad thing about flying VA</td>\n",
       "      <td>0</td>\n",
       "    </tr>\n",
       "    <tr>\n",
       "      <th>...</th>\n",
       "      <td>...</td>\n",
       "      <td>...</td>\n",
       "    </tr>\n",
       "    <tr>\n",
       "      <th>13278</th>\n",
       "      <td>@AmericanAir thank you for doing the best you could to get me rebooked. Agent on phone &amp;amp; addtl resolution on DM was very much appreciated.</td>\n",
       "      <td>2</td>\n",
       "    </tr>\n",
       "    <tr>\n",
       "      <th>13279</th>\n",
       "      <td>@AmericanAir no email no phone call no nothing. You've screwed with my flight and my family/Friends flights. You Cancelled Flighted reservations for</td>\n",
       "      <td>0</td>\n",
       "    </tr>\n",
       "    <tr>\n",
       "      <th>13280</th>\n",
       "      <td>@AmericanAir If you care, could you have someone call me to explain what is going on.</td>\n",
       "      <td>0</td>\n",
       "    </tr>\n",
       "    <tr>\n",
       "      <th>13281</th>\n",
       "      <td>Hey @AmericanAir why automated call me and then hang up at 4:45 am!?! And why can't I reschedule Cancelled Flighted flights via web!?! Come on!!!</td>\n",
       "      <td>0</td>\n",
       "    </tr>\n",
       "    <tr>\n",
       "      <th>13282</th>\n",
       "      <td>@AmericanAir from a service rep but that hasn't happened</td>\n",
       "      <td>0</td>\n",
       "    </tr>\n",
       "  </tbody>\n",
       "</table>\n",
       "<p>13283 rows × 2 columns</p>\n",
       "</div>\n",
       "    <div class=\"colab-df-buttons\">\n",
       "\n",
       "  <div class=\"colab-df-container\">\n",
       "    <button class=\"colab-df-convert\" onclick=\"convertToInteractive('df-ddaf230d-b560-4f41-8905-cfe539d03bdd')\"\n",
       "            title=\"Convert this dataframe to an interactive table.\"\n",
       "            style=\"display:none;\">\n",
       "\n",
       "  <svg xmlns=\"http://www.w3.org/2000/svg\" height=\"24px\" viewBox=\"0 -960 960 960\">\n",
       "    <path d=\"M120-120v-720h720v720H120Zm60-500h600v-160H180v160Zm220 220h160v-160H400v160Zm0 220h160v-160H400v160ZM180-400h160v-160H180v160Zm440 0h160v-160H620v160ZM180-180h160v-160H180v160Zm440 0h160v-160H620v160Z\"/>\n",
       "  </svg>\n",
       "    </button>\n",
       "\n",
       "  <style>\n",
       "    .colab-df-container {\n",
       "      display:flex;\n",
       "      gap: 12px;\n",
       "    }\n",
       "\n",
       "    .colab-df-convert {\n",
       "      background-color: #E8F0FE;\n",
       "      border: none;\n",
       "      border-radius: 50%;\n",
       "      cursor: pointer;\n",
       "      display: none;\n",
       "      fill: #1967D2;\n",
       "      height: 32px;\n",
       "      padding: 0 0 0 0;\n",
       "      width: 32px;\n",
       "    }\n",
       "\n",
       "    .colab-df-convert:hover {\n",
       "      background-color: #E2EBFA;\n",
       "      box-shadow: 0px 1px 2px rgba(60, 64, 67, 0.3), 0px 1px 3px 1px rgba(60, 64, 67, 0.15);\n",
       "      fill: #174EA6;\n",
       "    }\n",
       "\n",
       "    .colab-df-buttons div {\n",
       "      margin-bottom: 4px;\n",
       "    }\n",
       "\n",
       "    [theme=dark] .colab-df-convert {\n",
       "      background-color: #3B4455;\n",
       "      fill: #D2E3FC;\n",
       "    }\n",
       "\n",
       "    [theme=dark] .colab-df-convert:hover {\n",
       "      background-color: #434B5C;\n",
       "      box-shadow: 0px 1px 3px 1px rgba(0, 0, 0, 0.15);\n",
       "      filter: drop-shadow(0px 1px 2px rgba(0, 0, 0, 0.3));\n",
       "      fill: #FFFFFF;\n",
       "    }\n",
       "  </style>\n",
       "\n",
       "    <script>\n",
       "      const buttonEl =\n",
       "        document.querySelector('#df-ddaf230d-b560-4f41-8905-cfe539d03bdd button.colab-df-convert');\n",
       "      buttonEl.style.display =\n",
       "        google.colab.kernel.accessAllowed ? 'block' : 'none';\n",
       "\n",
       "      async function convertToInteractive(key) {\n",
       "        const element = document.querySelector('#df-ddaf230d-b560-4f41-8905-cfe539d03bdd');\n",
       "        const dataTable =\n",
       "          await google.colab.kernel.invokeFunction('convertToInteractive',\n",
       "                                                    [key], {});\n",
       "        if (!dataTable) return;\n",
       "\n",
       "        const docLinkHtml = 'Like what you see? Visit the ' +\n",
       "          '<a target=\"_blank\" href=https://colab.research.google.com/notebooks/data_table.ipynb>data table notebook</a>'\n",
       "          + ' to learn more about interactive tables.';\n",
       "        element.innerHTML = '';\n",
       "        dataTable['output_type'] = 'display_data';\n",
       "        await google.colab.output.renderOutput(dataTable, element);\n",
       "        const docLink = document.createElement('div');\n",
       "        docLink.innerHTML = docLinkHtml;\n",
       "        element.appendChild(docLink);\n",
       "      }\n",
       "    </script>\n",
       "  </div>\n",
       "\n",
       "\n",
       "<div id=\"df-10f3d421-d9c7-42d4-bde9-4694a8b8a2d0\">\n",
       "  <button class=\"colab-df-quickchart\" onclick=\"quickchart('df-10f3d421-d9c7-42d4-bde9-4694a8b8a2d0')\"\n",
       "            title=\"Suggest charts.\"\n",
       "            style=\"display:none;\">\n",
       "\n",
       "<svg xmlns=\"http://www.w3.org/2000/svg\" height=\"24px\"viewBox=\"0 0 24 24\"\n",
       "     width=\"24px\">\n",
       "    <g>\n",
       "        <path d=\"M19 3H5c-1.1 0-2 .9-2 2v14c0 1.1.9 2 2 2h14c1.1 0 2-.9 2-2V5c0-1.1-.9-2-2-2zM9 17H7v-7h2v7zm4 0h-2V7h2v10zm4 0h-2v-4h2v4z\"/>\n",
       "    </g>\n",
       "</svg>\n",
       "  </button>\n",
       "\n",
       "<style>\n",
       "  .colab-df-quickchart {\n",
       "      --bg-color: #E8F0FE;\n",
       "      --fill-color: #1967D2;\n",
       "      --hover-bg-color: #E2EBFA;\n",
       "      --hover-fill-color: #174EA6;\n",
       "      --disabled-fill-color: #AAA;\n",
       "      --disabled-bg-color: #DDD;\n",
       "  }\n",
       "\n",
       "  [theme=dark] .colab-df-quickchart {\n",
       "      --bg-color: #3B4455;\n",
       "      --fill-color: #D2E3FC;\n",
       "      --hover-bg-color: #434B5C;\n",
       "      --hover-fill-color: #FFFFFF;\n",
       "      --disabled-bg-color: #3B4455;\n",
       "      --disabled-fill-color: #666;\n",
       "  }\n",
       "\n",
       "  .colab-df-quickchart {\n",
       "    background-color: var(--bg-color);\n",
       "    border: none;\n",
       "    border-radius: 50%;\n",
       "    cursor: pointer;\n",
       "    display: none;\n",
       "    fill: var(--fill-color);\n",
       "    height: 32px;\n",
       "    padding: 0;\n",
       "    width: 32px;\n",
       "  }\n",
       "\n",
       "  .colab-df-quickchart:hover {\n",
       "    background-color: var(--hover-bg-color);\n",
       "    box-shadow: 0 1px 2px rgba(60, 64, 67, 0.3), 0 1px 3px 1px rgba(60, 64, 67, 0.15);\n",
       "    fill: var(--button-hover-fill-color);\n",
       "  }\n",
       "\n",
       "  .colab-df-quickchart-complete:disabled,\n",
       "  .colab-df-quickchart-complete:disabled:hover {\n",
       "    background-color: var(--disabled-bg-color);\n",
       "    fill: var(--disabled-fill-color);\n",
       "    box-shadow: none;\n",
       "  }\n",
       "\n",
       "  .colab-df-spinner {\n",
       "    border: 2px solid var(--fill-color);\n",
       "    border-color: transparent;\n",
       "    border-bottom-color: var(--fill-color);\n",
       "    animation:\n",
       "      spin 1s steps(1) infinite;\n",
       "  }\n",
       "\n",
       "  @keyframes spin {\n",
       "    0% {\n",
       "      border-color: transparent;\n",
       "      border-bottom-color: var(--fill-color);\n",
       "      border-left-color: var(--fill-color);\n",
       "    }\n",
       "    20% {\n",
       "      border-color: transparent;\n",
       "      border-left-color: var(--fill-color);\n",
       "      border-top-color: var(--fill-color);\n",
       "    }\n",
       "    30% {\n",
       "      border-color: transparent;\n",
       "      border-left-color: var(--fill-color);\n",
       "      border-top-color: var(--fill-color);\n",
       "      border-right-color: var(--fill-color);\n",
       "    }\n",
       "    40% {\n",
       "      border-color: transparent;\n",
       "      border-right-color: var(--fill-color);\n",
       "      border-top-color: var(--fill-color);\n",
       "    }\n",
       "    60% {\n",
       "      border-color: transparent;\n",
       "      border-right-color: var(--fill-color);\n",
       "    }\n",
       "    80% {\n",
       "      border-color: transparent;\n",
       "      border-right-color: var(--fill-color);\n",
       "      border-bottom-color: var(--fill-color);\n",
       "    }\n",
       "    90% {\n",
       "      border-color: transparent;\n",
       "      border-bottom-color: var(--fill-color);\n",
       "    }\n",
       "  }\n",
       "</style>\n",
       "\n",
       "  <script>\n",
       "    async function quickchart(key) {\n",
       "      const quickchartButtonEl =\n",
       "        document.querySelector('#' + key + ' button');\n",
       "      quickchartButtonEl.disabled = true;  // To prevent multiple clicks.\n",
       "      quickchartButtonEl.classList.add('colab-df-spinner');\n",
       "      try {\n",
       "        const charts = await google.colab.kernel.invokeFunction(\n",
       "            'suggestCharts', [key], {});\n",
       "      } catch (error) {\n",
       "        console.error('Error during call to suggestCharts:', error);\n",
       "      }\n",
       "      quickchartButtonEl.classList.remove('colab-df-spinner');\n",
       "      quickchartButtonEl.classList.add('colab-df-quickchart-complete');\n",
       "    }\n",
       "    (() => {\n",
       "      let quickchartButtonEl =\n",
       "        document.querySelector('#df-10f3d421-d9c7-42d4-bde9-4694a8b8a2d0 button');\n",
       "      quickchartButtonEl.style.display =\n",
       "        google.colab.kernel.accessAllowed ? 'block' : 'none';\n",
       "    })();\n",
       "  </script>\n",
       "</div>\n",
       "    </div>\n",
       "  </div>\n"
      ],
      "text/plain": [
       "                                                                                                                                                       text  \\\n",
       "0                                                                                                                       @VirginAmerica What @dhepburn said.   \n",
       "1                                                                                   @VirginAmerica I didn't today... Must mean I need to take another trip!   \n",
       "2                            @VirginAmerica it's really aggressive to blast obnoxious \"entertainment\" in your guests' faces &amp; they have little recourse   \n",
       "3                                                                                                   @VirginAmerica and it's a really big bad thing about it   \n",
       "4                  @VirginAmerica seriously would pay $30 a flight for seats that didn't have this playing.\\nit's really the only bad thing about flying VA   \n",
       "...                                                                                                                                                     ...   \n",
       "13278        @AmericanAir thank you for doing the best you could to get me rebooked. Agent on phone &amp; addtl resolution on DM was very much appreciated.   \n",
       "13279  @AmericanAir no email no phone call no nothing. You've screwed with my flight and my family/Friends flights. You Cancelled Flighted reservations for   \n",
       "13280                                                                 @AmericanAir If you care, could you have someone call me to explain what is going on.   \n",
       "13281     Hey @AmericanAir why automated call me and then hang up at 4:45 am!?! And why can't I reschedule Cancelled Flighted flights via web!?! Come on!!!   \n",
       "13282                                                                                             @AmericanAir from a service rep but that hasn't happened    \n",
       "\n",
       "       airline_sentiment  \n",
       "0                      1  \n",
       "1                      1  \n",
       "2                      0  \n",
       "3                      0  \n",
       "4                      0  \n",
       "...                  ...  \n",
       "13278                  2  \n",
       "13279                  0  \n",
       "13280                  0  \n",
       "13281                  0  \n",
       "13282                  0  \n",
       "\n",
       "[13283 rows x 2 columns]"
      ]
     },
     "execution_count": 95,
     "metadata": {},
     "output_type": "execute_result"
    }
   ],
   "source": [
    "tweets_df"
   ]
  },
  {
   "cell_type": "code",
   "execution_count": 96,
   "id": "9be12d8d",
   "metadata": {
    "colab": {
     "base_uri": "https://localhost:8080/",
     "height": 36
    },
    "id": "9be12d8d",
    "outputId": "0e31e364-7974-4089-eaaf-e96d6d841616"
   },
   "outputs": [
    {
     "data": {
      "application/vnd.google.colaboratory.intrinsic+json": {
       "type": "string"
      },
      "text/plain": [
       "'@AmericanAir right on cue with the delays:OK_hand:'"
      ]
     },
     "execution_count": 96,
     "metadata": {},
     "output_type": "execute_result"
    }
   ],
   "source": [
    "emoji.demojize('@AmericanAir right on cue with the delays👌')"
   ]
  },
  {
   "cell_type": "code",
   "execution_count": 97,
   "id": "cf9763fc",
   "metadata": {
    "id": "cf9763fc"
   },
   "outputs": [],
   "source": [
    "ps = PorterStemmer()\n",
    "\n",
    "def process_tweet(tweet):\n",
    "    new_tweet = tweet.lower()\n",
    "    new_tweet = re.sub(r'@\\w+', '', new_tweet) # Remove @s\n",
    "    new_tweet = re.sub(r'#', '', new_tweet) # Remove hashtags\n",
    "    new_tweet = re.sub(r':', ' ', emoji.demojize(new_tweet)) # Turn emojis into words\n",
    "    new_tweet = re.sub(r'http\\S+', '',new_tweet) # Remove URLs\n",
    "    new_tweet = re.sub(r'\\$\\S+', 'dollar', new_tweet) # Change dollar amounts to dollar\n",
    "    new_tweet = re.sub(r'[^a-z0-9\\s]', '', new_tweet) # Remove punctuation\n",
    "    new_tweet = re.sub(r'[0-9]+', 'number', new_tweet) # Change number values to number\n",
    "    new_tweet = new_tweet.split(\" \")\n",
    "    new_tweet = list(map(lambda x: ps.stem(x), new_tweet)) # Stemming the words\n",
    "    new_tweet = list(map(lambda x: x.strip(), new_tweet)) # Stripping whitespace from the words\n",
    "    if '' in new_tweet:\n",
    "        new_tweet.remove('')\n",
    "    return new_tweet"
   ]
  },
  {
   "cell_type": "code",
   "execution_count": 98,
   "id": "03a92714",
   "metadata": {
    "id": "03a92714"
   },
   "outputs": [],
   "source": [
    "tweets = tweets_df['text'].apply(process_tweet)\n",
    "\n",
    "labels = np.array(tweets_df['airline_sentiment'])"
   ]
  },
  {
   "cell_type": "code",
   "execution_count": 99,
   "id": "fde6c305",
   "metadata": {
    "colab": {
     "base_uri": "https://localhost:8080/"
    },
    "id": "fde6c305",
    "outputId": "778eb6b5-6b0b-4d55-b5e6-a421bc14ed1c"
   },
   "outputs": [
    {
     "data": {
      "text/plain": [
       "0                                                                                                                                            [what, , said]\n",
       "1                                                                                             [i, didnt, today, must, mean, i, need, to, take, anoth, trip]\n",
       "2                                               [it, realli, aggress, to, blast, obnoxi, entertain, in, your, guest, face, amp, they, have, littl, recours]\n",
       "3                                                                                                          [and, it, a, realli, big, bad, thing, about, it]\n",
       "4                   [serious, would, pay, dollar, a, flight, for, seat, that, didnt, have, thi, playing\\nit, realli, the, onli, bad, thing, about, fli, va]\n",
       "                                                                                ...                                                                        \n",
       "13278             [thank, you, for, do, the, best, you, could, to, get, me, rebook, agent, on, phone, amp, addtl, resolut, on, dm, wa, veri, much, appreci]\n",
       "13279                [no, email, no, phone, call, no, noth, youv, screw, with, my, flight, and, my, familyfriend, flight, you, cancel, flight, reserv, for]\n",
       "13280                                                                    [if, you, care, could, you, have, someon, call, me, to, explain, what, is, go, on]\n",
       "13281    [hey, whi, autom, call, me, and, then, hang, up, at, number, number, am, and, whi, cant, i, reschedul, cancel, flight, flight, via, web, come, on]\n",
       "13282                                                                                                    [from, a, servic, rep, but, that, hasnt, happen, ]\n",
       "Name: text, Length: 13283, dtype: object"
      ]
     },
     "execution_count": 99,
     "metadata": {},
     "output_type": "execute_result"
    }
   ],
   "source": [
    "tweets"
   ]
  },
  {
   "cell_type": "code",
   "execution_count": 100,
   "id": "d4f6d4bd",
   "metadata": {
    "colab": {
     "base_uri": "https://localhost:8080/"
    },
    "id": "d4f6d4bd",
    "outputId": "63bcb38d-4321-453b-c673-dc0a4283644f"
   },
   "outputs": [
    {
     "name": "stdout",
     "output_type": "stream",
     "text": [
      "Vocab length: 10759\n",
      "Max sequence length: 90\n"
     ]
    }
   ],
   "source": [
    "# Get size of vocabulary\n",
    "vocabulary = set()\n",
    "\n",
    "for tweet in tweets:\n",
    "    for word in tweet:\n",
    "        if word not in vocabulary:\n",
    "            vocabulary.add(word)\n",
    "\n",
    "vocab_length = len(vocabulary)\n",
    "\n",
    "# Get max length of a sequence\n",
    "max_seq_length = 0\n",
    "\n",
    "for tweet in tweets:\n",
    "    if len(tweet) > max_seq_length:\n",
    "        max_seq_length = len(tweet)\n",
    "\n",
    "# Print results\n",
    "print(\"Vocab length:\", vocab_length)\n",
    "print(\"Max sequence length:\", max_seq_length)"
   ]
  },
  {
   "cell_type": "code",
   "execution_count": 101,
   "id": "a3056285",
   "metadata": {
    "id": "a3056285"
   },
   "outputs": [],
   "source": [
    "tokenizer = Tokenizer(num_words=vocab_length)\n",
    "tokenizer.fit_on_texts(tweets)\n",
    "sequences = tokenizer.texts_to_sequences(tweets)\n",
    "\n",
    "\n",
    "word_index = tokenizer.word_index\n",
    "\n",
    "model_inputs = pad_sequences(sequences, maxlen=max_seq_length, padding='post')"
   ]
  },
  {
   "cell_type": "code",
   "execution_count": 102,
   "id": "1cce9a20",
   "metadata": {
    "colab": {
     "base_uri": "https://localhost:8080/"
    },
    "id": "1cce9a20",
    "outputId": "04565ffb-ba24-45d7-e446-eaf07a89e0aa"
   },
   "outputs": [
    {
     "data": {
      "text/plain": [
       "array([[  49,    2,  209, ...,    0,    0,    0],\n",
       "       [   5,  190,   99, ...,    0,    0,    0],\n",
       "       [  15,  142, 2740, ...,    0,    0,    0],\n",
       "       ...,\n",
       "       [  69,    8,  234, ...,    0,    0,    0],\n",
       "       [ 490,   70,  851, ...,    0,    0,    0],\n",
       "       [  30,    7,   40, ...,    0,    0,    0]], dtype=int32)"
      ]
     },
     "execution_count": 102,
     "metadata": {},
     "output_type": "execute_result"
    }
   ],
   "source": [
    "model_inputs\n"
   ]
  },
  {
   "cell_type": "code",
   "execution_count": 103,
   "id": "4c2cddbd",
   "metadata": {
    "colab": {
     "base_uri": "https://localhost:8080/"
    },
    "id": "4c2cddbd",
    "outputId": "4d99b9dd-d20a-4658-c1c5-3dbbab32a6a8"
   },
   "outputs": [
    {
     "data": {
      "text/plain": [
       "(13283, 90)"
      ]
     },
     "execution_count": 103,
     "metadata": {},
     "output_type": "execute_result"
    }
   ],
   "source": [
    "model_inputs.shape"
   ]
  },
  {
   "cell_type": "code",
   "execution_count": 104,
   "id": "6ca5d280",
   "metadata": {
    "id": "6ca5d280"
   },
   "outputs": [],
   "source": [
    "X_train, X_test, y_train, y_test = train_test_split(model_inputs, labels, train_size=0.7, random_state=22)"
   ]
  },
  {
   "cell_type": "code",
   "execution_count": 105,
   "id": "e26c325f",
   "metadata": {
    "colab": {
     "base_uri": "https://localhost:8080/",
     "height": 564
    },
    "id": "e26c325f",
    "outputId": "5e9a9547-d801-46a9-ad67-d4d91467685b"
   },
   "outputs": [
    {
     "data": {
      "image/png": "[encoded data removed]",
      "text/plain": [
       "<IPython.core.display.Image object>"
      ]
     },
     "execution_count": 105,
     "metadata": {},
     "output_type": "execute_result"
    }
   ],
   "source": [
    "embedding_dim = 32\n",
    "\n",
    "\n",
    "inputs = tf.keras.Input(shape=(max_seq_length,))\n",
    "\n",
    "embedding = tf.keras.layers.Embedding(\n",
    "    input_dim=vocab_length,\n",
    "    output_dim=embedding_dim,\n",
    "    input_length=max_seq_length\n",
    ")(inputs)\n",
    "\n",
    "\n",
    "# Model A (just a Flatten layer)\n",
    "flatten = tf.keras.layers.Flatten()(embedding)\n",
    "\n",
    "# Model B (GRU with a Flatten layer)\n",
    "gru = tf.keras.layers.GRU(units=embedding_dim)(embedding)\n",
    "gru_flatten = tf.keras.layers.Flatten()(gru)\n",
    "\n",
    "# Both A and B are fed into the output\n",
    "concat = tf.keras.layers.concatenate([flatten, gru_flatten])\n",
    "\n",
    "outputs = tf.keras.layers.Dense(3, activation='softmax')(concat)\n",
    "\n",
    "\n",
    "model = tf.keras.Model(inputs, outputs)\n",
    "\n",
    "tf.keras.utils.plot_model(model)"
   ]
  },
  {
   "cell_type": "code",
   "execution_count": 106,
   "id": "ecbdf995",
   "metadata": {
    "colab": {
     "base_uri": "https://localhost:8080/"
    },
    "id": "ecbdf995",
    "outputId": "77637ecc-d125-4b48-a0d0-35eee110f62b"
   },
   "outputs": [
    {
     "name": "stdout",
     "output_type": "stream",
     "text": [
      "Epoch 1/100\n",
      "233/233 [==============================] - 26s 96ms/step - loss: 0.8076 - accuracy: 0.6530 - val_loss: 0.7008 - val_accuracy: 0.7054 - lr: 0.0010\n",
      "Epoch 2/100\n",
      "233/233 [==============================] - 6s 27ms/step - loss: 0.5502 - accuracy: 0.7829 - val_loss: 0.5706 - val_accuracy: 0.7667 - lr: 0.0010\n",
      "Epoch 3/100\n",
      "233/233 [==============================] - 7s 29ms/step - loss: 0.3929 - accuracy: 0.8630 - val_loss: 0.5230 - val_accuracy: 0.7925 - lr: 0.0010\n",
      "Epoch 4/100\n",
      "233/233 [==============================] - 4s 18ms/step - loss: 0.2910 - accuracy: 0.9062 - val_loss: 0.5137 - val_accuracy: 0.7957 - lr: 0.0010\n",
      "Epoch 5/100\n",
      "233/233 [==============================] - 6s 25ms/step - loss: 0.2163 - accuracy: 0.9360 - val_loss: 0.5246 - val_accuracy: 0.7898 - lr: 0.0010\n",
      "Epoch 6/100\n",
      "233/233 [==============================] - 3s 13ms/step - loss: 0.1614 - accuracy: 0.9579 - val_loss: 0.5376 - val_accuracy: 0.7941 - lr: 0.0010\n",
      "Epoch 7/100\n",
      "233/233 [==============================] - ETA: 0s - loss: 0.1209 - accuracy: 0.9715Restoring model weights from the end of the best epoch: 4.\n",
      "233/233 [==============================] - 2s 11ms/step - loss: 0.1209 - accuracy: 0.9715 - val_loss: 0.5599 - val_accuracy: 0.7914 - lr: 0.0010\n",
      "Epoch 7: early stopping\n"
     ]
    }
   ],
   "source": [
    "model.compile(\n",
    "    optimizer='adam',\n",
    "    loss='sparse_categorical_crossentropy',\n",
    "    metrics=['accuracy']\n",
    ")\n",
    "\n",
    "\n",
    "batch_size = 32\n",
    "epochs = 100\n",
    "\n",
    "history = model.fit(\n",
    "    X_train,\n",
    "    y_train,\n",
    "    validation_split=0.2,\n",
    "    batch_size=batch_size,\n",
    "    epochs=epochs,\n",
    "    callbacks=[\n",
    "        tf.keras.callbacks.EarlyStopping(\n",
    "            monitor='val_loss',\n",
    "            patience=3,\n",
    "            restore_best_weights=True,\n",
    "            verbose=1\n",
    "        ),\n",
    "        tf.keras.callbacks.ReduceLROnPlateau()\n",
    "    ]\n",
    ")"
   ]
  },
  {
   "cell_type": "code",
   "execution_count": 107,
   "id": "95a13b13",
   "metadata": {
    "colab": {
     "base_uri": "https://localhost:8080/"
    },
    "id": "95a13b13",
    "outputId": "6c33ab5c-5acf-499f-b85c-bc77b0e9a5e2"
   },
   "outputs": [
    {
     "name": "stdout",
     "output_type": "stream",
     "text": [
      "125/125 [==============================] - 1s 5ms/step - loss: 0.4996 - accuracy: 0.8018\n"
     ]
    },
    {
     "data": {
      "text/plain": [
       "[0.49962925910949707, 0.8017565608024597]"
      ]
     },
     "execution_count": 107,
     "metadata": {},
     "output_type": "execute_result"
    }
   ],
   "source": [
    "model.evaluate(X_test, y_test)"
   ]
  },
  {
   "cell_type": "code",
   "execution_count": 107,
   "id": "b95f9b98",
   "metadata": {
    "id": "b95f9b98"
   },
   "outputs": [],
   "source": []
  },
  {
   "cell_type": "code",
   "execution_count": 108,
   "id": "8e597ec7",
   "metadata": {
    "id": "8e597ec7"
   },
   "outputs": [],
   "source": [
    "# IMPORT BERT AS NLP"
   ]
  },
  {
   "cell_type": "code",
   "execution_count": 109,
   "id": "epgyxiawgBvX",
   "metadata": {
    "id": "epgyxiawgBvX"
   },
   "outputs": [],
   "source": [
    "from transformers.models.bert.modeling_bert import BertModel\n",
    "# Import BERT pretrained module\n",
    "from transformers import BertModel\n",
    "\n",
    "#Download uncased bert base model\n",
    "bert=BertModel.from_pretrained('bert-base-uncased')"
   ]
  },
  {
   "cell_type": "code",
   "execution_count": 110,
   "id": "8BPMATGMgCFu",
   "metadata": {
    "colab": {
     "base_uri": "https://localhost:8080/"
    },
    "id": "8BPMATGMgCFu",
    "outputId": "bca25dbd-3057-441f-d6b1-63e55400f214"
   },
   "outputs": [
    {
     "name": "stdout",
     "output_type": "stream",
     "text": [
      "BertModel(\n",
      "  (embeddings): BertEmbeddings(\n",
      "    (word_embeddings): Embedding(30522, 768, padding_idx=0)\n",
      "    (position_embeddings): Embedding(512, 768)\n",
      "    (token_type_embeddings): Embedding(2, 768)\n",
      "    (LayerNorm): LayerNorm((768,), eps=1e-12, elementwise_affine=True)\n",
      "    (dropout): Dropout(p=0.1, inplace=False)\n",
      "  )\n",
      "  (encoder): BertEncoder(\n",
      "    (layer): ModuleList(\n",
      "      (0-11): 12 x BertLayer(\n",
      "        (attention): BertAttention(\n",
      "          (self): BertSelfAttention(\n",
      "            (query): Linear(in_features=768, out_features=768, bias=True)\n",
      "            (key): Linear(in_features=768, out_features=768, bias=True)\n",
      "            (value): Linear(in_features=768, out_features=768, bias=True)\n",
      "            (dropout): Dropout(p=0.1, inplace=False)\n",
      "          )\n",
      "          (output): BertSelfOutput(\n",
      "            (dense): Linear(in_features=768, out_features=768, bias=True)\n",
      "            (LayerNorm): LayerNorm((768,), eps=1e-12, elementwise_affine=True)\n",
      "            (dropout): Dropout(p=0.1, inplace=False)\n",
      "          )\n",
      "        )\n",
      "        (intermediate): BertIntermediate(\n",
      "          (dense): Linear(in_features=768, out_features=3072, bias=True)\n",
      "          (intermediate_act_fn): GELUActivation()\n",
      "        )\n",
      "        (output): BertOutput(\n",
      "          (dense): Linear(in_features=3072, out_features=768, bias=True)\n",
      "          (LayerNorm): LayerNorm((768,), eps=1e-12, elementwise_affine=True)\n",
      "          (dropout): Dropout(p=0.1, inplace=False)\n",
      "        )\n",
      "      )\n",
      "    )\n",
      "  )\n",
      "  (pooler): BertPooler(\n",
      "    (dense): Linear(in_features=768, out_features=768, bias=True)\n",
      "    (activation): Tanh()\n",
      "  )\n",
      ")\n"
     ]
    }
   ],
   "source": [
    "# Print BERT arcitecture\n",
    "print(bert)"
   ]
  },
  {
   "cell_type": "code",
   "execution_count": 111,
   "id": "337cb14b",
   "metadata": {
    "id": "337cb14b"
   },
   "outputs": [],
   "source": [
    "from transformers.models.bert.tokenization_bert_fast import BertTokenizerFast\n",
    "# importing BERT tokenizer\n",
    "tokenizer=BertTokenizerFast.from_pretrained('bert-base-uncased',do_lower_case=True)\n"
   ]
  },
  {
   "cell_type": "code",
   "execution_count": 112,
   "id": "074b2092",
   "metadata": {
    "colab": {
     "base_uri": "https://localhost:8080/"
    },
    "id": "074b2092",
    "outputId": "40f932db-a63f-4f05-9651-c49b8280408a"
   },
   "outputs": [
    {
     "name": "stdout",
     "output_type": "stream",
     "text": [
      "Integer Sequence:[101, 3958, 27227, 2001, 1037, 13997, 11510, 102, 0, 0]\n"
     ]
    },
    {
     "name": "stderr",
     "output_type": "stream",
     "text": [
      "/usr/local/lib/python3.10/dist-packages/transformers/tokenization_utils_base.py:2606: FutureWarning: The `pad_to_max_length` argument is deprecated and will be removed in a future version, use `padding=True` or `padding='longest'` to pad to the longest sequence in the batch, or use `padding='max_length'` to pad to a max length. In this case, you can give a specific length with `max_length` (e.g. `max_length=45`) or leave max_length to None to pad to the maximal input size of the model (e.g. 512 for Bert).\n",
      "  warnings.warn(\n"
     ]
    }
   ],
   "source": [
    "text='Jim Henson was a puppeteer'\n",
    "sentence_id=tokenizer.encode(text,\n",
    "                             # add special character tokens\n",
    "                             add_special_tokens=True,\n",
    "                             # Specifying maximum length for any input sequences\n",
    "                             max_length=10,\n",
    "                             # if exceeeding 10, then it will be truncated, if <10, then it will be padded.\n",
    "                             truncation=True,\n",
    "                             # add pad tokens to the right side of the sequence\n",
    "                             pad_to_max_length='right'\n",
    "                             )\n",
    "print(\"Integer Sequence:{}\".format(sentence_id))"
   ]
  },
  {
   "cell_type": "code",
   "execution_count": 113,
   "id": "916b0484",
   "metadata": {
    "colab": {
     "base_uri": "https://localhost:8080/"
    },
    "id": "916b0484",
    "outputId": "953422b5-cc44-4e52-f795-b49aaeef9e76"
   },
   "outputs": [
    {
     "name": "stdout",
     "output_type": "stream",
     "text": [
      "Tokenizer Text:  ['[CLS]', 'jim', 'henson', 'was', 'a', 'puppet', '##eer', '[SEP]', '[PAD]', '[PAD]']\n"
     ]
    }
   ],
   "source": [
    "# converting integers back to text\n",
    "print(\"Tokenizer Text: \",tokenizer.convert_ids_to_tokens(sentence_id))"
   ]
  },
  {
   "cell_type": "code",
   "execution_count": 114,
   "id": "b52d184f",
   "metadata": {
    "colab": {
     "base_uri": "https://localhost:8080/"
    },
    "id": "b52d184f",
    "outputId": "f37adf55-d086-4fd2-9f3e-e922e3d04b08"
   },
   "outputs": [
    {
     "name": "stdout",
     "output_type": "stream",
     "text": [
      "Decoded String:[CLS] jim henson was a puppeteer [SEP] [PAD] [PAD]\n"
     ]
    }
   ],
   "source": [
    "decoded=tokenizer.decode(sentence_id)\n",
    "print('Decoded String:{}'.format(decoded))"
   ]
  },
  {
   "cell_type": "code",
   "execution_count": 115,
   "id": "461db8ef",
   "metadata": {
    "colab": {
     "base_uri": "https://localhost:8080/"
    },
    "id": "461db8ef",
    "outputId": "c15ad2d4-553f-4647-8133-cac0b77f2a04"
   },
   "outputs": [
    {
     "name": "stdout",
     "output_type": "stream",
     "text": [
      "[1, 1, 1, 1, 1, 1, 1, 1, 0, 0]\n"
     ]
    }
   ],
   "source": [
    "att_mask=[int(tok>0) for tok in sentence_id]\n",
    "print(att_mask)"
   ]
  },
  {
   "cell_type": "code",
   "execution_count": 116,
   "id": "b4e5b9cf",
   "metadata": {
    "colab": {
     "base_uri": "https://localhost:8080/"
    },
    "id": "b4e5b9cf",
    "outputId": "175d69d3-4369-4a33-ca56-8bac8b56833f"
   },
   "outputs": [
    {
     "name": "stdout",
     "output_type": "stream",
     "text": [
      "Shape of sentence_id before reshaping is: torch.Size([10])\n",
      "Shape of sentence_id before reshaping is: torch.Size([10])\n",
      "\n",
      "\n",
      "Shape of sentence_id after reshaping is: torch.Size([1, 10])\n",
      "Shape of sentence_id after reshaping is: torch.Size([1, 10])\n",
      "\n",
      "\n",
      "tensor([[  101,  3958, 27227,  2001,  1037, 13997, 11510,   102,     0,     0]])\n"
     ]
    }
   ],
   "source": [
    "# convert lists to tensors\n",
    "# torch.tensor creates a tensor of given data\n",
    "sent_id=torch.tensor(sentence_id)\n",
    "attn_mask=torch.tensor(att_mask)\n",
    "print('Shape of sentence_id before reshaping is: {}'.format(sent_id.shape))\n",
    "print('Shape of sentence_id before reshaping is: {}'.format(attn_mask.shape))\n",
    "print('\\n')\n",
    "# reshaping tensor in form of batch,text length\n",
    "sent_id=sent_id.unsqueeze(0)\n",
    "attn_mask=attn_mask.unsqueeze(0)\n",
    "print('Shape of sentence_id after reshaping is: {}'.format(sent_id.shape))\n",
    "print('Shape of sentence_id after reshaping is: {}'.format(attn_mask.shape))\n",
    "print('\\n')\n",
    "# reshaped tensor\n",
    "print(sent_id)\n"
   ]
  },
  {
   "cell_type": "code",
   "execution_count": 117,
   "id": "5176ca5b",
   "metadata": {
    "id": "5176ca5b"
   },
   "outputs": [],
   "source": [
    "# passing integer sequence and attention mask tensor to BERT model\n",
    "outputs=bert(sent_id,attention_mask=attn_mask)\n"
   ]
  },
  {
   "cell_type": "code",
   "execution_count": 118,
   "id": "27ced4c4",
   "metadata": {
    "colab": {
     "base_uri": "https://localhost:8080/"
    },
    "id": "27ced4c4",
    "outputId": "895187ae-2f20-43a2-e936-e91d6f1bb67d"
   },
   "outputs": [
    {
     "name": "stdout",
     "output_type": "stream",
     "text": [
      "torch.Size([1, 10, 768])\n",
      "tensor([[[-0.2531,  0.2038, -0.3862,  ..., -0.3034,  0.6197,  0.2373],\n",
      "         [-0.2323, -0.0044, -0.5479,  ...,  0.0765,  0.8122, -0.4710],\n",
      "         [ 0.2590,  0.7140, -0.5438,  ..., -0.3774,  0.9987,  0.5400],\n",
      "         ...,\n",
      "         [ 0.7873,  0.3299, -0.0351,  ...,  0.2932, -0.5141,  0.0308],\n",
      "         [-0.5547, -0.3669, -0.1106,  ...,  0.2593,  0.5321, -0.3871],\n",
      "         [-0.5461, -0.2414, -0.2111,  ...,  0.3100,  0.5863, -0.3467]]],\n",
      "       grad_fn=<NativeLayerNormBackward0>)\n"
     ]
    }
   ],
   "source": [
    "# Unpacking the output of BERT model\n",
    "\n",
    "# all_hidden_states is a collection of all the output vectors/ hidden states (of encoder) at each timestamps or position of the BERT model\n",
    "all_hidden_states=outputs[0]\n",
    "\n",
    "print(all_hidden_states.shape)\n",
    "print(all_hidden_states)"
   ]
  },
  {
   "cell_type": "code",
   "execution_count": 119,
   "id": "6347fd2c",
   "metadata": {
    "colab": {
     "base_uri": "https://localhost:8080/"
    },
    "id": "6347fd2c",
    "outputId": "c2c2efc5-ce46-4971-e8ba-ad009d39ab45"
   },
   "outputs": [
    {
     "name": "stdout",
     "output_type": "stream",
     "text": [
      "torch.Size([1, 768])\n",
      "tensor([[-0.8767, -0.4109, -0.1220,  0.4494,  0.1945, -0.2698,  0.8316,  0.3127,\n",
      "          0.1178, -1.0000, -0.1561,  0.6677,  0.9891, -0.3451,  0.8812, -0.6753,\n",
      "         -0.3079, -0.5580,  0.4380, -0.4588,  0.5831,  0.9956,  0.4467,  0.2863,\n",
      "          0.3924,  0.6864, -0.7513,  0.9043,  0.9436,  0.8207, -0.6493,  0.3524,\n",
      "         -0.9919, -0.2295, -0.0742, -0.9936,  0.3698, -0.7558,  0.0792, -0.2218,\n",
      "         -0.8637,  0.4711,  0.9997, -0.4368,  0.0404, -0.3498, -1.0000,  0.2663,\n",
      "         -0.8711,  0.0508,  0.0505, -0.1634,  0.1716,  0.4363,  0.4330, -0.0333,\n",
      "         -0.0416,  0.2206, -0.2568, -0.6122, -0.5916,  0.2569, -0.2622, -0.9041,\n",
      "          0.3221, -0.2394, -0.2634, -0.3454, -0.0723,  0.0081,  0.8297,  0.2279,\n",
      "          0.1614, -0.6555, -0.2062,  0.3280, -0.4016,  1.0000, -0.0952, -0.9874,\n",
      "         -0.0400,  0.0717,  0.3675,  0.3373, -0.3710, -1.0000,  0.4479, -0.1722,\n",
      "         -0.9917,  0.2677,  0.4844, -0.2207, -0.3207,  0.3715, -0.2171, -0.2522,\n",
      "         -0.3071, -0.3161, -0.1988, -0.0860, -0.0114, -0.1982, -0.1799, -0.3221,\n",
      "          0.1751, -0.4442, -0.1570, -0.0434, -0.0893,  0.5717,  0.3112, -0.2900,\n",
      "          0.3305, -0.9430,  0.6061, -0.2984, -0.9873, -0.3956, -0.9926,  0.7857,\n",
      "         -0.1692, -0.2719,  0.9505,  0.5628,  0.2904, -0.1693,  0.1619, -1.0000,\n",
      "         -0.1697, -0.1534,  0.2513, -0.2857, -0.9846, -0.9638,  0.5565,  0.9200,\n",
      "          0.1805,  0.9995, -0.2122,  0.9391,  0.3246, -0.3937, -0.1248, -0.5209,\n",
      "          0.0519,  0.1141, -0.6463,  0.3529, -0.0322, -0.3837, -0.3796, -0.2830,\n",
      "          0.1280, -0.9191, -0.4201,  0.9145,  0.0713, -0.2455,  0.5212, -0.2642,\n",
      "         -0.3675,  0.8082,  0.2577,  0.2755, -0.0157,  0.3675, -0.3107,  0.4502,\n",
      "         -0.8224,  0.2841,  0.4360, -0.3193,  0.2164, -0.9851, -0.4444,  0.5759,\n",
      "          0.9878,  0.7531,  0.3384,  0.2003, -0.2602,  0.4695, -0.9561,  0.9855,\n",
      "         -0.1712,  0.2295,  0.1220, -0.1386, -0.8436, -0.3783,  0.8371, -0.3204,\n",
      "         -0.8457, -0.0473, -0.4219, -0.3593, -0.2187,  0.5282, -0.3149, -0.4375,\n",
      "         -0.0440,  0.9242,  0.9296,  0.7735, -0.3733,  0.3945, -0.9049, -0.2898,\n",
      "          0.2695,  0.2910,  0.1695,  0.9932, -0.3069, -0.1611, -0.8349, -0.9827,\n",
      "          0.1299, -0.8555, -0.0531, -0.6830,  0.3926,  0.2873, -0.1899,  0.2598,\n",
      "         -0.9201, -0.7455,  0.3943, -0.3955,  0.4015, -0.2341,  0.7593,  0.3421,\n",
      "         -0.6143,  0.5170,  0.8987,  0.1072, -0.6858,  0.6481, -0.2454,  0.8712,\n",
      "         -0.5958,  0.9936,  0.3404,  0.4972, -0.9452, -0.2347, -0.8748, -0.0154,\n",
      "         -0.1293, -0.5265,  0.4235,  0.4206,  0.3663,  0.7488, -0.4650,  0.9900,\n",
      "         -0.8695, -0.9701, -0.5203, -0.0900, -0.9914,  0.0978,  0.2844, -0.0424,\n",
      "         -0.4649, -0.4546, -0.9620,  0.8035,  0.2177,  0.9705, -0.0793, -0.7985,\n",
      "         -0.3436, -0.9537, -0.0035, -0.0945,  0.4291,  0.0391, -0.9602,  0.4497,\n",
      "          0.5135,  0.4913,  0.0608,  0.9948,  1.0000,  0.9810,  0.8865,  0.7961,\n",
      "         -0.9894, -0.5122,  1.0000, -0.8521, -1.0000, -0.9412, -0.6633,  0.3110,\n",
      "         -1.0000, -0.1468, -0.1235, -0.9465, -0.0891,  0.9796,  0.9700, -1.0000,\n",
      "          0.9324,  0.9259, -0.4503,  0.4591, -0.1785,  0.9819,  0.2285,  0.4423,\n",
      "         -0.2615,  0.4124, -0.5252, -0.8534,  0.0365, -0.0670,  0.8944,  0.1913,\n",
      "         -0.4782, -0.9402,  0.2293, -0.1581, -0.2440, -0.9604, -0.1924, -0.0555,\n",
      "          0.5484,  0.1915,  0.2038, -0.7367,  0.2698, -0.7307,  0.3715,  0.5640,\n",
      "         -0.9386, -0.5717,  0.3818, -0.2775,  0.1536, -0.9608,  0.9702, -0.3502,\n",
      "          0.1524,  1.0000,  0.3876, -0.9001,  0.2547,  0.1857,  0.0832,  1.0000,\n",
      "          0.3811, -0.9852, -0.4053,  0.2576, -0.3923, -0.4125,  0.9994, -0.1463,\n",
      "         -0.0428,  0.2818,  0.9899, -0.9923,  0.8351, -0.8563, -0.9634,  0.9617,\n",
      "          0.9268, -0.4225, -0.7369,  0.1318,  0.1107,  0.2294, -0.8914,  0.6082,\n",
      "          0.4665, -0.0720,  0.8555, -0.7973, -0.3478,  0.4201, -0.1762,  0.0761,\n",
      "          0.2823,  0.4571, -0.1350,  0.1190, -0.3509, -0.4039, -0.9556,  0.0262,\n",
      "          1.0000, -0.2164,  0.0569, -0.2296, -0.1003, -0.1827,  0.4036,  0.4715,\n",
      "         -0.3293, -0.8471, -0.0518, -0.8453, -0.9935,  0.6732,  0.2284, -0.1968,\n",
      "          0.9998,  0.5194,  0.2326,  0.1718,  0.7497, -0.0192,  0.4518, -0.0327,\n",
      "          0.9765, -0.3259,  0.3491,  0.7471, -0.3186, -0.3019, -0.5725,  0.0563,\n",
      "         -0.9206,  0.0572, -0.9589,  0.9565,  0.3109,  0.3348,  0.1635, -0.0619,\n",
      "          1.0000, -0.6020,  0.5309, -0.3723,  0.6636, -0.9851, -0.6789, -0.4312,\n",
      "         -0.1435, -0.0827, -0.2497,  0.1323, -0.9786, -0.0474, -0.0304, -0.9444,\n",
      "         -0.9927,  0.2508,  0.6172,  0.1679, -0.7980, -0.6078, -0.4906,  0.4646,\n",
      "         -0.1934, -0.9396,  0.5453, -0.3000,  0.4329, -0.3340,  0.4408, -0.2058,\n",
      "          0.8344,  0.1265, -0.0307, -0.2098, -0.8340,  0.7114, -0.7410,  0.0518,\n",
      "         -0.1481,  1.0000, -0.3100,  0.1461,  0.7011,  0.6334, -0.2857,  0.1618,\n",
      "          0.0966,  0.2955, -0.0981, -0.1832, -0.6208, -0.3013,  0.4337,  0.0283,\n",
      "         -0.2959,  0.7579,  0.4711,  0.3666, -0.0531,  0.0914,  0.9969, -0.2267,\n",
      "         -0.1165, -0.5533, -0.1262, -0.3575, -0.2124,  1.0000,  0.3679,  0.0604,\n",
      "         -0.9936, -0.2000, -0.9208,  0.9999,  0.8511, -0.8783,  0.5650,  0.2405,\n",
      "         -0.2859,  0.6935, -0.2598, -0.2655,  0.2893,  0.2862,  0.9774, -0.4575,\n",
      "         -0.9764, -0.5964,  0.3966, -0.9575,  0.9939, -0.5326, -0.2349, -0.4376,\n",
      "         -0.0250,  0.2574,  0.0274, -0.9762, -0.1582,  0.1821,  0.9811,  0.3014,\n",
      "         -0.3820, -0.9007, -0.1151,  0.3936, -0.0680, -0.9449,  0.9809, -0.9313,\n",
      "          0.2600,  1.0000,  0.3860, -0.5243,  0.2401, -0.4410,  0.3253, -0.1413,\n",
      "          0.5428, -0.9466, -0.2817, -0.3262,  0.4330, -0.2120, -0.2457,  0.7247,\n",
      "          0.2134, -0.3430, -0.6305, -0.1214,  0.4871,  0.7498, -0.2957, -0.1829,\n",
      "          0.1699, -0.1391, -0.9264, -0.4167, -0.2995, -0.9991,  0.6411, -1.0000,\n",
      "         -0.1510, -0.5473, -0.2219,  0.8075,  0.3862, -0.1392, -0.7206, -0.0710,\n",
      "          0.6995,  0.6656, -0.2889,  0.2902, -0.6951,  0.1622, -0.1298,  0.3182,\n",
      "          0.1694,  0.6526, -0.2735,  1.0000,  0.1370, -0.3043, -0.9189,  0.3041,\n",
      "         -0.2604,  1.0000, -0.7969, -0.9715,  0.2110, -0.5773, -0.7218,  0.2477,\n",
      "         -0.0304, -0.7015, -0.6577,  0.9111,  0.8219, -0.3693,  0.4537, -0.3062,\n",
      "         -0.3671,  0.0856,  0.1595,  0.9903,  0.2790,  0.8213, -0.2885, -0.0724,\n",
      "          0.9636,  0.2213,  0.6892,  0.2070,  1.0000,  0.3249, -0.8999,  0.2644,\n",
      "         -0.9700, -0.2610, -0.9228,  0.4016,  0.1170,  0.8570, -0.3587,  0.9672,\n",
      "          0.0667,  0.1108, -0.1840,  0.4711,  0.3127, -0.9391, -0.9892, -0.9908,\n",
      "          0.3962, -0.5013, -0.0640,  0.3811,  0.1530,  0.4712,  0.3781, -1.0000,\n",
      "          0.9466,  0.3529,  0.2077,  0.9735,  0.2019,  0.4726,  0.4248, -0.9892,\n",
      "         -0.9203, -0.3418, -0.2910,  0.6572,  0.5584,  0.8190,  0.4319, -0.4171,\n",
      "         -0.4697,  0.4653, -0.8583, -0.9940,  0.4802,  0.0740, -0.8986,  0.9559,\n",
      "         -0.4745, -0.1616,  0.4457,  0.1412,  0.8933,  0.8280,  0.4313,  0.2437,\n",
      "          0.6787,  0.9043,  0.8940,  0.9903, -0.2561,  0.6986, -0.0055,  0.3281,\n",
      "          0.6809, -0.9586,  0.1583,  0.0033, -0.2711,  0.3025, -0.1928, -0.9207,\n",
      "          0.5260, -0.2139,  0.5709, -0.2302,  0.1593, -0.4779, -0.1577, -0.7036,\n",
      "         -0.5208,  0.4676,  0.2335,  0.9372,  0.4775, -0.1995, -0.5655, -0.2336,\n",
      "          0.0798, -0.9315,  0.8288, -0.0946,  0.5294,  0.0223, -0.0744,  0.7821,\n",
      "          0.1236, -0.3705, -0.3959, -0.7528,  0.8145, -0.3204, -0.4786, -0.5135,\n",
      "          0.7306,  0.3208,  0.9981, -0.3959, -0.3492, -0.1118, -0.2872,  0.3596,\n",
      "         -0.1345, -1.0000,  0.2896,  0.2262,  0.1702, -0.3530,  0.1111, -0.0755,\n",
      "         -0.9565, -0.2658,  0.2530, -0.0490, -0.5834, -0.4616,  0.3937,  0.2329,\n",
      "          0.5620,  0.8138, -0.0288,  0.5621,  0.3811,  0.0852, -0.6049,  0.8452]],\n",
      "       grad_fn=<TanhBackward0>)\n"
     ]
    }
   ],
   "source": [
    "# this output contains output vector against the CLS token only (at the first position of BERT model)\n",
    "# this output vector encodes the entire input sequence\n",
    "\n",
    "cls_hidden_state=outputs[1]\n",
    "\n",
    "print(cls_hidden_state.shape)\n",
    "print(cls_hidden_state)"
   ]
  },
  {
   "cell_type": "code",
   "execution_count": 120,
   "id": "2a8b1f34",
   "metadata": {
    "colab": {
     "base_uri": "https://localhost:8080/"
    },
    "id": "2a8b1f34",
    "outputId": "20e983e5-e33a-4338-c5fa-a6d33ed8a06c"
   },
   "outputs": [
    {
     "data": {
      "text/plain": [
       "(13283, 15)"
      ]
     },
     "execution_count": 120,
     "metadata": {},
     "output_type": "execute_result"
    }
   ],
   "source": [
    "data.shape"
   ]
  },
  {
   "cell_type": "code",
   "execution_count": 121,
   "id": "j7HNCdVZkKHA",
   "metadata": {
    "id": "j7HNCdVZkKHA"
   },
   "outputs": [],
   "source": [
    "df=tweets_df"
   ]
  },
  {
   "cell_type": "code",
   "execution_count": 122,
   "id": "53b8333f",
   "metadata": {
    "id": "53b8333f"
   },
   "outputs": [],
   "source": [
    "# Sabing value counts to a list\n",
    "class_counts=df['airline_sentiment'].value_counts().to_list()"
   ]
  },
  {
   "cell_type": "code",
   "execution_count": 122,
   "id": "5c591920",
   "metadata": {
    "id": "5c591920"
   },
   "outputs": [],
   "source": []
  },
  {
   "cell_type": "code",
   "execution_count": 123,
   "id": "4b645e4a",
   "metadata": {
    "id": "4b645e4a"
   },
   "outputs": [],
   "source": [
    "#TEXT CLEANING"
   ]
  },
  {
   "cell_type": "code",
   "execution_count": 124,
   "id": "a5299a78",
   "metadata": {
    "id": "a5299a78"
   },
   "outputs": [],
   "source": [
    "def preprocess(text):\n",
    "  # converting text tolower case\n",
    "  text=text.lower()\n",
    "  # remove user mentions\n",
    "  text=re.sub(r'@[A-Za-z0-9]+','',text)\n",
    "  # remove hashtags if needed keep for now\n",
    "  #text=re.sub(r'#[A-Za-z0-9]+','',text)\n",
    "\n",
    "  # remove links\n",
    "  text=re.sub(r'http\\S+','',text)\n",
    "\n",
    "  # Split tokens so that extra spaces which were added due to above substitution are removed\n",
    "  tokens=text.split()\n",
    "\n",
    "  # join tokens by space\n",
    "  return ' '.join(tokens)"
   ]
  },
  {
   "cell_type": "code",
   "execution_count": 125,
   "id": "6aa41f2f",
   "metadata": {
    "id": "6aa41f2f"
   },
   "outputs": [],
   "source": [
    "# using apply function to apply this preprocess function on each row of the text column\n",
    "data['cleaned_text']=data['text'].apply(preprocess)"
   ]
  },
  {
   "cell_type": "code",
   "execution_count": 126,
   "id": "896a781a",
   "metadata": {
    "colab": {
     "base_uri": "https://localhost:8080/",
     "height": 241
    },
    "id": "896a781a",
    "outputId": "23469ff5-7f17-4ca7-ceec-57b4deb022be"
   },
   "outputs": [
    {
     "data": {
      "text/html": [
       "\n",
       "  <div id=\"df-a7040ac4-c5d0-4fe9-ad74-9e415fbfedbe\" class=\"colab-df-container\">\n",
       "    <div>\n",
       "<style scoped>\n",
       "    .dataframe tbody tr th:only-of-type {\n",
       "        vertical-align: middle;\n",
       "    }\n",
       "\n",
       "    .dataframe tbody tr th {\n",
       "        vertical-align: top;\n",
       "    }\n",
       "\n",
       "    .dataframe thead th {\n",
       "        text-align: right;\n",
       "    }\n",
       "</style>\n",
       "<table border=\"1\" class=\"dataframe\">\n",
       "  <thead>\n",
       "    <tr style=\"text-align: right;\">\n",
       "      <th></th>\n",
       "      <th>airline_sentiment</th>\n",
       "      <th>text</th>\n",
       "      <th>cleaned_text</th>\n",
       "    </tr>\n",
       "  </thead>\n",
       "  <tbody>\n",
       "    <tr>\n",
       "      <th>0</th>\n",
       "      <td>neutral</td>\n",
       "      <td>@VirginAmerica What @dhepburn said.</td>\n",
       "      <td>what said.</td>\n",
       "    </tr>\n",
       "    <tr>\n",
       "      <th>1</th>\n",
       "      <td>neutral</td>\n",
       "      <td>@VirginAmerica I didn't today... Must mean I need to take another trip!</td>\n",
       "      <td>i didn't today... must mean i need to take another trip!</td>\n",
       "    </tr>\n",
       "    <tr>\n",
       "      <th>2</th>\n",
       "      <td>negative</td>\n",
       "      <td>@VirginAmerica it's really aggressive to blast obnoxious \"entertainment\" in your guests' faces &amp;amp; they have little recourse</td>\n",
       "      <td>it's really aggressive to blast obnoxious \"entertainment\" in your guests' faces &amp;amp; they have little recourse</td>\n",
       "    </tr>\n",
       "    <tr>\n",
       "      <th>3</th>\n",
       "      <td>negative</td>\n",
       "      <td>@VirginAmerica and it's a really big bad thing about it</td>\n",
       "      <td>and it's a really big bad thing about it</td>\n",
       "    </tr>\n",
       "    <tr>\n",
       "      <th>4</th>\n",
       "      <td>negative</td>\n",
       "      <td>@VirginAmerica seriously would pay $30 a flight for seats that didn't have this playing.\\nit's really the only bad thing about flying VA</td>\n",
       "      <td>seriously would pay $30 a flight for seats that didn't have this playing. it's really the only bad thing about flying va</td>\n",
       "    </tr>\n",
       "  </tbody>\n",
       "</table>\n",
       "</div>\n",
       "    <div class=\"colab-df-buttons\">\n",
       "\n",
       "  <div class=\"colab-df-container\">\n",
       "    <button class=\"colab-df-convert\" onclick=\"convertToInteractive('df-a7040ac4-c5d0-4fe9-ad74-9e415fbfedbe')\"\n",
       "            title=\"Convert this dataframe to an interactive table.\"\n",
       "            style=\"display:none;\">\n",
       "\n",
       "  <svg xmlns=\"http://www.w3.org/2000/svg\" height=\"24px\" viewBox=\"0 -960 960 960\">\n",
       "    <path d=\"M120-120v-720h720v720H120Zm60-500h600v-160H180v160Zm220 220h160v-160H400v160Zm0 220h160v-160H400v160ZM180-400h160v-160H180v160Zm440 0h160v-160H620v160ZM180-180h160v-160H180v160Zm440 0h160v-160H620v160Z\"/>\n",
       "  </svg>\n",
       "    </button>\n",
       "\n",
       "  <style>\n",
       "    .colab-df-container {\n",
       "      display:flex;\n",
       "      gap: 12px;\n",
       "    }\n",
       "\n",
       "    .colab-df-convert {\n",
       "      background-color: #E8F0FE;\n",
       "      border: none;\n",
       "      border-radius: 50%;\n",
       "      cursor: pointer;\n",
       "      display: none;\n",
       "      fill: #1967D2;\n",
       "      height: 32px;\n",
       "      padding: 0 0 0 0;\n",
       "      width: 32px;\n",
       "    }\n",
       "\n",
       "    .colab-df-convert:hover {\n",
       "      background-color: #E2EBFA;\n",
       "      box-shadow: 0px 1px 2px rgba(60, 64, 67, 0.3), 0px 1px 3px 1px rgba(60, 64, 67, 0.15);\n",
       "      fill: #174EA6;\n",
       "    }\n",
       "\n",
       "    .colab-df-buttons div {\n",
       "      margin-bottom: 4px;\n",
       "    }\n",
       "\n",
       "    [theme=dark] .colab-df-convert {\n",
       "      background-color: #3B4455;\n",
       "      fill: #D2E3FC;\n",
       "    }\n",
       "\n",
       "    [theme=dark] .colab-df-convert:hover {\n",
       "      background-color: #434B5C;\n",
       "      box-shadow: 0px 1px 3px 1px rgba(0, 0, 0, 0.15);\n",
       "      filter: drop-shadow(0px 1px 2px rgba(0, 0, 0, 0.3));\n",
       "      fill: #FFFFFF;\n",
       "    }\n",
       "  </style>\n",
       "\n",
       "    <script>\n",
       "      const buttonEl =\n",
       "        document.querySelector('#df-a7040ac4-c5d0-4fe9-ad74-9e415fbfedbe button.colab-df-convert');\n",
       "      buttonEl.style.display =\n",
       "        google.colab.kernel.accessAllowed ? 'block' : 'none';\n",
       "\n",
       "      async function convertToInteractive(key) {\n",
       "        const element = document.querySelector('#df-a7040ac4-c5d0-4fe9-ad74-9e415fbfedbe');\n",
       "        const dataTable =\n",
       "          await google.colab.kernel.invokeFunction('convertToInteractive',\n",
       "                                                    [key], {});\n",
       "        if (!dataTable) return;\n",
       "\n",
       "        const docLinkHtml = 'Like what you see? Visit the ' +\n",
       "          '<a target=\"_blank\" href=https://colab.research.google.com/notebooks/data_table.ipynb>data table notebook</a>'\n",
       "          + ' to learn more about interactive tables.';\n",
       "        element.innerHTML = '';\n",
       "        dataTable['output_type'] = 'display_data';\n",
       "        await google.colab.output.renderOutput(dataTable, element);\n",
       "        const docLink = document.createElement('div');\n",
       "        docLink.innerHTML = docLinkHtml;\n",
       "        element.appendChild(docLink);\n",
       "      }\n",
       "    </script>\n",
       "  </div>\n",
       "\n",
       "\n",
       "<div id=\"df-429e4e40-ec1e-43ea-9813-b868fd4e55b0\">\n",
       "  <button class=\"colab-df-quickchart\" onclick=\"quickchart('df-429e4e40-ec1e-43ea-9813-b868fd4e55b0')\"\n",
       "            title=\"Suggest charts.\"\n",
       "            style=\"display:none;\">\n",
       "\n",
       "<svg xmlns=\"http://www.w3.org/2000/svg\" height=\"24px\"viewBox=\"0 0 24 24\"\n",
       "     width=\"24px\">\n",
       "    <g>\n",
       "        <path d=\"M19 3H5c-1.1 0-2 .9-2 2v14c0 1.1.9 2 2 2h14c1.1 0 2-.9 2-2V5c0-1.1-.9-2-2-2zM9 17H7v-7h2v7zm4 0h-2V7h2v10zm4 0h-2v-4h2v4z\"/>\n",
       "    </g>\n",
       "</svg>\n",
       "  </button>\n",
       "\n",
       "<style>\n",
       "  .colab-df-quickchart {\n",
       "      --bg-color: #E8F0FE;\n",
       "      --fill-color: #1967D2;\n",
       "      --hover-bg-color: #E2EBFA;\n",
       "      --hover-fill-color: #174EA6;\n",
       "      --disabled-fill-color: #AAA;\n",
       "      --disabled-bg-color: #DDD;\n",
       "  }\n",
       "\n",
       "  [theme=dark] .colab-df-quickchart {\n",
       "      --bg-color: #3B4455;\n",
       "      --fill-color: #D2E3FC;\n",
       "      --hover-bg-color: #434B5C;\n",
       "      --hover-fill-color: #FFFFFF;\n",
       "      --disabled-bg-color: #3B4455;\n",
       "      --disabled-fill-color: #666;\n",
       "  }\n",
       "\n",
       "  .colab-df-quickchart {\n",
       "    background-color: var(--bg-color);\n",
       "    border: none;\n",
       "    border-radius: 50%;\n",
       "    cursor: pointer;\n",
       "    display: none;\n",
       "    fill: var(--fill-color);\n",
       "    height: 32px;\n",
       "    padding: 0;\n",
       "    width: 32px;\n",
       "  }\n",
       "\n",
       "  .colab-df-quickchart:hover {\n",
       "    background-color: var(--hover-bg-color);\n",
       "    box-shadow: 0 1px 2px rgba(60, 64, 67, 0.3), 0 1px 3px 1px rgba(60, 64, 67, 0.15);\n",
       "    fill: var(--button-hover-fill-color);\n",
       "  }\n",
       "\n",
       "  .colab-df-quickchart-complete:disabled,\n",
       "  .colab-df-quickchart-complete:disabled:hover {\n",
       "    background-color: var(--disabled-bg-color);\n",
       "    fill: var(--disabled-fill-color);\n",
       "    box-shadow: none;\n",
       "  }\n",
       "\n",
       "  .colab-df-spinner {\n",
       "    border: 2px solid var(--fill-color);\n",
       "    border-color: transparent;\n",
       "    border-bottom-color: var(--fill-color);\n",
       "    animation:\n",
       "      spin 1s steps(1) infinite;\n",
       "  }\n",
       "\n",
       "  @keyframes spin {\n",
       "    0% {\n",
       "      border-color: transparent;\n",
       "      border-bottom-color: var(--fill-color);\n",
       "      border-left-color: var(--fill-color);\n",
       "    }\n",
       "    20% {\n",
       "      border-color: transparent;\n",
       "      border-left-color: var(--fill-color);\n",
       "      border-top-color: var(--fill-color);\n",
       "    }\n",
       "    30% {\n",
       "      border-color: transparent;\n",
       "      border-left-color: var(--fill-color);\n",
       "      border-top-color: var(--fill-color);\n",
       "      border-right-color: var(--fill-color);\n",
       "    }\n",
       "    40% {\n",
       "      border-color: transparent;\n",
       "      border-right-color: var(--fill-color);\n",
       "      border-top-color: var(--fill-color);\n",
       "    }\n",
       "    60% {\n",
       "      border-color: transparent;\n",
       "      border-right-color: var(--fill-color);\n",
       "    }\n",
       "    80% {\n",
       "      border-color: transparent;\n",
       "      border-right-color: var(--fill-color);\n",
       "      border-bottom-color: var(--fill-color);\n",
       "    }\n",
       "    90% {\n",
       "      border-color: transparent;\n",
       "      border-bottom-color: var(--fill-color);\n",
       "    }\n",
       "  }\n",
       "</style>\n",
       "\n",
       "  <script>\n",
       "    async function quickchart(key) {\n",
       "      const quickchartButtonEl =\n",
       "        document.querySelector('#' + key + ' button');\n",
       "      quickchartButtonEl.disabled = true;  // To prevent multiple clicks.\n",
       "      quickchartButtonEl.classList.add('colab-df-spinner');\n",
       "      try {\n",
       "        const charts = await google.colab.kernel.invokeFunction(\n",
       "            'suggestCharts', [key], {});\n",
       "      } catch (error) {\n",
       "        console.error('Error during call to suggestCharts:', error);\n",
       "      }\n",
       "      quickchartButtonEl.classList.remove('colab-df-spinner');\n",
       "      quickchartButtonEl.classList.add('colab-df-quickchart-complete');\n",
       "    }\n",
       "    (() => {\n",
       "      let quickchartButtonEl =\n",
       "        document.querySelector('#df-429e4e40-ec1e-43ea-9813-b868fd4e55b0 button');\n",
       "      quickchartButtonEl.style.display =\n",
       "        google.colab.kernel.accessAllowed ? 'block' : 'none';\n",
       "    })();\n",
       "  </script>\n",
       "</div>\n",
       "    </div>\n",
       "  </div>\n"
      ],
      "text/plain": [
       "  airline_sentiment  \\\n",
       "0           neutral   \n",
       "1           neutral   \n",
       "2          negative   \n",
       "3          negative   \n",
       "4          negative   \n",
       "\n",
       "                                                                                                                                       text  \\\n",
       "0                                                                                                       @VirginAmerica What @dhepburn said.   \n",
       "1                                                                   @VirginAmerica I didn't today... Must mean I need to take another trip!   \n",
       "2            @VirginAmerica it's really aggressive to blast obnoxious \"entertainment\" in your guests' faces &amp; they have little recourse   \n",
       "3                                                                                   @VirginAmerica and it's a really big bad thing about it   \n",
       "4  @VirginAmerica seriously would pay $30 a flight for seats that didn't have this playing.\\nit's really the only bad thing about flying VA   \n",
       "\n",
       "                                                                                                               cleaned_text  \n",
       "0                                                                                                                what said.  \n",
       "1                                                                  i didn't today... must mean i need to take another trip!  \n",
       "2           it's really aggressive to blast obnoxious \"entertainment\" in your guests' faces &amp; they have little recourse  \n",
       "3                                                                                  and it's a really big bad thing about it  \n",
       "4  seriously would pay $30 a flight for seats that didn't have this playing. it's really the only bad thing about flying va  "
      ]
     },
     "execution_count": 126,
     "metadata": {},
     "output_type": "execute_result"
    }
   ],
   "source": [
    "data.head()[['airline_sentiment','text','cleaned_text']]"
   ]
  },
  {
   "cell_type": "code",
   "execution_count": 127,
   "id": "2a4da738",
   "metadata": {
    "id": "2a4da738"
   },
   "outputs": [],
   "source": [
    "# Saving cleaned text and labels to variables\n",
    "text=data['cleaned_text'].values\n",
    "labels=data['airline_sentiment'].values"
   ]
  },
  {
   "cell_type": "code",
   "execution_count": 127,
   "id": "e31c0b88",
   "metadata": {
    "id": "e31c0b88"
   },
   "outputs": [],
   "source": []
  },
  {
   "cell_type": "code",
   "execution_count": 128,
   "id": "06d1fdb7",
   "metadata": {
    "id": "06d1fdb7"
   },
   "outputs": [],
   "source": [
    "#PREPARING INPUT AND OUTPUT"
   ]
  },
  {
   "cell_type": "code",
   "execution_count": 129,
   "id": "pGL1ES2ykkef",
   "metadata": {
    "id": "pGL1ES2ykkef"
   },
   "outputs": [],
   "source": [
    "from sklearn.preprocessing import LabelEncoder\n",
    "le = LabelEncoder()"
   ]
  },
  {
   "cell_type": "code",
   "execution_count": 130,
   "id": "38c1e043",
   "metadata": {
    "id": "38c1e043"
   },
   "outputs": [],
   "source": [
    "# Using label encoder, convert textual labels (positive, negative, neutral) into numners\n",
    "le=LabelEncoder()\n",
    "\n",
    "#fit and transform target strings to a number\n",
    "labels=le.fit_transform(labels)"
   ]
  },
  {
   "cell_type": "code",
   "execution_count": 131,
   "id": "682147a9",
   "metadata": {
    "colab": {
     "base_uri": "https://localhost:8080/"
    },
    "id": "682147a9",
    "outputId": "efcd1e0a-3eb7-43ec-da44-c3479a2cd604"
   },
   "outputs": [
    {
     "data": {
      "text/plain": [
       "array(['negative', 'neutral', 'positive'], dtype=object)"
      ]
     },
     "execution_count": 131,
     "metadata": {},
     "output_type": "execute_result"
    }
   ],
   "source": [
    "le.classes_"
   ]
  },
  {
   "cell_type": "code",
   "execution_count": 132,
   "id": "72cca397",
   "metadata": {
    "colab": {
     "base_uri": "https://localhost:8080/"
    },
    "id": "72cca397",
    "outputId": "4c0481d9-3209-47e4-bff0-0dddcbd9d4ae"
   },
   "outputs": [
    {
     "data": {
      "text/plain": [
       "array([1, 1, 0, ..., 0, 0, 0])"
      ]
     },
     "execution_count": 132,
     "metadata": {},
     "output_type": "execute_result"
    }
   ],
   "source": [
    "labels"
   ]
  },
  {
   "cell_type": "code",
   "execution_count": 133,
   "id": "a63c3899",
   "metadata": {
    "colab": {
     "base_uri": "https://localhost:8080/"
    },
    "id": "a63c3899",
    "outputId": "83414f99-0811-494c-a905-41729856c3a6"
   },
   "outputs": [
    {
     "data": {
      "text/plain": [
       "13283"
      ]
     },
     "execution_count": 133,
     "metadata": {},
     "output_type": "execute_result"
    }
   ],
   "source": [
    "len(labels)"
   ]
  },
  {
   "cell_type": "code",
   "execution_count": 134,
   "id": "c267cbd4",
   "metadata": {
    "id": "c267cbd4"
   },
   "outputs": [],
   "source": [
    "#VISUALIZATION"
   ]
  },
  {
   "cell_type": "code",
   "execution_count": 135,
   "id": "aa34f41b",
   "metadata": {
    "colab": {
     "base_uri": "https://localhost:8080/",
     "height": 490
    },
    "id": "aa34f41b",
    "outputId": "4ce32395-34db-4cbb-add2-9fca0674a3c1"
   },
   "outputs": [
    {
     "data": {
      "text/plain": [
       "Text(0, 0.5, 'Count of sentences')"
      ]
     },
     "execution_count": 135,
     "metadata": {},
     "output_type": "execute_result"
    },
    {
     "data": {
      "image/png": "[encoded data removed]",
      "text/plain": [
       "<Figure size 640x480 with 1 Axes>"
      ]
     },
     "metadata": {},
     "output_type": "display_data"
    }
   ],
   "source": [
    "num=[len(i.split()) for i in text]\n",
    "plt.hist(num,bins=30)\n",
    "plt.title('Histogram: Length of sentences')\n",
    "plt.xlabel('Length of sentences')\n",
    "plt.ylabel('Count of sentences')"
   ]
  },
  {
   "cell_type": "code",
   "execution_count": 136,
   "id": "df496937",
   "metadata": {
    "id": "df496937"
   },
   "outputs": [],
   "source": [
    "max_len=28 # This is a hyper parameter which can be tuned"
   ]
  },
  {
   "cell_type": "code",
   "execution_count": 137,
   "id": "f6ec4740",
   "metadata": {
    "colab": {
     "base_uri": "https://localhost:8080/",
     "height": 105,
     "referenced_widgets": [
      "157e997fda114d4798e94165fbd4c645",
      "1e0e353291c34dfcab0ecad1f5ecf144",
      "a8eea26eca3a44aca6bad1fb639144f5",
      "6cf8ded0bc56431e9d6a92033dc25e24",
      "ee66ef49bd21445d931b8112fe789d30",
      "ce141fab163344119eab93dc9114a2fd",
      "7d474386522d40e38c55bc67aae60896",
      "2d463ebf8c52446d979bb5fcdbf17c1c",
      "77034badaccc48b696f19a694c438480",
      "6ead0f0f9c694b2580f175266e57b69a",
      "18b39343157b4af9a73d58793094c67d"
     ]
    },
    "id": "f6ec4740",
    "outputId": "d9ff1b61-f6e8-4c3f-8e14-2cd0df7edd16"
   },
   "outputs": [
    {
     "data": {
      "application/vnd.jupyter.widget-view+json": {
       "model_id": "157e997fda114d4798e94165fbd4c645",
       "version_major": 2,
       "version_minor": 0
      },
      "text/plain": [
       "  0%|          | 0/13283 [00:00<?, ?it/s]"
      ]
     },
     "metadata": {},
     "output_type": "display_data"
    },
    {
     "name": "stderr",
     "output_type": "stream",
     "text": [
      "/usr/local/lib/python3.10/dist-packages/transformers/tokenization_utils_base.py:2606: FutureWarning: The `pad_to_max_length` argument is deprecated and will be removed in a future version, use `padding=True` or `padding='longest'` to pad to the longest sequence in the batch, or use `padding='max_length'` to pad to a max length. In this case, you can give a specific length with `max_length` (e.g. `max_length=45`) or leave max_length to None to pad to the maximal input size of the model (e.g. 512 for Bert).\n",
      "  warnings.warn(\n"
     ]
    }
   ],
   "source": [
    "# Create an empty list to save integer sequence\n",
    "sent_id=[]\n",
    "\n",
    "# iterate over each tweet and encode it using bert tokenizer\n",
    "for i in notebook.tqdm(range(len(text))):\n",
    "  encoded_sent=tokenizer.encode(text[i],\n",
    "                                add_special_tokens=True,\n",
    "                                max_length= max_len,\n",
    "                                truncation=True,\n",
    "                                pad_to_max_length='right'\n",
    "                                )\n",
    "\n",
    "  # save integer sequence to a list\n",
    "  sent_id.append(encoded_sent)"
   ]
  },
  {
   "cell_type": "code",
   "execution_count": 138,
   "id": "0060ba7f",
   "metadata": {
    "colab": {
     "base_uri": "https://localhost:8080/"
    },
    "id": "0060ba7f",
    "outputId": "a7a584d7-23f3-45c9-c503-51496dd522c2"
   },
   "outputs": [
    {
     "name": "stdout",
     "output_type": "stream",
     "text": [
      "what said.\n"
     ]
    }
   ],
   "source": [
    "print(text[0])"
   ]
  },
  {
   "cell_type": "code",
   "execution_count": 139,
   "id": "23575697",
   "metadata": {
    "colab": {
     "base_uri": "https://localhost:8080/"
    },
    "id": "23575697",
    "outputId": "b8246166-acbc-4c64-d9f3-b4c3744af0e9"
   },
   "outputs": [
    {
     "name": "stdout",
     "output_type": "stream",
     "text": [
      "[101, 2054, 2056, 1012, 102, 0, 0, 0, 0, 0, 0, 0, 0, 0, 0, 0, 0, 0, 0, 0, 0, 0, 0, 0, 0, 0, 0, 0]\n"
     ]
    }
   ],
   "source": [
    "print(sent_id[0])"
   ]
  },
  {
   "cell_type": "code",
   "execution_count": 140,
   "id": "c6fc0a7d",
   "metadata": {
    "colab": {
     "base_uri": "https://localhost:8080/"
    },
    "id": "c6fc0a7d",
    "outputId": "cf547f23-d5ca-45f6-f6d9-a9a0cb9b00d5"
   },
   "outputs": [
    {
     "data": {
      "text/plain": [
       "13283"
      ]
     },
     "execution_count": 140,
     "metadata": {},
     "output_type": "execute_result"
    }
   ],
   "source": [
    "len(sent_id)"
   ]
  },
  {
   "cell_type": "code",
   "execution_count": 141,
   "id": "7ff21658",
   "metadata": {
    "id": "7ff21658"
   },
   "outputs": [],
   "source": [
    "attention_mask=[]\n",
    "\n",
    "for sent in sent_id:\n",
    "  attn_mask=[int(token_id>0) for token_id in sent]\n",
    "  attention_mask.append(attn_mask)"
   ]
  },
  {
   "cell_type": "code",
   "execution_count": 142,
   "id": "cb424834",
   "metadata": {
    "colab": {
     "base_uri": "https://localhost:8080/"
    },
    "id": "cb424834",
    "outputId": "7c9dd52b-6cd0-4f42-e2e2-90cd6092f012"
   },
   "outputs": [
    {
     "data": {
      "text/plain": [
       "13283"
      ]
     },
     "execution_count": 142,
     "metadata": {},
     "output_type": "execute_result"
    }
   ],
   "source": [
    "len(attention_mask)"
   ]
  },
  {
   "cell_type": "code",
   "execution_count": 142,
   "id": "59415e83",
   "metadata": {
    "id": "59415e83"
   },
   "outputs": [],
   "source": []
  },
  {
   "cell_type": "code",
   "execution_count": 143,
   "id": "LZ9vOQK4hJj0",
   "metadata": {
    "id": "LZ9vOQK4hJj0"
   },
   "outputs": [],
   "source": [
    "#Training and Validation Data"
   ]
  },
  {
   "cell_type": "code",
   "execution_count": 144,
   "id": "eYv3IpxDhK5Z",
   "metadata": {
    "id": "eYv3IpxDhK5Z"
   },
   "outputs": [],
   "source": [
    "# Splitting input data\n",
    "train_inputs,validation_inputs, train_labels,validation_labels=train_test_split(sent_id,labels,random_state=2018, test_size=0.1,stratify=labels)\n",
    "# Splitting masks\n",
    "train_mask,validation_mask,_,_= train_test_split(attention_mask,labels,random_state=2018,test_size=0.1,stratify=labels)\n",
    "\n"
   ]
  },
  {
   "cell_type": "code",
   "execution_count": 145,
   "id": "v4KgPiAvhK7r",
   "metadata": {
    "id": "v4KgPiAvhK7r"
   },
   "outputs": [],
   "source": [
    "# Converting all inputs and labels into torch tensors which is the required datatype for the BERT model\n",
    "\n",
    "train_inputs=torch.tensor(train_inputs)\n",
    "train_labels=torch.tensor(train_labels)\n",
    "train_mask=torch.tensor(train_mask)\n",
    "\n",
    "validation_inputs=torch.tensor(validation_inputs)\n",
    "validation_labels=torch.tensor(validation_labels)\n",
    "validation_mask=torch.tensor(validation_mask)"
   ]
  },
  {
   "cell_type": "code",
   "execution_count": 146,
   "id": "nKMuvqYDhK-I",
   "metadata": {
    "colab": {
     "base_uri": "https://localhost:8080/"
    },
    "id": "nKMuvqYDhK-I",
    "outputId": "a0bd717f-6a7a-44a6-839d-aa4e7bb7c32c"
   },
   "outputs": [
    {
     "data": {
      "text/plain": [
       "tensor([[ 101, 2061, 2008,  ..., 2138, 1997,  102],\n",
       "        [ 101, 2821, 1012,  ...,    0,    0,    0],\n",
       "        [ 101, 2339, 2052,  ...,    0,    0,    0],\n",
       "        ...,\n",
       "        [ 101, 4283, 2005,  ...,    0,    0,    0],\n",
       "        [ 101, 7632, 2045,  ..., 1018, 2847,  102],\n",
       "        [ 101, 2059, 2339,  ..., 2572, 1045,  102]])"
      ]
     },
     "execution_count": 146,
     "metadata": {},
     "output_type": "execute_result"
    }
   ],
   "source": [
    "validation_inputs"
   ]
  },
  {
   "cell_type": "code",
   "execution_count": 147,
   "id": "aF9WadNvhLAu",
   "metadata": {
    "id": "aF9WadNvhLAu"
   },
   "outputs": [],
   "source": [
    "# batch size\n",
    "batch_size=64\n",
    "\n",
    "# Creating Tensor Dataset for training data\n",
    "train_data=TensorDataset(train_inputs,train_mask,train_labels)\n",
    "\n",
    "# Defining a random sampler during training\n",
    "train_sampler=RandomSampler(train_data)\n",
    "\n",
    "# Creating iterator using DataLoader. This iterator supports batching, customized data loading order\n",
    "train_dataloader=DataLoader(train_data,sampler=train_sampler,batch_size=batch_size )\n",
    "\n",
    "# Creating tensor dataset for validation data\n",
    "validation_data=TensorDataset(validation_inputs,validation_mask,validation_labels)\n",
    "\n",
    "# Defining a sequential sampler during validation, bcz there is no need to shuffle the data. We just need to validate\n",
    "validation_sampler=SequentialSampler(validation_data)\n",
    "\n",
    "# Create an iterator over validation dataset\n",
    "validation_dataloader=DataLoader(validation_data,sampler=validation_sampler,batch_size=batch_size)\n",
    "\n"
   ]
  },
  {
   "cell_type": "code",
   "execution_count": 148,
   "id": "bV7dgNMDhLDe",
   "metadata": {
    "id": "bV7dgNMDhLDe"
   },
   "outputs": [],
   "source": [
    "# Create an iterator object\n",
    "iterator=iter(train_dataloader)\n",
    "\n",
    "# loads batch data\n",
    "sent_id,mask,target=iterator.__next__()"
   ]
  },
  {
   "cell_type": "code",
   "execution_count": 149,
   "id": "8cfXI6OShLGi",
   "metadata": {
    "colab": {
     "base_uri": "https://localhost:8080/"
    },
    "id": "8cfXI6OShLGi",
    "outputId": "b2f1d15d-b648-4b45-b8e7-948094ef350e"
   },
   "outputs": [
    {
     "data": {
      "text/plain": [
       "torch.Size([64, 28])"
      ]
     },
     "execution_count": 149,
     "metadata": {},
     "output_type": "execute_result"
    }
   ],
   "source": [
    "sent_id.shape"
   ]
  },
  {
   "cell_type": "code",
   "execution_count": 150,
   "id": "ETqeNw3vhTvD",
   "metadata": {
    "id": "ETqeNw3vhTvD"
   },
   "outputs": [],
   "source": [
    "outputs=bert(sent_id,attention_mask=mask)"
   ]
  },
  {
   "cell_type": "code",
   "execution_count": 151,
   "id": "qLUD4HcYhTxl",
   "metadata": {
    "colab": {
     "base_uri": "https://localhost:8080/"
    },
    "id": "qLUD4HcYhTxl",
    "outputId": "84196d83-08f2-4771-efe0-3a7e6c7fd9d0"
   },
   "outputs": [
    {
     "name": "stdout",
     "output_type": "stream",
     "text": [
      "Shape of Hidden States: torch.Size([64, 28, 768])\n",
      "Shape of CLS Hidden State: torch.Size([64, 768])\n"
     ]
    }
   ],
   "source": [
    "hidden_states=outputs[0]\n",
    "CLS_hidden_state=outputs[1]\n",
    "\n",
    "print(\"Shape of Hidden States:\",hidden_states.shape)\n",
    "print(\"Shape of CLS Hidden State:\",CLS_hidden_state.shape)"
   ]
  },
  {
   "cell_type": "code",
   "execution_count": 152,
   "id": "sgnEoT0JhT0e",
   "metadata": {
    "colab": {
     "base_uri": "https://localhost:8080/"
    },
    "id": "sgnEoT0JhT0e",
    "outputId": "709fd93b-baa7-45bd-b515-59a9ffdbe219"
   },
   "outputs": [
    {
     "data": {
      "text/plain": [
       "torch.Tensor"
      ]
     },
     "execution_count": 152,
     "metadata": {},
     "output_type": "execute_result"
    }
   ],
   "source": [
    "type(hidden_states)"
   ]
  },
  {
   "cell_type": "code",
   "execution_count": 152,
   "id": "WBNasLNGhT29",
   "metadata": {
    "id": "WBNasLNGhT29"
   },
   "outputs": [],
   "source": []
  },
  {
   "cell_type": "code",
   "execution_count": 153,
   "id": "wedAIkzChT5e",
   "metadata": {
    "id": "wedAIkzChT5e"
   },
   "outputs": [],
   "source": [
    "#Fine-Tuning BERT"
   ]
  },
  {
   "cell_type": "code",
   "execution_count": 154,
   "id": "drp52GgwhT8C",
   "metadata": {
    "id": "drp52GgwhT8C"
   },
   "outputs": [],
   "source": [
    "# turn off the gradient of all parameters\n",
    "\n",
    "for param in bert.parameters():\n",
    "  param.requires_grad=False"
   ]
  },
  {
   "cell_type": "code",
   "execution_count": 155,
   "id": "jYtpseo-hT-o",
   "metadata": {
    "id": "jYtpseo-hT-o"
   },
   "outputs": [],
   "source": [
    "class classifier(nn.Module):\n",
    "\n",
    "    #define the layers and wrappers used by model\n",
    "    def __init__(self, bert):\n",
    "\n",
    "      #constructor\n",
    "      super(classifier, self).__init__()\n",
    "\n",
    "      #bert model\n",
    "      self.bert = bert\n",
    "\n",
    "      # dense layer 1\n",
    "      self.fc1 = nn.Linear(768,512)\n",
    "\n",
    "      #dense layer 2 (Output layer)\n",
    "      self.fc2 = nn.Linear(512,3)\n",
    "\n",
    "      #dropout layer\n",
    "      self.dropout = nn.Dropout(0.1)\n",
    "\n",
    "      #relu activation function\n",
    "      self.relu =  nn.ReLU()\n",
    "\n",
    "      #softmax activation function\n",
    "      self.softmax = nn.LogSoftmax(dim=1)\n",
    "\n",
    "    #define the forward pass\n",
    "    def forward(self, sent_id, mask):\n",
    "\n",
    "      #pass the inputs to the model\n",
    "      all_hidden_states, cls_hidden_state = self.bert(sent_id, attention_mask=mask, return_dict=False)\n",
    "\n",
    "      #pass CLS hidden state to dense layer\n",
    "      x = self.fc1(cls_hidden_state)\n",
    "\n",
    "      #Apply ReLU activation function\n",
    "      x = self.relu(x)\n",
    "\n",
    "      #Apply Dropout\n",
    "      x = self.dropout(x)\n",
    "\n",
    "      #pass input to the output layer\n",
    "      x = self.fc2(x)\n",
    "\n",
    "      #apply softmax activation\n",
    "      x = self.softmax(x)\n",
    "\n",
    "      return x"
   ]
  },
  {
   "cell_type": "code",
   "execution_count": 156,
   "id": "ZjR2W8ZBhc4y",
   "metadata": {
    "id": "ZjR2W8ZBhc4y"
   },
   "outputs": [],
   "source": [
    "# create the model\n",
    "model=classifier(bert)\n",
    "\n",
    "# push the model to GPU, if available\n",
    "model=model.to(device)"
   ]
  },
  {
   "cell_type": "code",
   "execution_count": 157,
   "id": "y_9kbzW5hc8B",
   "metadata": {
    "colab": {
     "base_uri": "https://localhost:8080/"
    },
    "id": "y_9kbzW5hc8B",
    "outputId": "abfd54e6-5d60-4704-e194-afa6b22dfc2d"
   },
   "outputs": [
    {
     "data": {
      "text/plain": [
       "classifier(\n",
       "  (bert): BertModel(\n",
       "    (embeddings): BertEmbeddings(\n",
       "      (word_embeddings): Embedding(30522, 768, padding_idx=0)\n",
       "      (position_embeddings): Embedding(512, 768)\n",
       "      (token_type_embeddings): Embedding(2, 768)\n",
       "      (LayerNorm): LayerNorm((768,), eps=1e-12, elementwise_affine=True)\n",
       "      (dropout): Dropout(p=0.1, inplace=False)\n",
       "    )\n",
       "    (encoder): BertEncoder(\n",
       "      (layer): ModuleList(\n",
       "        (0-11): 12 x BertLayer(\n",
       "          (attention): BertAttention(\n",
       "            (self): BertSelfAttention(\n",
       "              (query): Linear(in_features=768, out_features=768, bias=True)\n",
       "              (key): Linear(in_features=768, out_features=768, bias=True)\n",
       "              (value): Linear(in_features=768, out_features=768, bias=True)\n",
       "              (dropout): Dropout(p=0.1, inplace=False)\n",
       "            )\n",
       "            (output): BertSelfOutput(\n",
       "              (dense): Linear(in_features=768, out_features=768, bias=True)\n",
       "              (LayerNorm): LayerNorm((768,), eps=1e-12, elementwise_affine=True)\n",
       "              (dropout): Dropout(p=0.1, inplace=False)\n",
       "            )\n",
       "          )\n",
       "          (intermediate): BertIntermediate(\n",
       "            (dense): Linear(in_features=768, out_features=3072, bias=True)\n",
       "            (intermediate_act_fn): GELUActivation()\n",
       "          )\n",
       "          (output): BertOutput(\n",
       "            (dense): Linear(in_features=3072, out_features=768, bias=True)\n",
       "            (LayerNorm): LayerNorm((768,), eps=1e-12, elementwise_affine=True)\n",
       "            (dropout): Dropout(p=0.1, inplace=False)\n",
       "          )\n",
       "        )\n",
       "      )\n",
       "    )\n",
       "    (pooler): BertPooler(\n",
       "      (dense): Linear(in_features=768, out_features=768, bias=True)\n",
       "      (activation): Tanh()\n",
       "    )\n",
       "  )\n",
       "  (fc1): Linear(in_features=768, out_features=512, bias=True)\n",
       "  (fc2): Linear(in_features=512, out_features=3, bias=True)\n",
       "  (dropout): Dropout(p=0.1, inplace=False)\n",
       "  (relu): ReLU()\n",
       "  (softmax): LogSoftmax(dim=1)\n",
       ")"
      ]
     },
     "execution_count": 157,
     "metadata": {},
     "output_type": "execute_result"
    }
   ],
   "source": [
    "# model arcitecture\n",
    "model"
   ]
  },
  {
   "cell_type": "code",
   "execution_count": 158,
   "id": "DOPdyaAshc-q",
   "metadata": {
    "colab": {
     "base_uri": "https://localhost:8080/"
    },
    "id": "DOPdyaAshc-q",
    "outputId": "7b2f764c-344d-4755-c08d-ea27478b3b9c"
   },
   "outputs": [
    {
     "data": {
      "text/plain": [
       "torch.Tensor"
      ]
     },
     "execution_count": 158,
     "metadata": {},
     "output_type": "execute_result"
    }
   ],
   "source": [
    "type(sent_id)"
   ]
  },
  {
   "cell_type": "code",
   "execution_count": 159,
   "id": "J71psuulhdBh",
   "metadata": {
    "id": "J71psuulhdBh"
   },
   "outputs": [],
   "source": [
    "# push the tensors to GPU\n",
    "sent_id=sent_id.to(device)\n",
    "mask=mask.to(device)\n",
    "target=target.to(device)\n"
   ]
  },
  {
   "cell_type": "code",
   "execution_count": 160,
   "id": "k7KrEH9fhdD4",
   "metadata": {
    "id": "k7KrEH9fhdD4"
   },
   "outputs": [],
   "source": [
    "# pass inputs to the model\n",
    "outputs=model(sent_id,mask)"
   ]
  },
  {
   "cell_type": "code",
   "execution_count": 161,
   "id": "GW4gAmGMhdGx",
   "metadata": {
    "id": "GW4gAmGMhdGx"
   },
   "outputs": [],
   "source": [
    "outputs=outputs.to(device)"
   ]
  },
  {
   "cell_type": "code",
   "execution_count": 162,
   "id": "NR4BYkpdhdJD",
   "metadata": {
    "colab": {
     "base_uri": "https://localhost:8080/"
    },
    "id": "NR4BYkpdhdJD",
    "outputId": "5a8c8448-8109-42e5-98ee-3e1087e7a1da"
   },
   "outputs": [
    {
     "name": "stdout",
     "output_type": "stream",
     "text": [
      "tensor([[-1.2232, -1.0100, -1.0744],\n",
      "        [-1.1630, -1.1001, -1.0368],\n",
      "        [-1.2991, -0.9757, -1.0490],\n",
      "        [-1.1139, -1.0148, -1.1737],\n",
      "        [-1.2009, -1.0234, -1.0797],\n",
      "        [-1.1697, -1.0318, -1.0991],\n",
      "        [-1.0872, -1.0524, -1.1592],\n",
      "        [-1.2265, -0.9934, -1.0895],\n",
      "        [-1.1732, -1.0778, -1.0490],\n",
      "        [-1.1801, -1.0813, -1.0397],\n",
      "        [-1.1764, -1.0488, -1.0752],\n",
      "        [-1.1602, -1.0256, -1.1148],\n",
      "        [-1.2054, -1.0620, -1.0366],\n",
      "        [-1.1465, -1.0620, -1.0892],\n",
      "        [-1.2220, -1.0083, -1.0773],\n",
      "        [-1.2599, -0.9961, -1.0584],\n",
      "        [-1.2138, -1.0896, -1.0035],\n",
      "        [-1.1712, -1.1177, -1.0134],\n",
      "        [-1.2372, -1.0056, -1.0672],\n",
      "        [-1.1331, -1.1503, -1.0178],\n",
      "        [-1.2231, -1.0425, -1.0409],\n",
      "        [-1.1484, -1.1201, -1.0311],\n",
      "        [-1.2305, -0.9841, -1.0963],\n",
      "        [-1.2644, -0.9668, -1.0868],\n",
      "        [-1.1275, -1.0897, -1.0793],\n",
      "        [-1.1852, -1.0842, -1.0324],\n",
      "        [-1.1931, -1.0517, -1.0574],\n",
      "        [-1.1857, -1.0545, -1.0611],\n",
      "        [-1.2097, -1.0274, -1.0677],\n",
      "        [-1.1815, -1.0492, -1.0701],\n",
      "        [-1.1104, -1.0503, -1.1371],\n",
      "        [-1.1696, -1.0490, -1.0811],\n",
      "        [-1.2009, -1.0319, -1.0708],\n",
      "        [-1.1560, -1.0016, -1.1458],\n",
      "        [-1.2123, -1.0040, -1.0905],\n",
      "        [-1.2090, -1.0525, -1.0428],\n",
      "        [-1.2269, -1.0298, -1.0506],\n",
      "        [-1.1871, -1.0303, -1.0846],\n",
      "        [-1.1873, -1.0200, -1.0955],\n",
      "        [-1.1152, -1.0546, -1.1275],\n",
      "        [-1.1781, -1.0283, -1.0950],\n",
      "        [-1.1709, -1.0207, -1.1099],\n",
      "        [-1.1761, -1.0342, -1.0906],\n",
      "        [-1.1532, -1.0311, -1.1154],\n",
      "        [-1.0658, -1.0251, -1.2147],\n",
      "        [-1.0293, -1.0305, -1.2521],\n",
      "        [-1.2047, -1.0635, -1.0356],\n",
      "        [-1.2065, -1.0597, -1.0379],\n",
      "        [-1.1798, -1.0853, -1.0360],\n",
      "        [-1.1391, -1.0284, -1.1323],\n",
      "        [-1.2485, -1.0418, -1.0210],\n",
      "        [-1.2462, -1.0245, -1.0401],\n",
      "        [-1.1619, -1.0094, -1.1312],\n",
      "        [-1.1140, -1.0380, -1.1470],\n",
      "        [-1.1645, -1.0683, -1.0662],\n",
      "        [-1.2286, -0.9953, -1.0856],\n",
      "        [-1.1400, -1.0602, -1.0972],\n",
      "        [-1.1500, -1.0331, -1.1164],\n",
      "        [-1.1303, -1.0630, -1.1038],\n",
      "        [-1.2427, -1.0062, -1.0619],\n",
      "        [-1.1400, -1.0412, -1.1173],\n",
      "        [-1.1931, -1.0781, -1.0315],\n",
      "        [-1.1844, -1.0609, -1.0558],\n",
      "        [-1.1058, -1.0606, -1.1307]], device='cuda:0',\n",
      "       grad_fn=<LogSoftmaxBackward0>)\n"
     ]
    }
   ],
   "source": [
    "print(outputs)"
   ]
  },
  {
   "cell_type": "code",
   "execution_count": 163,
   "id": "DL583m9UhUBN",
   "metadata": {
    "colab": {
     "base_uri": "https://localhost:8080/"
    },
    "id": "DL583m9UhUBN",
    "outputId": "0f9ed155-7f1e-4cf3-81f6-671aa111586d"
   },
   "outputs": [
    {
     "name": "stdout",
     "output_type": "stream",
     "text": [
      "The model has 395,267 trainable parameters\n"
     ]
    }
   ],
   "source": [
    "# no. of trainable parameters\n",
    "def count_parameters(model):\n",
    "  return sum(p.numel() for p in model.parameters() if p.requires_grad)\n",
    "\n",
    "print(f'The model has {count_parameters(model):,} trainable parameters')\n"
   ]
  },
  {
   "cell_type": "code",
   "execution_count": 164,
   "id": "vYeshFjzhUEK",
   "metadata": {
    "id": "vYeshFjzhUEK"
   },
   "outputs": [],
   "source": [
    "# Adam optmizer\n",
    "optimizer=torch.optim.Adam(model.parameters(),lr=0.0005)"
   ]
  },
  {
   "cell_type": "code",
   "execution_count": 165,
   "id": "meYVaRbzhn0U",
   "metadata": {
    "colab": {
     "base_uri": "https://localhost:8080/",
     "height": 486
    },
    "id": "meYVaRbzhn0U",
    "outputId": "3f5c7d37-8f4d-4780-ca4f-bfedb713a615"
   },
   "outputs": [
    {
     "data": {
      "text/plain": [
       "Text(0.5, 1.0, 'Class Distribution')"
      ]
     },
     "execution_count": 165,
     "metadata": {},
     "output_type": "execute_result"
    },
    {
     "data": {
      "image/png": "[encoded data removed]",
      "text/plain": [
       "<Figure size 500x500 with 1 Axes>"
      ]
     },
     "metadata": {},
     "output_type": "display_data"
    }
   ],
   "source": [
    "# Understnding class distribution\n",
    "\n",
    "keys=['0','1','2']\n",
    "\n",
    "# set figure size\n",
    "plt.figure(figsize=(5,5))\n",
    "\n",
    "# plot bar chart\n",
    "plt.bar(keys,class_counts)\n",
    "\n",
    "# set title\n",
    "plt.title('Class Distribution')"
   ]
  },
  {
   "cell_type": "code",
   "execution_count": 166,
   "id": "OO610M_shn3E",
   "metadata": {
    "colab": {
     "base_uri": "https://localhost:8080/"
    },
    "id": "OO610M_shn3E",
    "outputId": "c66a5341-b57f-4c9f-834f-0ad1ced20090"
   },
   "outputs": [
    {
     "name": "stdout",
     "output_type": "stream",
     "text": [
      "Class Weights: [0.53746864 1.55302233 2.01807961]\n"
     ]
    }
   ],
   "source": [
    "# library for array processing\n",
    "import numpy as np\n",
    "\n",
    "# computing the class weights\n",
    "class_weights=compute_class_weight(class_weight='balanced',classes=np.unique(labels),y=labels)\n",
    "print(\"Class Weights:\",class_weights)"
   ]
  },
  {
   "cell_type": "code",
   "execution_count": 167,
   "id": "lBKoMJg5hn6J",
   "metadata": {
    "id": "lBKoMJg5hn6J"
   },
   "outputs": [],
   "source": [
    "# Converting a list of class weights into a tensor\n",
    "weights=torch.tensor(class_weights, dtype=torch.float)\n",
    "\n",
    "# transferring weights to GPU\n",
    "weights=weights.to(device)\n",
    "\n",
    "# define the loss function\n",
    "cross_entropy=nn.NLLLoss(weight=weights)"
   ]
  },
  {
   "cell_type": "code",
   "execution_count": 168,
   "id": "3QWFZEqBhn8r",
   "metadata": {
    "colab": {
     "base_uri": "https://localhost:8080/"
    },
    "id": "3QWFZEqBhn8r",
    "outputId": "c5f482fa-f6d8-4103-eb63-9922d62c182e"
   },
   "outputs": [
    {
     "name": "stdout",
     "output_type": "stream",
     "text": [
      "tensor([0, 1, 2, 0, 0, 1, 0, 0, 0, 0, 0, 0, 0, 0, 0, 1, 1, 2, 0, 1, 0, 2, 0, 0,\n",
      "        0, 0, 0, 1, 0, 0, 2, 1, 0, 0, 0, 0, 0, 0, 2, 2, 1, 0, 0, 1, 2, 1, 0, 1,\n",
      "        0, 2, 1, 2, 0, 2, 2, 0, 2, 2, 0, 0, 0, 1, 0, 2], device='cuda:0')\n",
      "Loss:  tensor(1.1130, device='cuda:0', grad_fn=<NllLossBackward0>)\n"
     ]
    }
   ],
   "source": [
    "# Computing the loss\n",
    "print(target)\n",
    "#print(outputs)\n",
    "loss=cross_entropy(outputs,target)\n",
    "print('Loss: ',loss)"
   ]
  },
  {
   "cell_type": "code",
   "execution_count": 169,
   "id": "s5fEZ5i_hn_Y",
   "metadata": {
    "id": "s5fEZ5i_hn_Y"
   },
   "outputs": [],
   "source": [
    "# Function for computing time in hh:mm:ss\n",
    "\n",
    "def format_time(elapsed):\n",
    "\n",
    "  elapsed_rounded=int(round(elapsed))\n",
    "\n",
    "  # format intp hh:mm:ss\n",
    "  return str(datetime.timedelta(seconds=elapsed_rounded))"
   ]
  },
  {
   "cell_type": "code",
   "execution_count": 170,
   "id": "6KWlYUVDhoB5",
   "metadata": {
    "id": "6KWlYUVDhoB5"
   },
   "outputs": [],
   "source": [
    "# Defining a training function for the model:\n",
    "\n",
    "def train():\n",
    "  print('\\n Training')\n",
    "\n",
    "  # set the model on training phase- Dropout layers are activated\n",
    "  model.train()\n",
    "  # recording current time\n",
    "  t0=time.time()\n",
    "  # initialize the loss and accuracy to 0\n",
    "  total_loss,total_accuracy=0,0\n",
    "\n",
    "  # Create an empty list to save the model prediction\n",
    "  total_preds=[]\n",
    "\n",
    "  # for every batch\n",
    "  for step, batch in enumerate(train_dataloader):\n",
    "    #Progress update after every 40 batches\n",
    "    if step % 40==0 and not step==0:\n",
    "      elapsed=format_time(time.time()-t0)         # Calculate elapsed time in minutes\n",
    "      print(' Batch{:>5,} of {:>5,}. Elapsed: {:}.'.format(step,len(train_dataloader),elapsed)) # Print progress\n",
    "    batch=tuple(t.to(device) for t in batch)      # push the batch to GPU\n",
    "\n",
    "    # batch is a part of all the records in train_dataloader. It contains 3 pytorch tensors:\n",
    "    # [0]: input ids\n",
    "    # [1]: attention masks\n",
    "    # [2]: labels\n",
    "\n",
    "    sent_id,mask,labels=batch\n",
    "\n",
    "    #Pytorch doesn't automatically clear previously calculated gradients, hence before performing a backward pass, clear previous gradients\n",
    "    model.zero_grad()\n",
    "\n",
    "    # Perform a forward pass. This returns the model predictions\n",
    "    preds=model(sent_id,mask)\n",
    "\n",
    "    # Compute the loss between actual and predicted values\n",
    "    loss=cross_entropy(preds,labels)\n",
    "\n",
    "    #Accumulate training loss over all the batches, so that we can calculate the average loss at the end\n",
    "    # loss is a tensor containing a single value.\n",
    "    # .itme() method just returns the Python value from the tensor\n",
    "\n",
    "    total_loss=total_loss+loss.item()\n",
    "\n",
    "    # Perform backward pass to calculate the gradients\n",
    "    loss.backward()\n",
    "    # During backward pass, information about parameter changes flows backwards, from the output to the hidden layers to the input\n",
    "\n",
    "    optimizer.step()\n",
    "    # Update parameters and take a step using the computed gradient.\n",
    "    # Here, the optimizer dictates the update rule = how the parameters are modified based on their gradients, learning rate and so on.\n",
    "\n",
    "    # The model predictions are stored on GPU, so push it to CPU\n",
    "    preds=preds.detach().cpu().numpy()\n",
    "\n",
    "    # Accumulate model predicitons of each batch\n",
    "    total_preds.append(preds)\n",
    "\n",
    "\n",
    "\n",
    "    # Compute the training loss of an epoch\n",
    "  avg_loss=total_loss/len(train_dataloader)\n",
    "\n",
    "  # The prediction are in the form of (no. of batches, size of batch, no. of classes)\n",
    "  # So we need to resahpe the predictions in the form of number of samples x number of classes\n",
    "\n",
    "  total_preds=np.concatenate(total_preds, axis=0)\n",
    "\n",
    "  return avg_loss,total_preds"
   ]
  },
  {
   "cell_type": "code",
   "execution_count": 170,
   "id": "7Y5cxmtwh2t1",
   "metadata": {
    "id": "7Y5cxmtwh2t1"
   },
   "outputs": [],
   "source": []
  },
  {
   "cell_type": "code",
   "execution_count": 171,
   "id": "ccHCj3Xoh2wf",
   "metadata": {
    "id": "ccHCj3Xoh2wf"
   },
   "outputs": [],
   "source": [
    "#EVALUATION"
   ]
  },
  {
   "cell_type": "code",
   "execution_count": 172,
   "id": "w8bebGxWh2zS",
   "metadata": {
    "id": "w8bebGxWh2zS"
   },
   "outputs": [],
   "source": [
    "# define a function for evaluating the model\n",
    "\n",
    "def evaluate():\n",
    "  print(\"'n Evaluating....\")\n",
    "\n",
    "  # set the model on validation phase. Here dropout layers are deactivated\n",
    "  model.eval()\n",
    "\n",
    "  # record the current time\n",
    "  t0=time.time()\n",
    "\n",
    "  # initialize loss and accuracy to 0\n",
    "  total_loss, total_accuracy=0,0\n",
    "\n",
    "  # Create an empty list to save model predicitons\n",
    "  total_preds=[]\n",
    "\n",
    "  # for each batch\n",
    "\n",
    "  for step, batch in enumerate(validation_dataloader):\n",
    "    if step%40==0 and not step ==0:\n",
    "      elapsed=format_time(time.time()-t0)\n",
    "      print('  Batch {:>5,}  of  {:>5,}.    Elapsed: {:}.'.format(step, len(validation_dataloader), elapsed))\n",
    "\n",
    "    batch=tuple(t.to(device) for t in batch)\n",
    "    sent_id,mask,labels=batch\n",
    "\n",
    "    #deactivate autograd\n",
    "    with torch.no_grad():\n",
    "\n",
    "      preds=model(sent_id,mask)\n",
    "      loss=cross_entropy(preds,labels)\n",
    "      total_loss=total_loss+loss.item()\n",
    "      preds=preds.detach().cpu().numpy()\n",
    "      total_preds.append(preds)\n",
    "\n",
    "    avg_loss=total_loss/len(validation_dataloader)\n",
    "\n",
    "    total_preds=np.concatenate(total_preds,axis=0)\n",
    "\n",
    "    return avg_loss,total_preds\n"
   ]
  },
  {
   "cell_type": "code",
   "execution_count": 173,
   "id": "HvkCfaMnh22F",
   "metadata": {
    "id": "HvkCfaMnh22F"
   },
   "outputs": [],
   "source": [
    "#define a function for evaluating the model\n",
    "def evaluate():\n",
    "\n",
    "  print(\"\\nEvaluating.....\")\n",
    "\n",
    "  #set the model on training phase - Dropout layers are deactivated\n",
    "  model.eval()\n",
    "\n",
    "  #record the current time\n",
    "  t0 = time.time()\n",
    "\n",
    "  #initialize the loss and accuracy to 0\n",
    "  total_loss, total_accuracy = 0, 0\n",
    "\n",
    "  #Create a empty list to save the model predictions\n",
    "  total_preds = []\n",
    "\n",
    "  #for each batch\n",
    "  for step,batch in enumerate(validation_dataloader):\n",
    "\n",
    "    # Progress update every 40 batches.\n",
    "    if step % 40 == 0 and not step == 0:\n",
    "\n",
    "      # Calculate elapsed time in minutes.\n",
    "      elapsed = format_time(time.time() - t0)\n",
    "\n",
    "      # Report progress.\n",
    "      print('  Batch {:>5,}  of  {:>5,}.    Elapsed: {:}.'.format(step, len(validation_dataloader), elapsed))\n",
    "\n",
    "    #push the batch to gpu\n",
    "    batch = tuple(t.to(device) for t in batch)\n",
    "\n",
    "    #unpack the batch into separate variables\n",
    "    # `batch` contains three pytorch tensors:\n",
    "    #   [0]: input ids\n",
    "    #   [1]: attention masks\n",
    "    #   [2]: labels\n",
    "    sent_id, mask, labels = batch\n",
    "\n",
    "    #deactivates autograd\n",
    "    with torch.no_grad():\n",
    "\n",
    "      # Perform a forward pass. This returns the model predictions\n",
    "      preds = model(sent_id, mask)\n",
    "\n",
    "      #compute the validation loss between actual and predicted values\n",
    "      loss = cross_entropy(preds,labels)\n",
    "\n",
    "      # Accumulate the validation loss over all of the batches so that we can\n",
    "      # calculate the average loss at the end. `loss` is a Tensor containing a\n",
    "      # single value; the `.item()` function just returns the Python value\n",
    "      # from the tensor.\n",
    "      total_loss = total_loss + loss.item()\n",
    "\n",
    "      #The model predictions are stored on GPU. So, push it to CPU\n",
    "      preds=preds.detach().cpu().numpy()\n",
    "\n",
    "      #Accumulate the model predictions of each batch\n",
    "      total_preds.append(preds)\n",
    "\n",
    "  #compute the validation loss of a epoch\n",
    "  avg_loss = total_loss / len(validation_dataloader)\n",
    "\n",
    "  #The predictions are in the form of (no. of batches, size of batch, no. of classes).\n",
    "  #So, reshaping the predictions in form of (number of samples, no. of classes)\n",
    "  total_preds  = np.concatenate(total_preds, axis=0)\n",
    "\n",
    "  return avg_loss, total_preds"
   ]
  },
  {
   "cell_type": "code",
   "execution_count": 173,
   "id": "DgXrNvQRh86U",
   "metadata": {
    "id": "DgXrNvQRh86U"
   },
   "outputs": [],
   "source": []
  },
  {
   "cell_type": "code",
   "execution_count": 174,
   "id": "aDc-q4aMh887",
   "metadata": {
    "id": "aDc-q4aMh887"
   },
   "outputs": [],
   "source": [
    "#TRAIN MODEL"
   ]
  },
  {
   "cell_type": "code",
   "execution_count": 175,
   "id": "BF4oIGDLh8_x",
   "metadata": {
    "colab": {
     "base_uri": "https://localhost:8080/"
    },
    "id": "BF4oIGDLh8_x",
    "outputId": "34adce6e-40d3-4216-8d6c-5b33b08c127d"
   },
   "outputs": [
    {
     "name": "stdout",
     "output_type": "stream",
     "text": [
      "\n",
      " ............epoch 1 / 5 .......\n",
      "\n",
      " Training\n",
      " Batch   40 of   187. Elapsed: 0:00:04.\n",
      " Batch   80 of   187. Elapsed: 0:00:08.\n",
      " Batch  120 of   187. Elapsed: 0:00:12.\n",
      " Batch  160 of   187. Elapsed: 0:00:16.\n",
      "\n",
      "Evaluating.....\n",
      "\n",
      "Training Loss: 0.990\n",
      "Validation Loss: 0.910\n",
      "\n",
      " ............epoch 2 / 5 .......\n",
      "\n",
      " Training\n",
      " Batch   40 of   187. Elapsed: 0:00:04.\n",
      " Batch   80 of   187. Elapsed: 0:00:09.\n",
      " Batch  120 of   187. Elapsed: 0:00:13.\n",
      " Batch  160 of   187. Elapsed: 0:00:17.\n",
      "\n",
      "Evaluating.....\n",
      "\n",
      "Training Loss: 0.824\n",
      "Validation Loss: 0.775\n",
      "\n",
      " ............epoch 3 / 5 .......\n",
      "\n",
      " Training\n",
      " Batch   40 of   187. Elapsed: 0:00:04.\n",
      " Batch   80 of   187. Elapsed: 0:00:09.\n",
      " Batch  120 of   187. Elapsed: 0:00:14.\n",
      " Batch  160 of   187. Elapsed: 0:00:18.\n",
      "\n",
      "Evaluating.....\n",
      "\n",
      "Training Loss: 0.774\n",
      "Validation Loss: 0.722\n",
      "\n",
      " ............epoch 4 / 5 .......\n",
      "\n",
      " Training\n",
      " Batch   40 of   187. Elapsed: 0:00:04.\n",
      " Batch   80 of   187. Elapsed: 0:00:09.\n",
      " Batch  120 of   187. Elapsed: 0:00:14.\n",
      " Batch  160 of   187. Elapsed: 0:00:18.\n",
      "\n",
      "Evaluating.....\n",
      "\n",
      "Training Loss: 0.746\n",
      "Validation Loss: 0.771\n",
      "\n",
      " ............epoch 5 / 5 .......\n",
      "\n",
      " Training\n",
      " Batch   40 of   187. Elapsed: 0:00:04.\n",
      " Batch   80 of   187. Elapsed: 0:00:09.\n",
      " Batch  120 of   187. Elapsed: 0:00:13.\n",
      " Batch  160 of   187. Elapsed: 0:00:18.\n",
      "\n",
      "Evaluating.....\n",
      "\n",
      "Training Loss: 0.744\n",
      "Validation Loss: 0.698\n",
      "\n",
      "Training complete!\n"
     ]
    }
   ],
   "source": [
    "# Assign the initial loss to infinite\n",
    "best_valid_loss=float('inf')\n",
    "\n",
    "# Create an empty list to store training and validation loss of each epoch\n",
    "train_losses=[]\n",
    "valid_losses=[]\n",
    "\n",
    "epochs=5\n",
    "\n",
    "#for each epoch repeat call the train() method\n",
    "for epoch in range(epochs):\n",
    "  print('\\n ............epoch {:} / {:} .......'.format(epoch + 1, epochs))\n",
    "\n",
    "  #train model\n",
    "  train_loss,_ =train()\n",
    "\n",
    "  #evaluate model\n",
    "  valid_loss,_=evaluate()\n",
    "\n",
    "  # save the best model\n",
    "  if valid_loss<best_valid_loss:\n",
    "    best_valid_loss=valid_loss\n",
    "    torch.save(model.state_dict(),'Saved_weights.pt')\n",
    "\n",
    "  # Accumulate training and validaion loss\n",
    "  train_losses.append(train_loss)\n",
    "  valid_losses.append(valid_loss)\n",
    "\n",
    "  print(f'\\nTraining Loss: {train_loss:.3f}')\n",
    "  print(f'Validation Loss: {valid_loss:.3f}')\n",
    "\n",
    "print(\"\")\n",
    "print(\"Training complete!\")"
   ]
  },
  {
   "cell_type": "code",
   "execution_count": 175,
   "id": "cfGMJVP-h9CZ",
   "metadata": {
    "id": "cfGMJVP-h9CZ"
   },
   "outputs": [],
   "source": []
  },
  {
   "cell_type": "code",
   "execution_count": 176,
   "id": "BotM1tSTh9E1",
   "metadata": {
    "id": "BotM1tSTh9E1"
   },
   "outputs": [],
   "source": [
    "#EVALUATE MODEL"
   ]
  },
  {
   "cell_type": "code",
   "execution_count": 177,
   "id": "jhrdSdAyh9Hh",
   "metadata": {
    "colab": {
     "base_uri": "https://localhost:8080/"
    },
    "id": "jhrdSdAyh9Hh",
    "outputId": "0f2a57e8-658f-4692-86f7-463c91cb6c1c"
   },
   "outputs": [
    {
     "data": {
      "text/plain": [
       "<All keys matched successfully>"
      ]
     },
     "execution_count": 177,
     "metadata": {},
     "output_type": "execute_result"
    }
   ],
   "source": [
    "  # load weights of best model\n",
    "path='Saved_weights.pt'\n",
    "model.load_state_dict(torch.load(path))"
   ]
  },
  {
   "cell_type": "code",
   "execution_count": 178,
   "id": "k8sLO-SPh24y",
   "metadata": {
    "colab": {
     "base_uri": "https://localhost:8080/"
    },
    "id": "k8sLO-SPh24y",
    "outputId": "27116e66-a310-4f36-b753-57d99a94a530"
   },
   "outputs": [
    {
     "name": "stdout",
     "output_type": "stream",
     "text": [
      "\n",
      "Evaluating.....\n",
      "0.698055747009459\n"
     ]
    }
   ],
   "source": [
    "# get the model prediction on the validation data\n",
    "valid_loss, preds=evaluate()\n",
    "# this returns 2 elements- Validation loss and prediction\n",
    "print(valid_loss)"
   ]
  },
  {
   "cell_type": "code",
   "execution_count": 179,
   "id": "oXwxSeVkh270",
   "metadata": {
    "id": "oXwxSeVkh270"
   },
   "outputs": [],
   "source": [
    "# Converting the log(probabilities) into class & then choosing index of maximum value as class\n",
    "y_pred=np.argmax(preds,axis=1)\n",
    "\n",
    "# actual labels\n",
    "y_true=validation_labels"
   ]
  },
  {
   "cell_type": "code",
   "execution_count": 180,
   "id": "nWbj5huZhoEx",
   "metadata": {
    "colab": {
     "base_uri": "https://localhost:8080/"
    },
    "id": "nWbj5huZhoEx",
    "outputId": "55ab881d-4140-42c7-db0a-376c649445dc"
   },
   "outputs": [
    {
     "name": "stdout",
     "output_type": "stream",
     "text": [
      "              precision    recall  f1-score   support\n",
      "\n",
      "           0       0.88      0.77      0.82       824\n",
      "           1       0.51      0.55      0.53       285\n",
      "           2       0.57      0.80      0.66       220\n",
      "\n",
      "    accuracy                           0.72      1329\n",
      "   macro avg       0.65      0.70      0.67      1329\n",
      "weighted avg       0.75      0.72      0.73      1329\n",
      "\n"
     ]
    }
   ],
   "source": [
    "print(classification_report(y_true,y_pred))"
   ]
  }
 ],
 "metadata": {
  "accelerator": "GPU",
  "colab": {
   "gpuType": "T4",
   "provenance": []
  },
  "kernelspec": {
   "display_name": "Python 3 (ipykernel)",
   "language": "python",
   "name": "python3"
  },
  "language_info": {
   "codemirror_mode": {
    "name": "ipython",
    "version": 3
   },
   "file_extension": ".py",
   "mimetype": "text/x-python",
   "name": "python",
   "nbconvert_exporter": "python",
   "pygments_lexer": "ipython3",
   "version": "3.11.3"
  },
  "widgets": {
   "application/vnd.jupyter.widget-state+json": {
    "157e997fda114d4798e94165fbd4c645": {
     "model_module": "@jupyter-widgets/controls",
     "model_module_version": "1.5.0",
     "model_name": "HBoxModel",
     "state": {
      "_dom_classes": [],
      "_model_module": "@jupyter-widgets/controls",
      "_model_module_version": "1.5.0",
      "_model_name": "HBoxModel",
      "_view_count": null,
      "_view_module": "@jupyter-widgets/controls",
      "_view_module_version": "1.5.0",
      "_view_name": "HBoxView",
      "box_style": "",
      "children": [
       "IPY_MODEL_1e0e353291c34dfcab0ecad1f5ecf144",
       "IPY_MODEL_a8eea26eca3a44aca6bad1fb639144f5",
       "IPY_MODEL_6cf8ded0bc56431e9d6a92033dc25e24"
      ],
      "layout": "IPY_MODEL_ee66ef49bd21445d931b8112fe789d30"
     }
    },
    "18b39343157b4af9a73d58793094c67d": {
     "model_module": "@jupyter-widgets/controls",
     "model_module_version": "1.5.0",
     "model_name": "DescriptionStyleModel",
     "state": {
      "_model_module": "@jupyter-widgets/controls",
      "_model_module_version": "1.5.0",
      "_model_name": "DescriptionStyleModel",
      "_view_count": null,
      "_view_module": "@jupyter-widgets/base",
      "_view_module_version": "1.2.0",
      "_view_name": "StyleView",
      "description_width": ""
     }
    },
    "1e0e353291c34dfcab0ecad1f5ecf144": {
     "model_module": "@jupyter-widgets/controls",
     "model_module_version": "1.5.0",
     "model_name": "HTMLModel",
     "state": {
      "_dom_classes": [],
      "_model_module": "@jupyter-widgets/controls",
      "_model_module_version": "1.5.0",
      "_model_name": "HTMLModel",
      "_view_count": null,
      "_view_module": "@jupyter-widgets/controls",
      "_view_module_version": "1.5.0",
      "_view_name": "HTMLView",
      "description": "",
      "description_tooltip": null,
      "layout": "IPY_MODEL_ce141fab163344119eab93dc9114a2fd",
      "placeholder": "​",
      "style": "IPY_MODEL_7d474386522d40e38c55bc67aae60896",
      "value": "100%"
     }
    },
    "2d463ebf8c52446d979bb5fcdbf17c1c": {
     "model_module": "@jupyter-widgets/base",
     "model_module_version": "1.2.0",
     "model_name": "LayoutModel",
     "state": {
      "_model_module": "@jupyter-widgets/base",
      "_model_module_version": "1.2.0",
      "_model_name": "LayoutModel",
      "_view_count": null,
      "_view_module": "@jupyter-widgets/base",
      "_view_module_version": "1.2.0",
      "_view_name": "LayoutView",
      "align_content": null,
      "align_items": null,
      "align_self": null,
      "border": null,
      "bottom": null,
      "display": null,
      "flex": null,
      "flex_flow": null,
      "grid_area": null,
      "grid_auto_columns": null,
      "grid_auto_flow": null,
      "grid_auto_rows": null,
      "grid_column": null,
      "grid_gap": null,
      "grid_row": null,
      "grid_template_areas": null,
      "grid_template_columns": null,
      "grid_template_rows": null,
      "height": null,
      "justify_content": null,
      "justify_items": null,
      "left": null,
      "margin": null,
      "max_height": null,
      "max_width": null,
      "min_height": null,
      "min_width": null,
      "object_fit": null,
      "object_position": null,
      "order": null,
      "overflow": null,
      "overflow_x": null,
      "overflow_y": null,
      "padding": null,
      "right": null,
      "top": null,
      "visibility": null,
      "width": null
     }
    },
    "6cf8ded0bc56431e9d6a92033dc25e24": {
     "model_module": "@jupyter-widgets/controls",
     "model_module_version": "1.5.0",
     "model_name": "HTMLModel",
     "state": {
      "_dom_classes": [],
      "_model_module": "@jupyter-widgets/controls",
      "_model_module_version": "1.5.0",
      "_model_name": "HTMLModel",
      "_view_count": null,
      "_view_module": "@jupyter-widgets/controls",
      "_view_module_version": "1.5.0",
      "_view_name": "HTMLView",
      "description": "",
      "description_tooltip": null,
      "layout": "IPY_MODEL_6ead0f0f9c694b2580f175266e57b69a",
      "placeholder": "​",
      "style": "IPY_MODEL_18b39343157b4af9a73d58793094c67d",
      "value": " 13283/13283 [00:03&lt;00:00, 5714.61it/s]"
     }
    },
    "6ead0f0f9c694b2580f175266e57b69a": {
     "model_module": "@jupyter-widgets/base",
     "model_module_version": "1.2.0",
     "model_name": "LayoutModel",
     "state": {
      "_model_module": "@jupyter-widgets/base",
      "_model_module_version": "1.2.0",
      "_model_name": "LayoutModel",
      "_view_count": null,
      "_view_module": "@jupyter-widgets/base",
      "_view_module_version": "1.2.0",
      "_view_name": "LayoutView",
      "align_content": null,
      "align_items": null,
      "align_self": null,
      "border": null,
      "bottom": null,
      "display": null,
      "flex": null,
      "flex_flow": null,
      "grid_area": null,
      "grid_auto_columns": null,
      "grid_auto_flow": null,
      "grid_auto_rows": null,
      "grid_column": null,
      "grid_gap": null,
      "grid_row": null,
      "grid_template_areas": null,
      "grid_template_columns": null,
      "grid_template_rows": null,
      "height": null,
      "justify_content": null,
      "justify_items": null,
      "left": null,
      "margin": null,
      "max_height": null,
      "max_width": null,
      "min_height": null,
      "min_width": null,
      "object_fit": null,
      "object_position": null,
      "order": null,
      "overflow": null,
      "overflow_x": null,
      "overflow_y": null,
      "padding": null,
      "right": null,
      "top": null,
      "visibility": null,
      "width": null
     }
    },
    "77034badaccc48b696f19a694c438480": {
     "model_module": "@jupyter-widgets/controls",
     "model_module_version": "1.5.0",
     "model_name": "ProgressStyleModel",
     "state": {
      "_model_module": "@jupyter-widgets/controls",
      "_model_module_version": "1.5.0",
      "_model_name": "ProgressStyleModel",
      "_view_count": null,
      "_view_module": "@jupyter-widgets/base",
      "_view_module_version": "1.2.0",
      "_view_name": "StyleView",
      "bar_color": null,
      "description_width": ""
     }
    },
    "7d474386522d40e38c55bc67aae60896": {
     "model_module": "@jupyter-widgets/controls",
     "model_module_version": "1.5.0",
     "model_name": "DescriptionStyleModel",
     "state": {
      "_model_module": "@jupyter-widgets/controls",
      "_model_module_version": "1.5.0",
      "_model_name": "DescriptionStyleModel",
      "_view_count": null,
      "_view_module": "@jupyter-widgets/base",
      "_view_module_version": "1.2.0",
      "_view_name": "StyleView",
      "description_width": ""
     }
    },
    "a8eea26eca3a44aca6bad1fb639144f5": {
     "model_module": "@jupyter-widgets/controls",
     "model_module_version": "1.5.0",
     "model_name": "FloatProgressModel",
     "state": {
      "_dom_classes": [],
      "_model_module": "@jupyter-widgets/controls",
      "_model_module_version": "1.5.0",
      "_model_name": "FloatProgressModel",
      "_view_count": null,
      "_view_module": "@jupyter-widgets/controls",
      "_view_module_version": "1.5.0",
      "_view_name": "ProgressView",
      "bar_style": "success",
      "description": "",
      "description_tooltip": null,
      "layout": "IPY_MODEL_2d463ebf8c52446d979bb5fcdbf17c1c",
      "max": 13283,
      "min": 0,
      "orientation": "horizontal",
      "style": "IPY_MODEL_77034badaccc48b696f19a694c438480",
      "value": 13283
     }
    },
    "ce141fab163344119eab93dc9114a2fd": {
     "model_module": "@jupyter-widgets/base",
     "model_module_version": "1.2.0",
     "model_name": "LayoutModel",
     "state": {
      "_model_module": "@jupyter-widgets/base",
      "_model_module_version": "1.2.0",
      "_model_name": "LayoutModel",
      "_view_count": null,
      "_view_module": "@jupyter-widgets/base",
      "_view_module_version": "1.2.0",
      "_view_name": "LayoutView",
      "align_content": null,
      "align_items": null,
      "align_self": null,
      "border": null,
      "bottom": null,
      "display": null,
      "flex": null,
      "flex_flow": null,
      "grid_area": null,
      "grid_auto_columns": null,
      "grid_auto_flow": null,
      "grid_auto_rows": null,
      "grid_column": null,
      "grid_gap": null,
      "grid_row": null,
      "grid_template_areas": null,
      "grid_template_columns": null,
      "grid_template_rows": null,
      "height": null,
      "justify_content": null,
      "justify_items": null,
      "left": null,
      "margin": null,
      "max_height": null,
      "max_width": null,
      "min_height": null,
      "min_width": null,
      "object_fit": null,
      "object_position": null,
      "order": null,
      "overflow": null,
      "overflow_x": null,
      "overflow_y": null,
      "padding": null,
      "right": null,
      "top": null,
      "visibility": null,
      "width": null
     }
    },
    "ee66ef49bd21445d931b8112fe789d30": {
     "model_module": "@jupyter-widgets/base",
     "model_module_version": "1.2.0",
     "model_name": "LayoutModel",
     "state": {
      "_model_module": "@jupyter-widgets/base",
      "_model_module_version": "1.2.0",
      "_model_name": "LayoutModel",
      "_view_count": null,
      "_view_module": "@jupyter-widgets/base",
      "_view_module_version": "1.2.0",
      "_view_name": "LayoutView",
      "align_content": null,
      "align_items": null,
      "align_self": null,
      "border": null,
      "bottom": null,
      "display": null,
      "flex": null,
      "flex_flow": null,
      "grid_area": null,
      "grid_auto_columns": null,
      "grid_auto_flow": null,
      "grid_auto_rows": null,
      "grid_column": null,
      "grid_gap": null,
      "grid_row": null,
      "grid_template_areas": null,
      "grid_template_columns": null,
      "grid_template_rows": null,
      "height": null,
      "justify_content": null,
      "justify_items": null,
      "left": null,
      "margin": null,
      "max_height": null,
      "max_width": null,
      "min_height": null,
      "min_width": null,
      "object_fit": null,
      "object_position": null,
      "order": null,
      "overflow": null,
      "overflow_x": null,
      "overflow_y": null,
      "padding": null,
      "right": null,
      "top": null,
      "visibility": null,
      "width": null
     }
    }
   }
  }
 },
 "nbformat": 4,
 "nbformat_minor": 5
}
